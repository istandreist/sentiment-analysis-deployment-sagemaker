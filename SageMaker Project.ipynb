{
 "cells": [
  {
   "cell_type": "markdown",
   "metadata": {},
   "source": [
    "# Creating a Sentiment Analysis Web App\n",
    "## Using PyTorch and SageMaker\n",
    "\n",
    "_Deep Learning Nanodegree Program | Deployment_\n",
    "\n",
    "---\n",
    "\n",
    "Now that we have a basic understanding of how SageMaker works we will try to use it to construct a complete project from end to end. Our goal will be to have a simple web page which a user can use to enter a movie review. The web page will then send the review off to our deployed model which will predict the sentiment of the entered review.\n",
    "\n",
    "## Instructions\n",
    "\n",
    "Some template code has already been provided for you, and you will need to implement additional functionality to successfully complete this notebook. You will not need to modify the included code beyond what is requested. Sections that begin with '**TODO**' in the header indicate that you need to complete or implement some portion within them. Instructions will be provided for each section and the specifics of the implementation are marked in the code block with a `# TODO: ...` comment. Please be sure to read the instructions carefully!\n",
    "\n",
    "In addition to implementing code, there will be questions for you to answer which relate to the task and your implementation. Each section where you will answer a question is preceded by a '**Question:**' header. Carefully read each question and provide your answer below the '**Answer:**' header by editing the Markdown cell.\n",
    "\n",
    "> **Note**: Code and Markdown cells can be executed using the **Shift+Enter** keyboard shortcut. In addition, a cell can be edited by typically clicking it (double-click for Markdown cells) or by pressing **Enter** while it is highlighted.\n",
    "\n",
    "## General Outline\n",
    "\n",
    "Recall the general outline for SageMaker projects using a notebook instance.\n",
    "\n",
    "1. Download or otherwise retrieve the data.\n",
    "2. Process / Prepare the data.\n",
    "3. Upload the processed data to S3.\n",
    "4. Train a chosen model.\n",
    "5. Test the trained model (typically using a batch transform job).\n",
    "6. Deploy the trained model.\n",
    "7. Use the deployed model.\n",
    "\n",
    "For this project, you will be following the steps in the general outline with some modifications. \n",
    "\n",
    "First, you will not be testing the model in its own step. You will still be testing the model, however, you will do it by deploying your model and then using the deployed model by sending the test data to it. One of the reasons for doing this is so that you can make sure that your deployed model is working correctly before moving forward.\n",
    "\n",
    "In addition, you will deploy and use your trained model a second time. In the second iteration you will customize the way that your trained model is deployed by including some of your own code. In addition, your newly deployed model will be used in the sentiment analysis web app."
   ]
  },
  {
   "cell_type": "code",
   "execution_count": 1,
   "metadata": {},
   "outputs": [
    {
     "name": "stdout",
     "output_type": "stream",
     "text": [
      "Requirement already satisfied: sagemaker==1.72.0 in /home/ec2-user/anaconda3/envs/pytorch_p36/lib/python3.6/site-packages (1.72.0)\n",
      "Requirement already satisfied: boto3>=1.14.12 in /home/ec2-user/anaconda3/envs/pytorch_p36/lib/python3.6/site-packages (from sagemaker==1.72.0) (1.17.70)\n",
      "Requirement already satisfied: scipy>=0.19.0 in /home/ec2-user/anaconda3/envs/pytorch_p36/lib/python3.6/site-packages (from sagemaker==1.72.0) (1.5.3)\n",
      "Requirement already satisfied: protobuf>=3.1 in /home/ec2-user/anaconda3/envs/pytorch_p36/lib/python3.6/site-packages (from sagemaker==1.72.0) (3.15.2)\n",
      "Requirement already satisfied: packaging>=20.0 in /home/ec2-user/anaconda3/envs/pytorch_p36/lib/python3.6/site-packages (from sagemaker==1.72.0) (20.9)\n",
      "Requirement already satisfied: numpy>=1.9.0 in /home/ec2-user/anaconda3/envs/pytorch_p36/lib/python3.6/site-packages (from sagemaker==1.72.0) (1.19.5)\n",
      "Requirement already satisfied: smdebug-rulesconfig==0.1.4 in /home/ec2-user/anaconda3/envs/pytorch_p36/lib/python3.6/site-packages (from sagemaker==1.72.0) (0.1.4)\n",
      "Requirement already satisfied: importlib-metadata>=1.4.0 in /home/ec2-user/anaconda3/envs/pytorch_p36/lib/python3.6/site-packages (from sagemaker==1.72.0) (3.7.0)\n",
      "Requirement already satisfied: protobuf3-to-dict>=0.1.5 in /home/ec2-user/anaconda3/envs/pytorch_p36/lib/python3.6/site-packages (from sagemaker==1.72.0) (0.1.5)\n",
      "Requirement already satisfied: s3transfer<0.5.0,>=0.4.0 in /home/ec2-user/anaconda3/envs/pytorch_p36/lib/python3.6/site-packages (from boto3>=1.14.12->sagemaker==1.72.0) (0.4.2)\n",
      "Requirement already satisfied: botocore<1.21.0,>=1.20.70 in /home/ec2-user/anaconda3/envs/pytorch_p36/lib/python3.6/site-packages (from boto3>=1.14.12->sagemaker==1.72.0) (1.20.70)\n",
      "Requirement already satisfied: jmespath<1.0.0,>=0.7.1 in /home/ec2-user/anaconda3/envs/pytorch_p36/lib/python3.6/site-packages (from boto3>=1.14.12->sagemaker==1.72.0) (0.10.0)\n",
      "Requirement already satisfied: python-dateutil<3.0.0,>=2.1 in /home/ec2-user/anaconda3/envs/pytorch_p36/lib/python3.6/site-packages (from botocore<1.21.0,>=1.20.70->boto3>=1.14.12->sagemaker==1.72.0) (2.8.1)\n",
      "Requirement already satisfied: urllib3<1.27,>=1.25.4 in /home/ec2-user/anaconda3/envs/pytorch_p36/lib/python3.6/site-packages (from botocore<1.21.0,>=1.20.70->boto3>=1.14.12->sagemaker==1.72.0) (1.26.4)\n",
      "Requirement already satisfied: typing-extensions>=3.6.4 in /home/ec2-user/anaconda3/envs/pytorch_p36/lib/python3.6/site-packages (from importlib-metadata>=1.4.0->sagemaker==1.72.0) (3.7.4.3)\n",
      "Requirement already satisfied: zipp>=0.5 in /home/ec2-user/anaconda3/envs/pytorch_p36/lib/python3.6/site-packages (from importlib-metadata>=1.4.0->sagemaker==1.72.0) (3.4.0)\n",
      "Requirement already satisfied: pyparsing>=2.0.2 in /home/ec2-user/anaconda3/envs/pytorch_p36/lib/python3.6/site-packages (from packaging>=20.0->sagemaker==1.72.0) (2.4.7)\n",
      "Requirement already satisfied: six>=1.9 in /home/ec2-user/anaconda3/envs/pytorch_p36/lib/python3.6/site-packages (from protobuf>=3.1->sagemaker==1.72.0) (1.15.0)\n"
     ]
    }
   ],
   "source": [
    "# Make sure that we use SageMaker 1.x\n",
    "!pip install sagemaker==1.72.0"
   ]
  },
  {
   "cell_type": "markdown",
   "metadata": {},
   "source": [
    "## Step 1: Downloading the data\n",
    "\n",
    "As in the XGBoost in SageMaker notebook, we will be using the [IMDb dataset](http://ai.stanford.edu/~amaas/data/sentiment/)\n",
    "\n",
    "> Maas, Andrew L., et al. [Learning Word Vectors for Sentiment Analysis](http://ai.stanford.edu/~amaas/data/sentiment/). In _Proceedings of the 49th Annual Meeting of the Association for Computational Linguistics: Human Language Technologies_. Association for Computational Linguistics, 2011."
   ]
  },
  {
   "cell_type": "code",
   "execution_count": 2,
   "metadata": {},
   "outputs": [
    {
     "name": "stdout",
     "output_type": "stream",
     "text": [
      "mkdir: cannot create directory ‘../data’: File exists\n",
      "--2021-05-13 14:25:42--  http://ai.stanford.edu/~amaas/data/sentiment/aclImdb_v1.tar.gz\n",
      "Resolving ai.stanford.edu (ai.stanford.edu)... 171.64.68.10\n",
      "Connecting to ai.stanford.edu (ai.stanford.edu)|171.64.68.10|:80... connected.\n",
      "HTTP request sent, awaiting response... 200 OK\n",
      "Length: 84125825 (80M) [application/x-gzip]\n",
      "Saving to: ‘../data/aclImdb_v1.tar.gz’\n",
      "\n",
      "../data/aclImdb_v1. 100%[===================>]  80.23M  25.1MB/s    in 3.5s    \n",
      "\n",
      "2021-05-13 14:25:46 (22.9 MB/s) - ‘../data/aclImdb_v1.tar.gz’ saved [84125825/84125825]\n",
      "\n"
     ]
    }
   ],
   "source": [
    "%mkdir ../data\n",
    "!wget -O ../data/aclImdb_v1.tar.gz http://ai.stanford.edu/~amaas/data/sentiment/aclImdb_v1.tar.gz\n",
    "!tar -zxf ../data/aclImdb_v1.tar.gz -C ../data"
   ]
  },
  {
   "cell_type": "markdown",
   "metadata": {},
   "source": [
    "## Step 2: Preparing and Processing the data\n",
    "\n",
    "Also, as in the XGBoost notebook, we will be doing some initial data processing. The first few steps are the same as in the XGBoost example. To begin with, we will read in each of the reviews and combine them into a single input structure. Then, we will split the dataset into a training set and a testing set."
   ]
  },
  {
   "cell_type": "code",
   "execution_count": 3,
   "metadata": {},
   "outputs": [],
   "source": [
    "import os\n",
    "import glob\n",
    "\n",
    "def read_imdb_data(data_dir='../data/aclImdb'):\n",
    "    data = {}\n",
    "    labels = {}\n",
    "    \n",
    "    for data_type in ['train', 'test']:\n",
    "        data[data_type] = {}\n",
    "        labels[data_type] = {}\n",
    "        \n",
    "        for sentiment in ['pos', 'neg']:\n",
    "            data[data_type][sentiment] = []\n",
    "            labels[data_type][sentiment] = []\n",
    "            \n",
    "            path = os.path.join(data_dir, data_type, sentiment, '*.txt')\n",
    "            files = glob.glob(path)\n",
    "            \n",
    "            for f in files:\n",
    "                with open(f) as review:\n",
    "                    data[data_type][sentiment].append(review.read())\n",
    "                    # Here we represent a positive review by '1' and a negative review by '0'\n",
    "                    labels[data_type][sentiment].append(1 if sentiment == 'pos' else 0)\n",
    "                    \n",
    "            assert len(data[data_type][sentiment]) == len(labels[data_type][sentiment]), \\\n",
    "                    \"{}/{} data size does not match labels size\".format(data_type, sentiment)\n",
    "                \n",
    "    return data, labels"
   ]
  },
  {
   "cell_type": "code",
   "execution_count": 4,
   "metadata": {},
   "outputs": [
    {
     "name": "stdout",
     "output_type": "stream",
     "text": [
      "IMDB reviews: train = 12500 pos / 12500 neg, test = 12500 pos / 12500 neg\n"
     ]
    }
   ],
   "source": [
    "data, labels = read_imdb_data()\n",
    "print(\"IMDB reviews: train = {} pos / {} neg, test = {} pos / {} neg\".format(\n",
    "            len(data['train']['pos']), len(data['train']['neg']),\n",
    "            len(data['test']['pos']), len(data['test']['neg'])))"
   ]
  },
  {
   "cell_type": "markdown",
   "metadata": {},
   "source": [
    "Now that we've read the raw training and testing data from the downloaded dataset, we will combine the positive and negative reviews and shuffle the resulting records."
   ]
  },
  {
   "cell_type": "code",
   "execution_count": 5,
   "metadata": {},
   "outputs": [],
   "source": [
    "from sklearn.utils import shuffle\n",
    "\n",
    "def prepare_imdb_data(data, labels):\n",
    "    \"\"\"Prepare training and test sets from IMDb movie reviews.\"\"\"\n",
    "    \n",
    "    #Combine positive and negative reviews and labels\n",
    "    data_train = data['train']['pos'] + data['train']['neg']\n",
    "    data_test = data['test']['pos'] + data['test']['neg']\n",
    "    labels_train = labels['train']['pos'] + labels['train']['neg']\n",
    "    labels_test = labels['test']['pos'] + labels['test']['neg']\n",
    "    \n",
    "    #Shuffle reviews and corresponding labels within training and test sets\n",
    "    data_train, labels_train = shuffle(data_train, labels_train)\n",
    "    data_test, labels_test = shuffle(data_test, labels_test)\n",
    "    \n",
    "    # Return a unified training data, test data, training labels, test labets\n",
    "    return data_train, data_test, labels_train, labels_test"
   ]
  },
  {
   "cell_type": "code",
   "execution_count": 6,
   "metadata": {},
   "outputs": [
    {
     "name": "stdout",
     "output_type": "stream",
     "text": [
      "IMDb reviews (combined): train = 25000, test = 25000\n"
     ]
    }
   ],
   "source": [
    "train_X, test_X, train_y, test_y = prepare_imdb_data(data, labels)\n",
    "print(\"IMDb reviews (combined): train = {}, test = {}\".format(len(train_X), len(test_X)))"
   ]
  },
  {
   "cell_type": "markdown",
   "metadata": {},
   "source": [
    "Now that we have our training and testing sets unified and prepared, we should do a quick check and see an example of the data our model will be trained on. This is generally a good idea as it allows you to see how each of the further processing steps affects the reviews and it also ensures that the data has been loaded correctly."
   ]
  },
  {
   "cell_type": "code",
   "execution_count": 7,
   "metadata": {},
   "outputs": [
    {
     "name": "stdout",
     "output_type": "stream",
     "text": [
      "Lost is the best TV series there is.First of all,it has GREAT actors and wonderful directing.The writing is a very controversial issue because in the first two seasons the writing was extraordinary but after season 3 the writing became highly complex.For instance,who is Jacob?Why are there polar bears on the island?What's the fog?How did the island disappear?Who is Richard Alpert?A lot of people think that the writers are lost and that they have raised a lot of questions and mysteries that they can't explain.I believe these people are wrong.I have confidence in the writers.I think that if the mysteries are revealed from now all the charm of the series will be gone.Anyway,lost is undeniably the greatest TV series and it will continue to be for a long time.\n",
      "1\n"
     ]
    }
   ],
   "source": [
    "print(train_X[100])\n",
    "print(train_y[100])"
   ]
  },
  {
   "cell_type": "markdown",
   "metadata": {},
   "source": [
    "The first step in processing the reviews is to make sure that any html tags that appear should be removed. In addition we wish to tokenize our input, that way words such as *entertained* and *entertaining* are considered the same with regard to sentiment analysis."
   ]
  },
  {
   "cell_type": "code",
   "execution_count": 8,
   "metadata": {},
   "outputs": [],
   "source": [
    "import nltk\n",
    "from nltk.corpus import stopwords\n",
    "from nltk.stem.porter import *\n",
    "\n",
    "import re\n",
    "from bs4 import BeautifulSoup\n",
    "\n",
    "def review_to_words(review):\n",
    "    nltk.download(\"stopwords\", quiet=True)\n",
    "    stemmer = PorterStemmer()\n",
    "    \n",
    "    text = BeautifulSoup(review, \"html.parser\").get_text() # Remove HTML tags\n",
    "    text = re.sub(r\"[^a-zA-Z0-9]\", \" \", text.lower()) # Convert to lower case\n",
    "    words = text.split() # Split string into words\n",
    "    words = [w for w in words if w not in stopwords.words(\"english\")] # Remove stopwords\n",
    "    words = [PorterStemmer().stem(w) for w in words] # stem\n",
    "    \n",
    "    return words"
   ]
  },
  {
   "cell_type": "markdown",
   "metadata": {},
   "source": [
    "The `review_to_words` method defined above uses `BeautifulSoup` to remove any html tags that appear and uses the `nltk` package to tokenize the reviews. As a check to ensure we know how everything is working, try applying `review_to_words` to one of the reviews in the training set."
   ]
  },
  {
   "cell_type": "code",
   "execution_count": 9,
   "metadata": {},
   "outputs": [
    {
     "name": "stdout",
     "output_type": "stream",
     "text": [
      "This story had a different angle that intrigued me, enough to buy a previously-viewed VHS sight-unseen. That was a mistake.<br /><br />In what could have been a very nice story - about badly crippled people at a hospital, and their various personalities - turned quickly into a very profane soap opera with unlikeable characters.<br /><br />We have \"Bloss\" (William Forsythe) the stereotype racist white person, who says the f-word every other sentence and is so despicable they didn't give him a first name in the movie. He's a lot of fun to be around. Then, there is \"Raymond Hill\" (Wesley Snipes), a fast-talking womanizer. Snipes must have liked those fast-talking \"hip\" arrogant roles because he played in a number of them, like in \"White Men Can't Jump.\" Then there is sweet Helen Hunt playing \"Anna\" that wonderful caring, loving person who is having an adulterous affair with the leading character in the film, \"Joel Garcia\" (Eric Stoltz).<br /><br />Yup, this is heartwarming, feel-good type stuff. It just makes my heart melt watching these nice folks. But, if you are one of those who loves sleazy characters portrayed by sleazy people in this sleazy film.....you might really like this! Add in a dose of Hollywood political correctness and there you go! What more could anyone want?\n"
     ]
    },
    {
     "data": {
      "text/plain": [
       "['stori',\n",
       " 'differ',\n",
       " 'angl',\n",
       " 'intrigu',\n",
       " 'enough',\n",
       " 'buy',\n",
       " 'previous',\n",
       " 'view',\n",
       " 'vh',\n",
       " 'sight',\n",
       " 'unseen',\n",
       " 'mistak',\n",
       " 'could',\n",
       " 'nice',\n",
       " 'stori',\n",
       " 'badli',\n",
       " 'crippl',\n",
       " 'peopl',\n",
       " 'hospit',\n",
       " 'variou',\n",
       " 'person',\n",
       " 'turn',\n",
       " 'quickli',\n",
       " 'profan',\n",
       " 'soap',\n",
       " 'opera',\n",
       " 'unlik',\n",
       " 'charact',\n",
       " 'bloss',\n",
       " 'william',\n",
       " 'forsyth',\n",
       " 'stereotyp',\n",
       " 'racist',\n",
       " 'white',\n",
       " 'person',\n",
       " 'say',\n",
       " 'f',\n",
       " 'word',\n",
       " 'everi',\n",
       " 'sentenc',\n",
       " 'despic',\n",
       " 'give',\n",
       " 'first',\n",
       " 'name',\n",
       " 'movi',\n",
       " 'lot',\n",
       " 'fun',\n",
       " 'around',\n",
       " 'raymond',\n",
       " 'hill',\n",
       " 'wesley',\n",
       " 'snipe',\n",
       " 'fast',\n",
       " 'talk',\n",
       " 'woman',\n",
       " 'snipe',\n",
       " 'must',\n",
       " 'like',\n",
       " 'fast',\n",
       " 'talk',\n",
       " 'hip',\n",
       " 'arrog',\n",
       " 'role',\n",
       " 'play',\n",
       " 'number',\n",
       " 'like',\n",
       " 'white',\n",
       " 'men',\n",
       " 'jump',\n",
       " 'sweet',\n",
       " 'helen',\n",
       " 'hunt',\n",
       " 'play',\n",
       " 'anna',\n",
       " 'wonder',\n",
       " 'care',\n",
       " 'love',\n",
       " 'person',\n",
       " 'adulter',\n",
       " 'affair',\n",
       " 'lead',\n",
       " 'charact',\n",
       " 'film',\n",
       " 'joel',\n",
       " 'garcia',\n",
       " 'eric',\n",
       " 'stoltz',\n",
       " 'yup',\n",
       " 'heartwarm',\n",
       " 'feel',\n",
       " 'good',\n",
       " 'type',\n",
       " 'stuff',\n",
       " 'make',\n",
       " 'heart',\n",
       " 'melt',\n",
       " 'watch',\n",
       " 'nice',\n",
       " 'folk',\n",
       " 'one',\n",
       " 'love',\n",
       " 'sleazi',\n",
       " 'charact',\n",
       " 'portray',\n",
       " 'sleazi',\n",
       " 'peopl',\n",
       " 'sleazi',\n",
       " 'film',\n",
       " 'might',\n",
       " 'realli',\n",
       " 'like',\n",
       " 'add',\n",
       " 'dose',\n",
       " 'hollywood',\n",
       " 'polit',\n",
       " 'correct',\n",
       " 'go',\n",
       " 'could',\n",
       " 'anyon',\n",
       " 'want']"
      ]
     },
     "execution_count": 9,
     "metadata": {},
     "output_type": "execute_result"
    }
   ],
   "source": [
    "# TODO: Apply review_to_words to a review (train_X[100] or any other review)\n",
    "print(train_X[50])\n",
    "review_to_words(train_X[50])"
   ]
  },
  {
   "cell_type": "markdown",
   "metadata": {},
   "source": [
    "**Question:** Above we mentioned that `review_to_words` method removes html formatting and allows us to tokenize the words found in a review, for example, converting *entertained* and *entertaining* into *entertain* so that they are treated as though they are the same word. What else, if anything, does this method do to the input?"
   ]
  },
  {
   "cell_type": "markdown",
   "metadata": {},
   "source": [
    "**Answer:**\n",
    "As it is stated in the comment above, it also removes stopwords (such as \"in\", \"it\", \"for\", ...) that are not particularly interesting for sentiment analysis (or the majority of NLP problems, I believe). Punctuation is also removed. Some last letters of some words are also removed. On the example above, one can see that \"hairstyle\" becomes \"hairstyl\". Also, it converts all letter to lowercase.\n",
    "\n",
    "Moreover, this also removes HTML Tags using bs4, splits text into tokens. "
   ]
  },
  {
   "cell_type": "markdown",
   "metadata": {},
   "source": [
    "The method below applies the `review_to_words` method to each of the reviews in the training and testing datasets. In addition it caches the results. This is because performing this processing step can take a long time. This way if you are unable to complete the notebook in the current session, you can come back without needing to process the data a second time."
   ]
  },
  {
   "cell_type": "code",
   "execution_count": 10,
   "metadata": {},
   "outputs": [],
   "source": [
    "import pickle\n",
    "\n",
    "cache_dir = os.path.join(\"../cache\", \"sentiment_analysis\")  # where to store cache files\n",
    "os.makedirs(cache_dir, exist_ok=True)  # ensure cache directory exists\n",
    "\n",
    "def preprocess_data(data_train, data_test, labels_train, labels_test,\n",
    "                    cache_dir=cache_dir, cache_file=\"preprocessed_data.pkl\"):\n",
    "    \"\"\"Convert each review to words; read from cache if available.\"\"\"\n",
    "\n",
    "    # If cache_file is not None, try to read from it first\n",
    "    cache_data = None\n",
    "    if cache_file is not None:\n",
    "        try:\n",
    "            with open(os.path.join(cache_dir, cache_file), \"rb\") as f:\n",
    "                cache_data = pickle.load(f)\n",
    "            print(\"Read preprocessed data from cache file:\", cache_file)\n",
    "        except:\n",
    "            pass  # unable to read from cache, but that's okay\n",
    "    \n",
    "    # If cache is missing, then do the heavy lifting\n",
    "    if cache_data is None:\n",
    "        # Preprocess training and test data to obtain words for each review\n",
    "        #words_train = list(map(review_to_words, data_train))\n",
    "        #words_test = list(map(review_to_words, data_test))\n",
    "        words_train = [review_to_words(review) for review in data_train]\n",
    "        words_test = [review_to_words(review) for review in data_test]\n",
    "        \n",
    "        # Write to cache file for future runs\n",
    "        if cache_file is not None:\n",
    "            cache_data = dict(words_train=words_train, words_test=words_test,\n",
    "                              labels_train=labels_train, labels_test=labels_test)\n",
    "            with open(os.path.join(cache_dir, cache_file), \"wb\") as f:\n",
    "                pickle.dump(cache_data, f)\n",
    "            print(\"Wrote preprocessed data to cache file:\", cache_file)\n",
    "    else:\n",
    "        # Unpack data loaded from cache file\n",
    "        words_train, words_test, labels_train, labels_test = (cache_data['words_train'],\n",
    "                cache_data['words_test'], cache_data['labels_train'], cache_data['labels_test'])\n",
    "    \n",
    "    return words_train, words_test, labels_train, labels_test"
   ]
  },
  {
   "cell_type": "code",
   "execution_count": 11,
   "metadata": {},
   "outputs": [
    {
     "name": "stdout",
     "output_type": "stream",
     "text": [
      "Read preprocessed data from cache file: preprocessed_data.pkl\n"
     ]
    }
   ],
   "source": [
    "# Preprocess data\n",
    "train_X, test_X, train_y, test_y = preprocess_data(train_X, test_X, train_y, test_y)"
   ]
  },
  {
   "cell_type": "markdown",
   "metadata": {},
   "source": [
    "## Transform the data\n",
    "\n",
    "In the XGBoost notebook we transformed the data from its word representation to a bag-of-words feature representation. For the model we are going to construct in this notebook we will construct a feature representation which is very similar. To start, we will represent each word as an integer. Of course, some of the words that appear in the reviews occur very infrequently and so likely don't contain much information for the purposes of sentiment analysis. The way we will deal with this problem is that we will fix the size of our working vocabulary and we will only include the words that appear most frequently. We will then combine all of the infrequent words into a single category and, in our case, we will label it as `1`.\n",
    "\n",
    "Since we will be using a recurrent neural network, it will be convenient if the length of each review is the same. To do this, we will fix a size for our reviews and then pad short reviews with the category 'no word' (which we will label `0`) and truncate long reviews."
   ]
  },
  {
   "cell_type": "markdown",
   "metadata": {},
   "source": [
    "### (TODO) Create a word dictionary\n",
    "\n",
    "To begin with, we need to construct a way to map words that appear in the reviews to integers. Here we fix the size of our vocabulary (including the 'no word' and 'infrequent' categories) to be `5000` but you may wish to change this to see how it affects the model.\n",
    "\n",
    "> **TODO:** Complete the implementation for the `build_dict()` method below. Note that even though the vocab_size is set to `5000`, we only want to construct a mapping for the most frequently appearing `4998` words. This is because we want to reserve the special labels `0` for 'no word' and `1` for 'infrequent word'."
   ]
  },
  {
   "cell_type": "code",
   "execution_count": 12,
   "metadata": {},
   "outputs": [],
   "source": [
    "import numpy as np\n",
    "from collections import Counter\n",
    "\n",
    "\n",
    "def build_dict(data, vocab_size = 5000):\n",
    "    \"\"\"Construct and return a dictionary mapping each of the most frequently appearing words to a unique integer.\"\"\"\n",
    "    \n",
    "    # TODO: Determine how often each word appears in `data`. Note that `data` is a list of sentences and that a\n",
    "    #       sentence is a list of words.\n",
    "    \n",
    "    word_count = {} # A dict storing the words that appear in the reviews along with how often they occur\n",
    "    \n",
    "    '''\n",
    "    OLDER VERSION\n",
    "    \n",
    "    for review in data:\n",
    "        for word in review:\n",
    "\n",
    "            if word not in word_count: #word appears for the first time\n",
    "                word_count[word] = 1\n",
    "                \n",
    "            else:                      #not the first time this word appears\n",
    "                word_count[word] += 1\n",
    "                \n",
    "    print(word_count)\n",
    "    \n",
    "    # TODO: Sort the words found in `data` so that sorted_words[0] is the most frequently appearing word and\n",
    "    #       sorted_words[-1] is the least frequently appearing word.\n",
    "    \n",
    "    #as per https://stackoverflow.com/questions/613183/how-do-i-sort-a-dictionary-by-value (adapted)\n",
    "    sorted_words = sorted(word_count.items(), key=lambda item: item[1], reverse=True)\n",
    "   \n",
    "    sorted_words = list(map(lambda x: x[0], sorted_words))\n",
    "    \n",
    "    word_dict = {} # This is what we are building, a dictionary that translates words into integers\n",
    "    for idx, word in enumerate(sorted_words[:vocab_size - 2]): # The -2 is so that we save room for the 'no word'\n",
    "        word_dict[word] = idx + 2                              # 'infrequent' labels\n",
    "        \n",
    "    return word_dict            \n",
    "                \n",
    "    '''\n",
    "    \n",
    "    #as per suggestion of the Udacity's reviewer\n",
    "    \n",
    "    word_count = Counter(np.concatenate(data))\n",
    "    sorted_words = sorted(word_count, key=word_count.get, reverse=True)\n",
    "    word_dict = {word:idx + 2 for idx, word in enumerate(sorted_words[:vocab_size - 2])} \n",
    "\n",
    "\n",
    "    return word_dict\n",
    "    "
   ]
  },
  {
   "cell_type": "code",
   "execution_count": 13,
   "metadata": {},
   "outputs": [
    {
     "name": "stdout",
     "output_type": "stream",
     "text": [
      "{'movi': 2, 'film': 3, 'one': 4, 'like': 5, 'time': 6, 'good': 7, 'make': 8, 'charact': 9, 'get': 10, 'see': 11, 'watch': 12, 'stori': 13, 'even': 14, 'would': 15, 'realli': 16, 'well': 17, 'scene': 18, 'look': 19, 'show': 20, 'much': 21, 'end': 22, 'peopl': 23, 'bad': 24, 'go': 25, 'great': 26, 'also': 27, 'first': 28, 'love': 29, 'think': 30, 'way': 31, 'act': 32, 'play': 33, 'made': 34, 'thing': 35, 'could': 36, 'know': 37, 'say': 38, 'seem': 39, 'work': 40, 'plot': 41, 'two': 42, 'actor': 43, 'year': 44, 'come': 45, 'mani': 46, 'seen': 47, 'take': 48, 'life': 49, 'want': 50, 'never': 51, 'littl': 52, 'best': 53, 'tri': 54, 'man': 55, 'ever': 56, 'give': 57, 'better': 58, 'still': 59, 'perform': 60, 'find': 61, 'feel': 62, 'part': 63, 'back': 64, 'use': 65, 'someth': 66, 'director': 67, 'actual': 68, 'interest': 69, 'lot': 70, 'real': 71, 'old': 72, 'cast': 73, 'though': 74, 'live': 75, 'star': 76, 'enjoy': 77, 'guy': 78, 'anoth': 79, 'new': 80, 'role': 81, 'noth': 82, '10': 83, 'funni': 84, 'music': 85, 'point': 86, 'start': 87, 'set': 88, 'girl': 89, 'origin': 90, 'day': 91, 'world': 92, 'everi': 93, 'believ': 94, 'turn': 95, 'quit': 96, 'direct': 97, 'us': 98, 'thought': 99, 'fact': 100, 'minut': 101, 'horror': 102, 'kill': 103, 'action': 104, 'comedi': 105, 'pretti': 106, 'young': 107, 'wonder': 108, 'happen': 109, 'around': 110, 'got': 111, 'effect': 112, 'right': 113, 'long': 114, 'howev': 115, 'big': 116, 'line': 117, 'famili': 118, 'enough': 119, 'seri': 120, 'may': 121, 'need': 122, 'fan': 123, 'bit': 124, 'script': 125, 'beauti': 126, 'person': 127, 'becom': 128, 'without': 129, 'must': 130, 'alway': 131, 'friend': 132, 'tell': 133, 'reason': 134, 'saw': 135, 'last': 136, 'final': 137, 'kid': 138, 'almost': 139, 'put': 140, 'least': 141, 'sure': 142, 'done': 143, 'whole': 144, 'place': 145, 'complet': 146, 'kind': 147, 'differ': 148, 'expect': 149, 'shot': 150, 'far': 151, 'mean': 152, 'anyth': 153, 'book': 154, 'laugh': 155, 'might': 156, 'name': 157, 'sinc': 158, 'begin': 159, '2': 160, 'probabl': 161, 'woman': 162, 'help': 163, 'entertain': 164, 'let': 165, 'screen': 166, 'call': 167, 'tv': 168, 'moment': 169, 'away': 170, 'read': 171, 'yet': 172, 'rather': 173, 'worst': 174, 'run': 175, 'fun': 176, 'lead': 177, 'hard': 178, 'audienc': 179, 'idea': 180, 'anyon': 181, 'episod': 182, 'american': 183, 'found': 184, 'appear': 185, 'bore': 186, 'especi': 187, 'although': 188, 'hope': 189, 'keep': 190, 'cours': 191, 'anim': 192, 'job': 193, 'goe': 194, 'move': 195, 'sens': 196, 'version': 197, 'dvd': 198, 'war': 199, 'money': 200, 'someon': 201, 'mind': 202, 'mayb': 203, 'problem': 204, 'true': 205, 'hous': 206, 'everyth': 207, 'nice': 208, 'second': 209, 'rate': 210, 'three': 211, 'night': 212, 'follow': 213, 'face': 214, 'recommend': 215, 'product': 216, 'main': 217, 'worth': 218, 'leav': 219, 'human': 220, 'special': 221, 'excel': 222, 'togeth': 223, 'wast': 224, 'everyon': 225, 'sound': 226, 'john': 227, 'hand': 228, '1': 229, 'father': 230, 'later': 231, 'eye': 232, 'said': 233, 'view': 234, 'instead': 235, 'review': 236, 'boy': 237, 'high': 238, 'hour': 239, 'miss': 240, 'talk': 241, 'classic': 242, 'wife': 243, 'understand': 244, 'left': 245, 'care': 246, 'black': 247, 'death': 248, 'open': 249, 'murder': 250, 'write': 251, 'half': 252, 'head': 253, 'rememb': 254, 'chang': 255, 'viewer': 256, 'fight': 257, 'gener': 258, 'surpris': 259, 'includ': 260, 'short': 261, 'die': 262, 'fall': 263, 'less': 264, 'els': 265, 'entir': 266, 'piec': 267, 'involv': 268, 'pictur': 269, 'simpli': 270, 'top': 271, 'home': 272, 'power': 273, 'total': 274, 'usual': 275, 'budget': 276, 'attempt': 277, 'suppos': 278, 'releas': 279, 'hollywood': 280, 'terribl': 281, 'song': 282, 'men': 283, 'possibl': 284, 'featur': 285, 'portray': 286, 'disappoint': 287, 'poor': 288, '3': 289, 'coupl': 290, 'stupid': 291, 'camera': 292, 'dead': 293, 'wrong': 294, 'produc': 295, 'low': 296, 'either': 297, 'video': 298, 'aw': 299, 'definit': 300, 'except': 301, 'rest': 302, 'given': 303, 'absolut': 304, 'women': 305, 'lack': 306, 'word': 307, 'writer': 308, 'titl': 309, 'talent': 310, 'decid': 311, 'full': 312, 'perfect': 313, 'along': 314, 'style': 315, 'close': 316, 'truli': 317, 'school': 318, 'emot': 319, 'save': 320, 'sex': 321, 'age': 322, 'next': 323, 'bring': 324, 'mr': 325, 'case': 326, 'killer': 327, 'heart': 328, 'comment': 329, 'sort': 330, 'creat': 331, 'perhap': 332, 'came': 333, 'brother': 334, 'sever': 335, 'joke': 336, 'art': 337, 'dialogu': 338, 'game': 339, 'small': 340, 'base': 341, 'flick': 342, 'written': 343, 'sequenc': 344, 'meet': 345, 'earli': 346, 'often': 347, 'other': 348, 'mother': 349, 'develop': 350, 'humor': 351, 'actress': 352, 'consid': 353, 'dark': 354, 'guess': 355, 'amaz': 356, 'unfortun': 357, 'light': 358, 'lost': 359, 'exampl': 360, 'cinema': 361, 'drama': 362, 'ye': 363, 'white': 364, 'experi': 365, 'imagin': 366, 'mention': 367, 'stop': 368, 'natur': 369, 'forc': 370, 'manag': 371, 'felt': 372, 'present': 373, 'cut': 374, 'children': 375, 'fail': 376, 'son': 377, 'car': 378, 'support': 379, 'qualiti': 380, 'ask': 381, 'hit': 382, 'side': 383, 'voic': 384, 'extrem': 385, 'impress': 386, 'wors': 387, 'evil': 388, 'stand': 389, 'went': 390, 'certainli': 391, 'basic': 392, 'oh': 393, 'overal': 394, 'favorit': 395, 'horribl': 396, 'mysteri': 397, 'number': 398, 'type': 399, 'danc': 400, 'wait': 401, 'hero': 402, '5': 403, 'alreadi': 404, 'learn': 405, 'matter': 406, '4': 407, 'michael': 408, 'genr': 409, 'fine': 410, 'despit': 411, 'throughout': 412, 'walk': 413, 'success': 414, 'histori': 415, 'question': 416, 'zombi': 417, 'town': 418, 'realiz': 419, 'relationship': 420, 'past': 421, 'child': 422, 'daughter': 423, 'late': 424, 'b': 425, 'wish': 426, 'hate': 427, 'credit': 428, 'event': 429, 'theme': 430, 'touch': 431, 'citi': 432, 'today': 433, 'sometim': 434, 'behind': 435, 'god': 436, 'twist': 437, 'sit': 438, 'stay': 439, 'deal': 440, 'annoy': 441, 'abl': 442, 'rent': 443, 'pleas': 444, 'edit': 445, 'blood': 446, 'deserv': 447, 'comic': 448, 'anyway': 449, 'appar': 450, 'soon': 451, 'gave': 452, 'etc': 453, 'level': 454, 'slow': 455, 'chanc': 456, 'score': 457, 'bodi': 458, 'brilliant': 459, 'incred': 460, 'figur': 461, 'situat': 462, 'self': 463, 'major': 464, 'stuff': 465, 'decent': 466, 'element': 467, 'dream': 468, 'return': 469, 'obvious': 470, 'continu': 471, 'order': 472, 'pace': 473, 'ridicul': 474, 'happi': 475, 'add': 476, 'highli': 477, 'group': 478, 'thank': 479, 'ladi': 480, 'novel': 481, 'speak': 482, 'pain': 483, 'career': 484, 'shoot': 485, 'strang': 486, 'heard': 487, 'sad': 488, 'polic': 489, 'husband': 490, 'import': 491, 'break': 492, 'took': 493, 'strong': 494, 'cannot': 495, 'robert': 496, 'predict': 497, 'violenc': 498, 'hilari': 499, 'recent': 500, 'countri': 501, 'known': 502, 'particularli': 503, 'pick': 504, 'documentari': 505, 'season': 506, 'critic': 507, 'jame': 508, 'compar': 509, 'obviou': 510, 'alon': 511, 'told': 512, 'state': 513, 'rock': 514, 'visual': 515, 'theater': 516, 'offer': 517, 'exist': 518, 'opinion': 519, 'gore': 520, 'hold': 521, 'crap': 522, 'result': 523, 'hear': 524, 'realiti': 525, 'room': 526, 'effort': 527, 'clich': 528, 'thriller': 529, 'caus': 530, 'sequel': 531, 'explain': 532, 'serious': 533, 'king': 534, 'local': 535, 'ago': 536, 'hell': 537, 'none': 538, 'note': 539, 'allow': 540, 'david': 541, 'sister': 542, 'simpl': 543, 'femal': 544, 'deliv': 545, 'ok': 546, 'convinc': 547, 'class': 548, 'check': 549, 'suspens': 550, 'win': 551, 'oscar': 552, 'buy': 553, 'huge': 554, 'valu': 555, 'sexual': 556, 'scari': 557, 'cool': 558, 'excit': 559, 'similar': 560, 'apart': 561, 'exactli': 562, 'provid': 563, 'shown': 564, 'avoid': 565, 'seriou': 566, 'english': 567, 'taken': 568, 'whose': 569, 'cinematographi': 570, 'shock': 571, 'polit': 572, 'spoiler': 573, 'offic': 574, 'across': 575, 'middl': 576, 'street': 577, 'pass': 578, 'messag': 579, 'silli': 580, 'charm': 581, 'somewhat': 582, 'modern': 583, 'confus': 584, 'filmmak': 585, 'form': 586, 'tale': 587, 'singl': 588, 'jack': 589, 'mostli': 590, 'william': 591, 'carri': 592, 'attent': 593, 'sing': 594, 'five': 595, 'subject': 596, 'prove': 597, 'richard': 598, 'stage': 599, 'team': 600, 'cop': 601, 'unlik': 602, 'georg': 603, 'televis': 604, 'monster': 605, 'earth': 606, 'villain': 607, 'cover': 608, 'pay': 609, 'marri': 610, 'toward': 611, 'build': 612, 'parent': 613, 'pull': 614, 'due': 615, 'fill': 616, 'respect': 617, 'dialog': 618, 'four': 619, 'remind': 620, 'futur': 621, 'weak': 622, 'typic': 623, '7': 624, 'cheap': 625, 'intellig': 626, 'british': 627, 'atmospher': 628, '80': 629, 'clearli': 630, 'dog': 631, 'paul': 632, 'non': 633, 'artist': 634, 'fast': 635, '8': 636, 'knew': 637, 'crime': 638, 'easili': 639, 'escap': 640, 'adult': 641, 'doubt': 642, 'detail': 643, 'date': 644, 'member': 645, 'fire': 646, 'romant': 647, 'gun': 648, 'drive': 649, 'straight': 650, 'beyond': 651, 'fit': 652, 'attack': 653, 'imag': 654, 'upon': 655, 'posit': 656, 'whether': 657, 'fantast': 658, 'peter': 659, 'captur': 660, 'aspect': 661, 'appreci': 662, 'ten': 663, 'plan': 664, 'discov': 665, 'remain': 666, 'near': 667, 'period': 668, 'air': 669, 'realist': 670, 'mark': 671, 'red': 672, 'dull': 673, 'adapt': 674, 'within': 675, 'spend': 676, 'lose': 677, 'materi': 678, 'color': 679, 'chase': 680, 'mari': 681, 'storylin': 682, 'forget': 683, 'bunch': 684, 'clear': 685, 'lee': 686, 'victim': 687, 'nearli': 688, 'box': 689, 'york': 690, 'inspir': 691, 'match': 692, 'mess': 693, 'finish': 694, 'standard': 695, 'easi': 696, 'truth': 697, 'busi': 698, 'suffer': 699, 'dramat': 700, 'bill': 701, 'space': 702, 'western': 703, 'e': 704, 'list': 705, 'battl': 706, 'notic': 707, 'de': 708, 'french': 709, 'ad': 710, '9': 711, 'tom': 712, 'larg': 713, 'among': 714, 'eventu': 715, 'train': 716, 'accept': 717, 'agre': 718, 'soundtrack': 719, 'spirit': 720, 'third': 721, 'teenag': 722, 'soldier': 723, 'adventur': 724, 'famou': 725, 'sorri': 726, 'suggest': 727, 'drug': 728, 'normal': 729, 'babi': 730, 'cri': 731, 'troubl': 732, 'ultim': 733, 'contain': 734, 'certain': 735, 'cultur': 736, 'romanc': 737, 'rare': 738, 'lame': 739, 'somehow': 740, 'disney': 741, 'mix': 742, 'gone': 743, 'cartoon': 744, 'student': 745, 'reveal': 746, 'fear': 747, 'suck': 748, 'kept': 749, 'attract': 750, 'appeal': 751, 'premis': 752, 'secret': 753, 'design': 754, 'greatest': 755, 'shame': 756, 'throw': 757, 'scare': 758, 'copi': 759, 'wit': 760, 'america': 761, 'admit': 762, 'brought': 763, 'relat': 764, 'particular': 765, 'screenplay': 766, 'whatev': 767, 'pure': 768, '70': 769, 'harri': 770, 'averag': 771, 'master': 772, 'describ': 773, 'male': 774, 'treat': 775, '20': 776, 'fantasi': 777, 'issu': 778, 'warn': 779, 'inde': 780, 'forward': 781, 'background': 782, 'free': 783, 'project': 784, 'memor': 785, 'japanes': 786, 'poorli': 787, 'award': 788, 'locat': 789, 'potenti': 790, 'amus': 791, 'struggl': 792, 'weird': 793, 'magic': 794, 'societi': 795, 'okay': 796, 'accent': 797, 'doctor': 798, 'imdb': 799, 'hot': 800, 'water': 801, 'alien': 802, '30': 803, 'express': 804, 'dr': 805, 'odd': 806, 'crazi': 807, 'choic': 808, 'studio': 809, 'fiction': 810, 'control': 811, 'becam': 812, 'masterpiec': 813, 'difficult': 814, 'fli': 815, 'joe': 816, 'scream': 817, 'costum': 818, 'lover': 819, 'refer': 820, 'uniqu': 821, 'remak': 822, 'vampir': 823, 'girlfriend': 824, 'prison': 825, 'execut': 826, 'wear': 827, 'jump': 828, 'unless': 829, 'wood': 830, 'creepi': 831, 'cheesi': 832, 'superb': 833, 'otherwis': 834, 'parti': 835, 'roll': 836, 'ghost': 837, 'mad': 838, 'public': 839, 'depict': 840, 'moral': 841, 'week': 842, 'earlier': 843, 'badli': 844, 'jane': 845, 'dumb': 846, 'fi': 847, 'flaw': 848, 'grow': 849, 'deep': 850, 'sci': 851, 'maker': 852, 'cat': 853, 'connect': 854, 'older': 855, 'footag': 856, 'bother': 857, 'plenti': 858, 'outsid': 859, 'stick': 860, 'gay': 861, 'catch': 862, 'co': 863, 'plu': 864, 'popular': 865, 'equal': 866, 'social': 867, 'disturb': 868, 'quickli': 869, 'perfectli': 870, 'dress': 871, '90': 872, 'era': 873, 'mistak': 874, 'lie': 875, 'ride': 876, 'previou': 877, 'combin': 878, 'band': 879, 'concept': 880, 'answer': 881, 'rich': 882, 'surviv': 883, 'front': 884, 'christma': 885, 'sweet': 886, 'insid': 887, 'concern': 888, 'bare': 889, 'eat': 890, 'listen': 891, 'beat': 892, 'ben': 893, 'c': 894, 'term': 895, 'serv': 896, 'la': 897, 'german': 898, 'meant': 899, 'hardli': 900, 'stereotyp': 901, 'law': 902, 'innoc': 903, 'desper': 904, 'promis': 905, 'memori': 906, 'intent': 907, 'cute': 908, 'variou': 909, 'inform': 910, 'steal': 911, 'brain': 912, 'post': 913, 'tone': 914, 'island': 915, 'amount': 916, 'nuditi': 917, 'track': 918, 'compani': 919, 'store': 920, 'claim': 921, 'hair': 922, 'flat': 923, '50': 924, 'land': 925, 'univers': 926, 'kick': 927, 'scott': 928, 'danger': 929, 'fairli': 930, 'player': 931, 'step': 932, 'crew': 933, 'plain': 934, 'toni': 935, 'share': 936, 'centuri': 937, 'tast': 938, 'achiev': 939, 'engag': 940, 'travel': 941, 'cold': 942, 'rip': 943, 'suit': 944, 'record': 945, 'sadli': 946, 'manner': 947, 'spot': 948, 'wrote': 949, 'tension': 950, 'fascin': 951, 'intens': 952, 'familiar': 953, 'depth': 954, 'burn': 955, 'remark': 956, 'destroy': 957, 'histor': 958, 'sleep': 959, 'purpos': 960, 'languag': 961, 'ignor': 962, 'ruin': 963, 'delight': 964, 'unbeliev': 965, 'italian': 966, 'soul': 967, 'abil': 968, 'collect': 969, 'detect': 970, 'clever': 971, 'violent': 972, 'rape': 973, 'reach': 974, 'door': 975, 'trash': 976, 'liter': 977, 'scienc': 978, 'reveng': 979, 'caught': 980, 'commun': 981, 'creatur': 982, 'approach': 983, 'trip': 984, 'intrigu': 985, 'fashion': 986, 'paint': 987, 'skill': 988, 'introduc': 989, 'channel': 990, 'complex': 991, 'camp': 992, 'christian': 993, 'extra': 994, 'hole': 995, 'limit': 996, 'ann': 997, 'mental': 998, 'immedi': 999, '6': 1000, 'comput': 1001, 'million': 1002, 'mere': 1003, 'slightli': 1004, 'slasher': 1005, 'conclus': 1006, 'imposs': 1007, 'suddenli': 1008, 'crimin': 1009, 'neither': 1010, 'teen': 1011, 'spent': 1012, 'nation': 1013, 'physic': 1014, 'respons': 1015, 'planet': 1016, 'receiv': 1017, 'fake': 1018, 'sick': 1019, 'blue': 1020, 'bizarr': 1021, 'embarrass': 1022, 'indian': 1023, '15': 1024, 'ring': 1025, 'pop': 1026, 'drop': 1027, 'drag': 1028, 'haunt': 1029, 'suspect': 1030, 'pointless': 1031, 'search': 1032, 'edg': 1033, 'handl': 1034, 'biggest': 1035, 'common': 1036, 'hurt': 1037, 'arriv': 1038, 'faith': 1039, 'technic': 1040, 'angel': 1041, 'genuin': 1042, 'dad': 1043, 'awesom': 1044, 'f': 1045, 'solid': 1046, 'focu': 1047, 'former': 1048, 'colleg': 1049, 'van': 1050, 'count': 1051, 'tear': 1052, 'heavi': 1053, 'wall': 1054, 'rais': 1055, 'younger': 1056, 'visit': 1057, 'laughabl': 1058, 'excus': 1059, 'fair': 1060, 'sign': 1061, 'cult': 1062, 'tough': 1063, 'key': 1064, 'motion': 1065, 'desir': 1066, 'super': 1067, 'stun': 1068, 'addit': 1069, 'exploit': 1070, 'cloth': 1071, 'tortur': 1072, 'smith': 1073, 'davi': 1074, 'race': 1075, 'author': 1076, 'cross': 1077, 'jim': 1078, 'minor': 1079, 'focus': 1080, 'compel': 1081, 'consist': 1082, 'pathet': 1083, 'commit': 1084, 'chemistri': 1085, 'park': 1086, 'frank': 1087, 'tradit': 1088, 'obsess': 1089, 'grade': 1090, 'asid': 1091, '60': 1092, 'brutal': 1093, 'somewher': 1094, 'steve': 1095, 'u': 1096, 'depress': 1097, 'opportun': 1098, 'rule': 1099, 'explor': 1100, 'grant': 1101, 'honest': 1102, 'besid': 1103, 'anti': 1104, 'dub': 1105, 'intend': 1106, 'trailer': 1107, 'bar': 1108, 'west': 1109, 'regard': 1110, 'longer': 1111, 'scientist': 1112, 'judg': 1113, 'decad': 1114, 'silent': 1115, 'armi': 1116, 'creativ': 1117, 'wild': 1118, 'stewart': 1119, 'g': 1120, 'south': 1121, 'draw': 1122, 'road': 1123, 'govern': 1124, 'ex': 1125, 'boss': 1126, 'practic': 1127, 'club': 1128, 'gang': 1129, 'festiv': 1130, 'surprisingli': 1131, 'motiv': 1132, 'page': 1133, 'redeem': 1134, 'london': 1135, 'green': 1136, 'display': 1137, 'idiot': 1138, 'militari': 1139, 'machin': 1140, 'aliv': 1141, 'thrill': 1142, 'repeat': 1143, 'yeah': 1144, 'nobodi': 1145, '100': 1146, 'folk': 1147, '40': 1148, 'journey': 1149, 'garbag': 1150, 'tire': 1151, 'ground': 1152, 'smile': 1153, 'bought': 1154, 'mood': 1155, 'cost': 1156, 'stone': 1157, 'sam': 1158, 'noir': 1159, 'mouth': 1160, 'agent': 1161, 'terrif': 1162, 'requir': 1163, 'utterli': 1164, 'honestli': 1165, 'area': 1166, 'sexi': 1167, 'report': 1168, 'geniu': 1169, 'glad': 1170, 'investig': 1171, 'humour': 1172, 'enter': 1173, 'serial': 1174, 'occasion': 1175, 'passion': 1176, 'narr': 1177, 'marriag': 1178, 'climax': 1179, 'studi': 1180, 'industri': 1181, 'center': 1182, 'charli': 1183, 'ship': 1184, 'nowher': 1185, 'demon': 1186, 'loos': 1187, 'hors': 1188, 'bear': 1189, 'hang': 1190, 'wow': 1191, 'graphic': 1192, 'admir': 1193, 'giant': 1194, 'send': 1195, 'damn': 1196, 'loud': 1197, 'rel': 1198, 'subtl': 1199, 'nake': 1200, 'profession': 1201, 'blow': 1202, 'bottom': 1203, 'batman': 1204, 'insult': 1205, 'boyfriend': 1206, 'kelli': 1207, 'doubl': 1208, 'r': 1209, 'initi': 1210, 'frame': 1211, 'opera': 1212, 'gem': 1213, 'drawn': 1214, 'church': 1215, 'affect': 1216, 'challeng': 1217, 'cinemat': 1218, 'j': 1219, 'evid': 1220, 'l': 1221, 'nightmar': 1222, 'fulli': 1223, 'seek': 1224, 'arm': 1225, 'conflict': 1226, 'essenti': 1227, 'henri': 1228, 'grace': 1229, 'christoph': 1230, 'wind': 1231, 'narrat': 1232, 'assum': 1233, 'witch': 1234, 'hunt': 1235, 'push': 1236, 'chri': 1237, 'wise': 1238, 'month': 1239, 'nomin': 1240, 'repres': 1241, 'sceneri': 1242, 'affair': 1243, 'hide': 1244, 'avail': 1245, 'bond': 1246, 'justic': 1247, 'smart': 1248, 'thu': 1249, 'outstand': 1250, 'interview': 1251, 'flashback': 1252, 'constantli': 1253, 'satisfi': 1254, 'presenc': 1255, 'bed': 1256, 'central': 1257, 'content': 1258, 'iron': 1259, 'sell': 1260, 'gag': 1261, 'everybodi': 1262, 'slowli': 1263, 'hotel': 1264, 'hire': 1265, 'system': 1266, 'charl': 1267, 'individu': 1268, 'adam': 1269, 'thrown': 1270, 'hey': 1271, 'mediocr': 1272, 'jone': 1273, 'allen': 1274, 'billi': 1275, 'lesson': 1276, 'ray': 1277, 'photographi': 1278, 'cameo': 1279, 'fellow': 1280, 'pari': 1281, 'strike': 1282, 'independ': 1283, 'absurd': 1284, 'brief': 1285, 'rise': 1286, 'neg': 1287, 'impact': 1288, 'phone': 1289, 'model': 1290, 'ill': 1291, 'born': 1292, 'spoil': 1293, 'fresh': 1294, 'angl': 1295, 'likabl': 1296, 'abus': 1297, 'discuss': 1298, 'hill': 1299, 'ahead': 1300, 'sight': 1301, 'photograph': 1302, 'sent': 1303, 'blame': 1304, 'shine': 1305, 'occur': 1306, 'logic': 1307, 'mainli': 1308, 'bruce': 1309, 'forev': 1310, 'commerci': 1311, 'skip': 1312, 'surround': 1313, 'held': 1314, 'teacher': 1315, 'segment': 1316, 'blond': 1317, 'zero': 1318, 'summer': 1319, 'trap': 1320, 'resembl': 1321, 'satir': 1322, 'six': 1323, 'fool': 1324, 'ball': 1325, 'queen': 1326, 'twice': 1327, 'sub': 1328, 'tragedi': 1329, 'reaction': 1330, 'pack': 1331, 'bomb': 1332, 'hospit': 1333, 'will': 1334, 'protagonist': 1335, 'mile': 1336, 'sport': 1337, 'mom': 1338, 'drink': 1339, 'trust': 1340, 'jerri': 1341, 'vote': 1342, 'encount': 1343, 'plane': 1344, 'al': 1345, 'current': 1346, 'program': 1347, 'station': 1348, 'choos': 1349, 'martin': 1350, 'celebr': 1351, 'join': 1352, 'field': 1353, 'round': 1354, 'favourit': 1355, 'lord': 1356, 'tragic': 1357, 'jean': 1358, 'vision': 1359, 'robot': 1360, 'tie': 1361, 'arthur': 1362, 'roger': 1363, 'fortun': 1364, 'random': 1365, 'intern': 1366, 'psycholog': 1367, 'dread': 1368, 'epic': 1369, 'improv': 1370, 'nonsens': 1371, 'prefer': 1372, 'highlight': 1373, 'formula': 1374, 'legend': 1375, 'pleasur': 1376, 'tape': 1377, '11': 1378, 'dollar': 1379, 'fox': 1380, 'gorgeou': 1381, 'thin': 1382, 'porn': 1383, 'wide': 1384, 'object': 1385, 'influenc': 1386, 'buddi': 1387, 'ugli': 1388, 'nasti': 1389, 'ii': 1390, 'prepar': 1391, 'warm': 1392, 'supposedli': 1393, 'reflect': 1394, 'progress': 1395, 'worthi': 1396, 'youth': 1397, 'latter': 1398, 'unusu': 1399, 'length': 1400, 'crash': 1401, 'superior': 1402, 'childhood': 1403, 'seven': 1404, 'shop': 1405, 'theatr': 1406, 'remot': 1407, 'funniest': 1408, 'disgust': 1409, 'paid': 1410, 'pilot': 1411, 'convers': 1412, 'fell': 1413, 'castl': 1414, 'trick': 1415, 'gangster': 1416, 'establish': 1417, 'rob': 1418, 'disast': 1419, 'ident': 1420, 'suicid': 1421, 'mine': 1422, 'disappear': 1423, 'heaven': 1424, 'singer': 1425, 'forgotten': 1426, 'tend': 1427, 'decis': 1428, 'heroin': 1429, 'mask': 1430, 'brian': 1431, 'partner': 1432, 'recogn': 1433, 'alan': 1434, 'desert': 1435, 'p': 1436, 'sky': 1437, 'ms': 1438, 'stuck': 1439, 'thoroughli': 1440, 'replac': 1441, 'accur': 1442, 'market': 1443, 'commentari': 1444, 'seemingli': 1445, 'danni': 1446, 'andi': 1447, 'clue': 1448, 'uncl': 1449, 'eddi': 1450, 'jackson': 1451, 'devil': 1452, 'therefor': 1453, 'that': 1454, 'refus': 1455, 'pair': 1456, 'accid': 1457, 'fault': 1458, 'fate': 1459, 'river': 1460, 'unit': 1461, 'ed': 1462, 'tune': 1463, 'afraid': 1464, 'stephen': 1465, 'clean': 1466, 'russian': 1467, 'hidden': 1468, 'captain': 1469, 'instanc': 1470, 'readi': 1471, 'quick': 1472, 'convey': 1473, 'irrit': 1474, 'test': 1475, 'european': 1476, 'daniel': 1477, 'frustrat': 1478, 'insan': 1479, 'food': 1480, 'chines': 1481, '1950': 1482, 'wed': 1483, 'rescu': 1484, 'dirti': 1485, 'lock': 1486, 'angri': 1487, 'joy': 1488, 'steven': 1489, 'price': 1490, 'cage': 1491, 'bland': 1492, 'rang': 1493, 'anymor': 1494, 'wooden': 1495, 'rush': 1496, 'jason': 1497, 'n': 1498, 'news': 1499, '12': 1500, 'worri': 1501, 'board': 1502, 'led': 1503, 'martial': 1504, 'twenti': 1505, 'transform': 1506, 'hunter': 1507, 'cgi': 1508, 'symbol': 1509, 'johnni': 1510, 'onto': 1511, 'x': 1512, 'sentiment': 1513, 'piti': 1514, 'invent': 1515, 'process': 1516, 'attitud': 1517, 'explan': 1518, 'owner': 1519, 'awar': 1520, 'aim': 1521, 'necessari': 1522, 'favor': 1523, 'target': 1524, 'energi': 1525, 'floor': 1526, 'religi': 1527, 'opposit': 1528, 'insight': 1529, 'blind': 1530, 'window': 1531, 'chick': 1532, 'movement': 1533, 'deepli': 1534, 'possess': 1535, 'comparison': 1536, 'mountain': 1537, 'research': 1538, 'rain': 1539, 'grand': 1540, 'whatsoev': 1541, 'comed': 1542, 'bank': 1543, 'began': 1544, 'shadow': 1545, 'mid': 1546, 'parodi': 1547, 'princ': 1548, 'pre': 1549, 'credibl': 1550, 'friendship': 1551, 'taylor': 1552, 'weapon': 1553, 'teach': 1554, 'dougla': 1555, 'flesh': 1556, 'hint': 1557, 'terror': 1558, 'bloodi': 1559, 'protect': 1560, 'marvel': 1561, 'anybodi': 1562, 'load': 1563, 'accord': 1564, 'leader': 1565, 'drunk': 1566, 'watchabl': 1567, 'superman': 1568, 'freddi': 1569, 'brown': 1570, 'tim': 1571, 'seat': 1572, 'hitler': 1573, 'appropri': 1574, 'jeff': 1575, 'villag': 1576, 'knock': 1577, 'unknown': 1578, 'charg': 1579, 'keaton': 1580, 'england': 1581, 'enemi': 1582, 'unnecessari': 1583, 'media': 1584, 'empti': 1585, 'utter': 1586, 'dare': 1587, 'buck': 1588, 'wave': 1589, 'perspect': 1590, 'strength': 1591, 'craft': 1592, 'nativ': 1593, 'ford': 1594, 'kiss': 1595, 'contrast': 1596, 'correct': 1597, 'speed': 1598, 'anywher': 1599, 'distract': 1600, 'nazi': 1601, 'knowledg': 1602, 'soap': 1603, 'magnific': 1604, 'chill': 1605, 'breath': 1606, 'fred': 1607, '1980': 1608, 'ice': 1609, 'mission': 1610, 'jr': 1611, 'joan': 1612, 'moon': 1613, 'crowd': 1614, 'frighten': 1615, 'kate': 1616, '000': 1617, 'soft': 1618, 'dan': 1619, 'dick': 1620, 'hundr': 1621, 'nick': 1622, 'simon': 1623, 'dozen': 1624, 'somebodi': 1625, 'radio': 1626, 'academi': 1627, 'loss': 1628, 'thousand': 1629, 'andrew': 1630, 'shakespear': 1631, 'quot': 1632, 'account': 1633, 'root': 1634, 'sum': 1635, 'vehicl': 1636, 'convent': 1637, '1970': 1638, 'leg': 1639, 'behavior': 1640, 'regular': 1641, 'gold': 1642, 'worker': 1643, 'pretenti': 1644, 'compet': 1645, 'demand': 1646, 'privat': 1647, 'interpret': 1648, 'explos': 1649, 'stretch': 1650, 'notabl': 1651, 'lynch': 1652, 'japan': 1653, 'candi': 1654, 'debut': 1655, 'constant': 1656, 'tarzan': 1657, 'revolv': 1658, 'translat': 1659, 'spi': 1660, 'prais': 1661, 'sea': 1662, 'jesu': 1663, 'sat': 1664, 'failur': 1665, 'ass': 1666, 'threaten': 1667, 'quiet': 1668, 'franc': 1669, 'technolog': 1670, 'kevin': 1671, 'toy': 1672, 'punch': 1673, 'met': 1674, 'higher': 1675, 'aid': 1676, 'abandon': 1677, 'vh': 1678, 'interact': 1679, 'mike': 1680, 'confront': 1681, 'bet': 1682, 'command': 1683, 'separ': 1684, 'site': 1685, 'gotten': 1686, 'belong': 1687, 'recal': 1688, 'techniqu': 1689, 'stunt': 1690, 'servic': 1691, 'bug': 1692, 'freak': 1693, 'cabl': 1694, 'foot': 1695, 'jimmi': 1696, 'capabl': 1697, 'bright': 1698, 'african': 1699, 'fu': 1700, 'clark': 1701, 'boat': 1702, 'stock': 1703, 'fat': 1704, 'succeed': 1705, 'presid': 1706, 'gene': 1707, 'spanish': 1708, 'structur': 1709, 'kidnap': 1710, 'paper': 1711, 'factor': 1712, 'belief': 1713, 'whilst': 1714, 'bob': 1715, 'witti': 1716, 'tree': 1717, 'realism': 1718, 'attend': 1719, 'realis': 1720, 'complic': 1721, 'educ': 1722, 'santa': 1723, 'finest': 1724, 'broken': 1725, 'assist': 1726, 'v': 1727, 'depart': 1728, 'observ': 1729, 'up': 1730, 'determin': 1731, 'smoke': 1732, 'fame': 1733, 'domin': 1734, 'lewi': 1735, 'hat': 1736, 'routin': 1737, 'rubbish': 1738, 'oper': 1739, 'foreign': 1740, 'safe': 1741, 'lone': 1742, 'advanc': 1743, 'kinda': 1744, 'hook': 1745, 'morgan': 1746, 'numer': 1747, 'rank': 1748, 'washington': 1749, 'shallow': 1750, 'werewolf': 1751, 'civil': 1752, 'rose': 1753, 'shape': 1754, 'vs': 1755, 'morn': 1756, 'gari': 1757, 'winner': 1758, 'accomplish': 1759, 'kong': 1760, 'ordinari': 1761, 'peac': 1762, 'virtual': 1763, 'grab': 1764, 'whenev': 1765, 'h': 1766, 'luck': 1767, 'offens': 1768, 'bigger': 1769, 'welcom': 1770, 'activ': 1771, 'complain': 1772, 'contriv': 1773, 'patient': 1774, 'unfunni': 1775, 'pretend': 1776, 'dimension': 1777, 'con': 1778, 'trek': 1779, 'flash': 1780, 'dri': 1781, 'wake': 1782, 'code': 1783, 'eric': 1784, 'cain': 1785, 'lesbian': 1786, 'guard': 1787, 'dancer': 1788, 'corrupt': 1789, 'manipul': 1790, 'albert': 1791, 'statu': 1792, 'gain': 1793, 'awkward': 1794, 'speech': 1795, 'signific': 1796, 'sourc': 1797, 'context': 1798, '13': 1799, 'clip': 1800, 'corni': 1801, 'anthoni': 1802, 'psycho': 1803, 'sean': 1804, 'w': 1805, 'religion': 1806, 'advic': 1807, 'theatric': 1808, 'reli': 1809, 'curiou': 1810, 'priest': 1811, 'flow': 1812, 'addict': 1813, 'secur': 1814, 'specif': 1815, 'skin': 1816, 'howard': 1817, 'asian': 1818, 'jennif': 1819, 'core': 1820, 'golden': 1821, 'comfort': 1822, 'promot': 1823, 'luke': 1824, 'organ': 1825, 'cheat': 1826, 'cash': 1827, 'lucki': 1828, 'associ': 1829, 'lower': 1830, 'dislik': 1831, 'frequent': 1832, 'degre': 1833, 'wing': 1834, 'regret': 1835, 'spell': 1836, 'balanc': 1837, 'contribut': 1838, 'frankli': 1839, 'devic': 1840, 'lake': 1841, 'sake': 1842, 'forgiv': 1843, 'print': 1844, 'mass': 1845, 'thoma': 1846, 'betti': 1847, 'unexpect': 1848, 'crack': 1849, 'gordon': 1850, 'construct': 1851, 'categori': 1852, 'grown': 1853, 'amateur': 1854, 'depend': 1855, 'unfold': 1856, 'invit': 1857, 'matur': 1858, 'walter': 1859, 'intellectu': 1860, 'condit': 1861, 'grew': 1862, 'anna': 1863, 'honor': 1864, 'sudden': 1865, 'sole': 1866, 'mirror': 1867, 'spectacular': 1868, 'veteran': 1869, 'grip': 1870, 'overli': 1871, 'freedom': 1872, 'meanwhil': 1873, 'card': 1874, 'liner': 1875, 'experienc': 1876, 'gift': 1877, 'robin': 1878, 'demonstr': 1879, 'section': 1880, 'crappi': 1881, 'oliv': 1882, 'brilliantli': 1883, 'theori': 1884, 'circumst': 1885, 'subtitl': 1886, 'colour': 1887, 'sheriff': 1888, 'unabl': 1889, 'drew': 1890, 'path': 1891, 'altern': 1892, 'sheer': 1893, 'pile': 1894, 'laughter': 1895, 'cook': 1896, 'matt': 1897, 'parker': 1898, 'lawyer': 1899, 'relief': 1900, 'treatment': 1901, 'wander': 1902, 'accident': 1903, 'defin': 1904, 'hall': 1905, 'sinatra': 1906, 'captiv': 1907, 'hank': 1908, 'dragon': 1909, 'moor': 1910, 'gratuit': 1911, 'halloween': 1912, 'broadway': 1913, 'wayn': 1914, 'k': 1915, 'wound': 1916, 'barbara': 1917, 'unintent': 1918, 'jacki': 1919, 'cowboy': 1920, 'kung': 1921, 'surreal': 1922, 'spoof': 1923, 'canadian': 1924, 'statement': 1925, 'winter': 1926, 'treasur': 1927, 'gonna': 1928, 'cheer': 1929, 'fish': 1930, 'fare': 1931, 'compos': 1932, 'emerg': 1933, 'victor': 1934, 'unrealist': 1935, 'sensit': 1936, 'woodi': 1937, 'driven': 1938, 'neighbor': 1939, 'sympathet': 1940, 'ran': 1941, 'topic': 1942, 'authent': 1943, 'menac': 1944, 'glass': 1945, 'overlook': 1946, 'expos': 1947, 'michel': 1948, 'handsom': 1949, 'chief': 1950, 'gross': 1951, 'ancient': 1952, 'nevertheless': 1953, 'comedian': 1954, 'pleasant': 1955, 'network': 1956, 'contemporari': 1957, 'built': 1958, 'feet': 1959, 'stranger': 1960, 'russel': 1961, 'cinderella': 1962, 'earn': 1963, 'blockbust': 1964, 'gori': 1965, 'miser': 1966, 'endless': 1967, 'consider': 1968, 'underr': 1969, 'letter': 1970, 'switch': 1971, 'brook': 1972, 'solv': 1973, 'edward': 1974, 'victoria': 1975, 'convict': 1976, 'joseph': 1977, 'bullet': 1978, 'virgin': 1979, 'scale': 1980, 'chosen': 1981, 'cynic': 1982, 'alex': 1983, 'scenario': 1984, '0': 1985, 'gut': 1986, 'outrag': 1987, 'com': 1988, 'sword': 1989, 'curs': 1990, 'proper': 1991, 'screenwrit': 1992, 'monkey': 1993, 'wrap': 1994, 'substanc': 1995, 'juli': 1996, 'uk': 1997, 'driver': 1998, 'remov': 1999, 'indic': 2000, 'bird': 2001, 'court': 2002, 'par': 2003, 'grave': 2004, 'rental': 2005, 'naiv': 2006, 'advertis': 2007, 'loser': 2008, 'roy': 2009, 'nanci': 2010, 'consequ': 2011, 'inevit': 2012, 'bridg': 2013, 'germani': 2014, 'fatal': 2015, 'slap': 2016, 'le': 2017, 'invis': 2018, 'brave': 2019, 'anger': 2020, 'provok': 2021, 'footbal': 2022, 'ador': 2023, 'loui': 2024, 'alcohol': 2025, 'chan': 2026, 'anderson': 2027, 'professor': 2028, 'willi': 2029, 'stumbl': 2030, 'ryan': 2031, 'assassin': 2032, 'bat': 2033, '1930': 2034, 'patrick': 2035, 'sharp': 2036, 'australian': 2037, 'cell': 2038, 'refresh': 2039, 'ape': 2040, 'strongli': 2041, 'eight': 2042, 'saturday': 2043, 'deni': 2044, 'trilog': 2045, 'heck': 2046, 'lousi': 2047, 'liber': 2048, 'amateurish': 2049, 'sin': 2050, 'san': 2051, 'resid': 2052, 'vagu': 2053, 'justifi': 2054, 'creator': 2055, 'reput': 2056, 'indi': 2057, 'mini': 2058, 'terrifi': 2059, 'defeat': 2060, 'sympathi': 2061, 'prevent': 2062, 'endur': 2063, 'task': 2064, 'tabl': 2065, 'expert': 2066, 'tediou': 2067, 'employ': 2068, 'basebal': 2069, 'rival': 2070, 'trial': 2071, 'offend': 2072, 'imit': 2073, 'che': 2074, 'europ': 2075, 'beach': 2076, 'complaint': 2077, 'fairi': 2078, 'weekend': 2079, 'dig': 2080, 'max': 2081, 'pitch': 2082, 'purchas': 2083, 'risk': 2084, 'murphi': 2085, 'format': 2086, 'harsh': 2087, 'reminisc': 2088, 'nois': 2089, 'titan': 2090, 'glimps': 2091, 'powel': 2092, 'bite': 2093, 'tini': 2094, 'hype': 2095, 'asleep': 2096, 'north': 2097, 'fals': 2098, 'prime': 2099, '14': 2100, 'strip': 2101, 'till': 2102, 'texa': 2103, 'descript': 2104, 'destruct': 2105, 'revel': 2106, 'africa': 2107, 'surfac': 2108, 'excess': 2109, 'semi': 2110, 'sitcom': 2111, 'arrest': 2112, 'uninterest': 2113, 'inner': 2114, 'spin': 2115, 'makeup': 2116, 'massiv': 2117, 'controversi': 2118, 'twin': 2119, 'dinosaur': 2120, 'argu': 2121, 'hitchcock': 2122, 'maintain': 2123, 'kim': 2124, 'reject': 2125, 'stare': 2126, 'ludicr': 2127, 'melodrama': 2128, 'ideal': 2129, 'insist': 2130, 'expens': 2131, 'press': 2132, 'forest': 2133, 'ga': 2134, 'subplot': 2135, 'supernatur': 2136, 'atroci': 2137, 'ala': 2138, 'host': 2139, 'nail': 2140, 'erot': 2141, 'columbo': 2142, 'dude': 2143, 'presum': 2144, 'notch': 2145, 'identifi': 2146, 'cant': 2147, 'forgett': 2148, 'guest': 2149, 'method': 2150, 'plagu': 2151, 'closer': 2152, 'character': 2153, 'crude': 2154, 'foster': 2155, 'border': 2156, 'ear': 2157, 'beast': 2158, 'princess': 2159, 'lion': 2160, 'landscap': 2161, 'storytel': 2162, 'damag': 2163, 'accus': 2164, 'pacino': 2165, 'previous': 2166, 'bound': 2167, 'urban': 2168, 'jungl': 2169, 'birth': 2170, 'aunt': 2171, 'propaganda': 2172, 'emma': 2173, 'thirti': 2174, 'jess': 2175, 'guid': 2176, 'nude': 2177, 'doll': 2178, 'chose': 2179, 'mainstream': 2180, 'warrior': 2181, 'whoever': 2182, '25': 2183, 'pet': 2184, 'mate': 2185, 'gritti': 2186, 'exact': 2187, 'size': 2188, 'deadli': 2189, 'latest': 2190, 'upset': 2191, 'cooper': 2192, 'merit': 2193, 'friday': 2194, 'poster': 2195, 'sun': 2196, 'citizen': 2197, 'popul': 2198, 'blend': 2199, '1990': 2200, 'rough': 2201, 'warner': 2202, 'settl': 2203, 'contact': 2204, 'ton': 2205, 'corps': 2206, 'buff': 2207, 'wilson': 2208, 'contest': 2209, 'mgm': 2210, 'metal': 2211, 'widow': 2212, 'rat': 2213, 'bu': 2214, 'alic': 2215, 'overcom': 2216, 'environ': 2217, 'pitt': 2218, 'select': 2219, 'revolut': 2220, 'particip': 2221, 'guilti': 2222, 'lift': 2223, 'link': 2224, 'ted': 2225, '1960': 2226, 'corner': 2227, 'afternoon': 2228, 'moron': 2229, 'exagger': 2230, 'accompani': 2231, 'corpor': 2232, 'matrix': 2233, 'prostitut': 2234, 'johnson': 2235, 'hood': 2236, 'sincer': 2237, 'leagu': 2238, 'clair': 2239, 'holm': 2240, 'friendli': 2241, 'instal': 2242, 'doom': 2243, 'multipl': 2244, 'examin': 2245, 'grim': 2246, 'advis': 2247, 'irish': 2248, 'sunday': 2249, 'string': 2250, 'campi': 2251, 'aka': 2252, 'lugosi': 2253, 'defend': 2254, 'blah': 2255, 'junk': 2256, 'hip': 2257, 'rachel': 2258, 'icon': 2259, 'shut': 2260, 'confid': 2261, 'pro': 2262, 'varieti': 2263, 'shake': 2264, 'tight': 2265, 'attach': 2266, 'jaw': 2267, 'goal': 2268, 'denni': 2269, 'mexican': 2270, 'sullivan': 2271, 'medic': 2272, 'directli': 2273, 'dean': 2274, 'courag': 2275, 'bourn': 2276, 'legendari': 2277, 'sentenc': 2278, 'truck': 2279, 'vietnam': 2280, 'terrorist': 2281, 'breast': 2282, 'sarah': 2283, 'duke': 2284, 'prior': 2285, 'yell': 2286, 'un': 2287, 'proceed': 2288, 'entri': 2289, 'hong': 2290, 'behav': 2291, 'split': 2292, 'nose': 2293, 'donald': 2294, 'gather': 2295, 'swim': 2296, 'confess': 2297, 'jerk': 2298, 'stolen': 2299, 'everywher': 2300, 'concentr': 2301, 'borrow': 2302, 'buri': 2303, 'lifetim': 2304, 'forth': 2305, 'crush': 2306, 'unconvinc': 2307, 'deliveri': 2308, 'julia': 2309, 'pan': 2310, 'turkey': 2311, 'spite': 2312, 'lip': 2313, 'california': 2314, 'downright': 2315, 'flight': 2316, 'reward': 2317, 'offici': 2318, 'china': 2319, 'proud': 2320, 'hoffman': 2321, 'quest': 2322, 'freeman': 2323, 'worthwhil': 2324, 'sir': 2325, 'fabul': 2326, 'jail': 2327, 'sink': 2328, 'inept': 2329, 'encourag': 2330, 'notori': 2331, 'jon': 2332, 'lazi': 2333, 'fade': 2334, 'betray': 2335, 'relev': 2336, 'storm': 2337, 'lisa': 2338, 'bag': 2339, 'teeth': 2340, 'cousin': 2341, 'retard': 2342, 'branagh': 2343, 'shower': 2344, 'imageri': 2345, 'survivor': 2346, 'bell': 2347, 'susan': 2348, 'alright': 2349, 'mexico': 2350, 'facial': 2351, 'tremend': 2352, 'quirki': 2353, 'trade': 2354, 'stab': 2355, 'summari': 2356, 'hugh': 2357, 'bride': 2358, 'finger': 2359, 'toler': 2360, 'shark': 2361, 'pose': 2362, 'bitter': 2363, 'hyster': 2364, 'blown': 2365, 'von': 2366, 'ha': 2367, 'christ': 2368, 'scheme': 2369, 'afterward': 2370, 'ron': 2371, 'bone': 2372, 'larri': 2373, 'ned': 2374, 'address': 2375, 'cruel': 2376, 'tour': 2377, 'distinct': 2378, 'feed': 2379, 'beg': 2380, 'snake': 2381, 'traci': 2382, 'thumb': 2383, 'pursu': 2384, 'swear': 2385, 'screw': 2386, 'mechan': 2387, 'raw': 2388, 'stomach': 2389, 'occas': 2390, 'obscur': 2391, 'photo': 2392, 'chair': 2393, 'hardi': 2394, 'gruesom': 2395, 'southern': 2396, 'resist': 2397, 'holiday': 2398, 'chain': 2399, 'heavili': 2400, 'necessarili': 2401, 'render': 2402, 'sidney': 2403, 'argument': 2404, 'cabin': 2405, 'satan': 2406, 'racist': 2407, 'indulg': 2408, 'philip': 2409, 'india': 2410, 'understood': 2411, 'stalk': 2412, 'lay': 2413, 'tongu': 2414, 'pregnant': 2415, 'fourth': 2416, 'outfit': 2417, 'forgot': 2418, 'midnight': 2419, 'obnoxi': 2420, 'belov': 2421, 'integr': 2422, 'carol': 2423, 'ticket': 2424, '17': 2425, 'garden': 2426, 'slapstick': 2427, 'restor': 2428, 'deeper': 2429, 'magazin': 2430, 'inhabit': 2431, 'incid': 2432, 'devot': 2433, 'shoe': 2434, 'brad': 2435, 'lincoln': 2436, 'anticip': 2437, 'underground': 2438, 'benefit': 2439, 'elizabeth': 2440, 'maria': 2441, 'divorc': 2442, 'disbelief': 2443, 'guarante': 2444, 'sandler': 2445, 'lili': 2446, 'mildli': 2447, 'greater': 2448, 'slave': 2449, 'creation': 2450, 'capit': 2451, 'amazingli': 2452, 'princip': 2453, 'cring': 2454, 'explod': 2455, 'bbc': 2456, 'lesli': 2457, 'funnier': 2458, 'extraordinari': 2459, 'halfway': 2460, 'introduct': 2461, 'advantag': 2462, 'tap': 2463, 'enhanc': 2464, 'text': 2465, 'extent': 2466, 'punish': 2467, 'overwhelm': 2468, 'transfer': 2469, 'wreck': 2470, 'horrif': 2471, 'lo': 2472, 'lane': 2473, 'dynam': 2474, 'deliber': 2475, 'east': 2476, 'error': 2477, 'preview': 2478, 'jessica': 2479, 'plant': 2480, 'basi': 2481, 'appli': 2482, 'homosexu': 2483, 'ensu': 2484, 'vacat': 2485, 'miscast': 2486, 'vincent': 2487, 'miller': 2488, '2000': 2489, 'sophist': 2490, 'reed': 2491, 'steel': 2492, 'uncomfort': 2493, 'extend': 2494, 'elev': 2495, 'spoken': 2496, 'sleazi': 2497, 'via': 2498, 'measur': 2499, 'mansion': 2500, 'bollywood': 2501, 'conceiv': 2502, 'cathol': 2503, 'fix': 2504, 'savag': 2505, 'daili': 2506, 'hippi': 2507, 'assign': 2508, 'mous': 2509, 'blair': 2510, 'overact': 2511, 'stanley': 2512, 'alter': 2513, 'melt': 2514, 'beer': 2515, 'goofi': 2516, 'dentist': 2517, 'breathtak': 2518, 'everyday': 2519, 'oppos': 2520, 'properli': 2521, 'succe': 2522, 'burt': 2523, 'subsequ': 2524, 'sacrific': 2525, 'inspector': 2526, 'nowaday': 2527, 'carpent': 2528, 'massacr': 2529, 'neck': 2530, 'block': 2531, 'laura': 2532, 'circl': 2533, 'access': 2534, 'fallen': 2535, 'lesser': 2536, 'concert': 2537, 'grey': 2538, 'portrait': 2539, 'christi': 2540, 'mob': 2541, 'pool': 2542, 'seagal': 2543, 'fay': 2544, 'jewish': 2545, 'jake': 2546, 'competit': 2547, 'relax': 2548, 'sinist': 2549, 'chees': 2550, 'usa': 2551, 'react': 2552, 'isol': 2553, 'nonetheless': 2554, 'ironi': 2555, 'lyric': 2556, 'appal': 2557, 'chop': 2558, 'stink': 2559, 'spiritu': 2560, 'immens': 2561, 'suitabl': 2562, 'nine': 2563, '2006': 2564, 'creep': 2565, 'adopt': 2566, 'sold': 2567, 'shirt': 2568, 'user': 2569, 'showcas': 2570, 'nut': 2571, 'needless': 2572, 'retir': 2573, 'navi': 2574, 'reduc': 2575, 'spring': 2576, 'rage': 2577, 'franchis': 2578, 'luci': 2579, 'bulli': 2580, 'bath': 2581, 'per': 2582, 'nurs': 2583, 'asham': 2584, 'digit': 2585, 'uninspir': 2586, 'zone': 2587, 'jay': 2588, 'stanwyck': 2589, '2001': 2590, 'laid': 2591, 'illustr': 2592, '1940': 2593, 'broadcast': 2594, 'amongst': 2595, 'upper': 2596, 'oddli': 2597, 'sutherland': 2598, 'throat': 2599, 'aspir': 2600, 'disguis': 2601, 'fulfil': 2602, 'stylish': 2603, 'baker': 2604, 'brando': 2605, 'thief': 2606, 'em': 2607, 'impli': 2608, 'pound': 2609, 'endear': 2610, 'nobl': 2611, '18': 2612, 'neighborhood': 2613, 'pride': 2614, 'wwii': 2615, 'wanna': 2616, 'shoulder': 2617, 'dinner': 2618, 'dawn': 2619, 'bett': 2620, '16': 2621, 'coher': 2622, 'distribut': 2623, 'shift': 2624, 'bo': 2625, 'prop': 2626, 'tens': 2627, 'rochest': 2628, 'albeit': 2629, 'diseas': 2630, 'cinematograph': 2631, 'wash': 2632, 'matthau': 2633, 'snow': 2634, 'function': 2635, 'knife': 2636, 'surf': 2637, 'forti': 2638, 'contract': 2639, 'poignant': 2640, 'rebel': 2641, 'silenc': 2642, 'shout': 2643, 'eeri': 2644, 'proof': 2645, 'height': 2646, 'mindless': 2647, 'duti': 2648, 'horrend': 2649, 'cancel': 2650, 'henc': 2651, 'instinct': 2652, 'internet': 2653, 'heat': 2654, 'reunion': 2655, 'derek': 2656, 'cannib': 2657, 'widmark': 2658, 'elvira': 2659, 'silver': 2660, 'chuck': 2661, 'absorb': 2662, 'glori': 2663, 'spielberg': 2664, 'torn': 2665, 'alik': 2666, 'greatli': 2667, 'neat': 2668, 'innov': 2669, 'musician': 2670, 'premier': 2671, 'incoher': 2672, 'mill': 2673, 'pie': 2674, 'elvi': 2675, 'repetit': 2676, 'etern': 2677, 'diamond': 2678, 'homag': 2679, 'racism': 2680, 'fbi': 2681, 'itali': 2682, 'burton': 2683, 'britain': 2684, 'infam': 2685, 'nelson': 2686, 'horrifi': 2687, 'bang': 2688, 'wealthi': 2689, 'redempt': 2690, 'lovabl': 2691, 'blank': 2692, 'crisi': 2693, 'trite': 2694, 'announc': 2695, 'precis': 2696, 'dedic': 2697, 'parallel': 2698, 'chaplin': 2699, 'pat': 2700, 'resolut': 2701, 'helen': 2702, 'ensembl': 2703, 'happili': 2704, 'flop': 2705, 'hammer': 2706, 'wilder': 2707, 'streisand': 2708, 'disagre': 2709, 'conclud': 2710, 'factori': 2711, 'broke': 2712, 'plastic': 2713, 'mar': 2714, 'st': 2715, 'cube': 2716, 'oil': 2717, 'carter': 2718, 'triumph': 2719, 'row': 2720, 'weight': 2721, 'fighter': 2722, 'march': 2723, 'climb': 2724, 'chuckl': 2725, 'own': 2726, 'bush': 2727, 'rocket': 2728, 'vega': 2729, 'boot': 2730, 'dump': 2731, 'wherea': 2732, 'spare': 2733, 'unforgett': 2734, 'kurt': 2735, 'enorm': 2736, 'lust': 2737, 'mst3k': 2738, 'dane': 2739, 'sensibl': 2740, 'luca': 2741, 'meaning': 2742, 'thug': 2743, 'threat': 2744, 'adequ': 2745, 'fifti': 2746, 'arnold': 2747, 'difficulti': 2748, 'caricatur': 2749, 'rap': 2750, 'butt': 2751, 'brand': 2752, 'dear': 2753, 'stress': 2754, 'bobbi': 2755, 'engin': 2756, 'karloff': 2757, 'homeless': 2758, 'polish': 2759, 'secretari': 2760, 'arrog': 2761, 'fest': 2762, 'elabor': 2763, 'flynn': 2764, 'barri': 2765, 'journalist': 2766, 'hamlet': 2767, 'ego': 2768, 'ralph': 2769, 'swing': 2770, 'arrang': 2771, 'spike': 2772, 'resort': 2773, 'induc': 2774, 'conspiraci': 2775, 'unbear': 2776, 'tool': 2777, 'simpson': 2778, 'grate': 2779, 'fanci': 2780, 'puppet': 2781, 'float': 2782, 'pig': 2783, 'boll': 2784, 'basement': 2785, 'guilt': 2786, 'phillip': 2787, 'exercis': 2788, 'muppet': 2789, 'tribut': 2790, 'cruis': 2791, 'choreograph': 2792, '24': 2793, 'ward': 2794, 'slip': 2795, 'puzzl': 2796, 'file': 2797, 'item': 2798, 'tower': 2799, 'document': 2800, 'korean': 2801, 'medium': 2802, 'scarecrow': 2803, 'layer': 2804, 'fianc': 2805, 'toilet': 2806, 'editor': 2807, 'babe': 2808, 'stan': 2809, 'ham': 2810, 'librari': 2811, 'denzel': 2812, 'philosoph': 2813, 'superfici': 2814, 'slaughter': 2815, 'orient': 2816, 'spark': 2817, 'inexplic': 2818, 'assur': 2819, 'doc': 2820, 'territori': 2821, 'catherin': 2822, 'persona': 2823, 'transit': 2824, 'portion': 2825, 'glover': 2826, 'larger': 2827, 'minim': 2828, 'sneak': 2829, 'pg': 2830, 'jeremi': 2831, 'walken': 2832, 'owe': 2833, 'curti': 2834, 'boredom': 2835, 'wolf': 2836, 'financi': 2837, 'dorothi': 2838, 'shi': 2839, 'jet': 2840, 'ban': 2841, 'profound': 2842, 'metaphor': 2843, 'ambigu': 2844, 'multi': 2845, 'backdrop': 2846, 'eleph': 2847, 'whale': 2848, 'cusack': 2849, 'hudson': 2850, 'rave': 2851, 'stiff': 2852, 'elsewher': 2853, '2005': 2854, 'union': 2855, 'birthday': 2856, 'implaus': 2857, 'hack': 2858, 'ultra': 2859, 'viru': 2860, 'notion': 2861, 'gadget': 2862, 'eastwood': 2863, 'newspap': 2864, 'afford': 2865, 'reader': 2866, 'lloyd': 2867, 'bibl': 2868, 'deriv': 2869, 'canada': 2870, 'hawk': 2871, 'squar': 2872, '1st': 2873, 'distanc': 2874, 'superhero': 2875, 'urg': 2876, 'poison': 2877, 'slight': 2878, 'disc': 2879, 'pad': 2880, 'eva': 2881, 'charisma': 2882, 'drown': 2883, 'spread': 2884, 'huh': 2885, 'button': 2886, 'montag': 2887, 'skit': 2888, 'heston': 2889, 'sadist': 2890, 'health': 2891, 'restaur': 2892, 'cure': 2893, 'essenc': 2894, 'muslim': 2895, 'invest': 2896, 'dealt': 2897, 'peak': 2898, 'godfath': 2899, 'maniac': 2900, 'gradual': 2901, 'companion': 2902, 'estat': 2903, 'lab': 2904, 'fetch': 2905, 'scoobi': 2906, 'kane': 2907, 'servant': 2908, 'alli': 2909, 'ritter': 2910, 'cup': 2911, 'tea': 2912, 'gothic': 2913, 'countless': 2914, 'subtleti': 2915, 'miik': 2916, 'salli': 2917, 'electr': 2918, 'charismat': 2919, 'heroic': 2920, 'iii': 2921, 'briefli': 2922, 'elect': 2923, 'reel': 2924, 'cole': 2925, 'neil': 2926, 'grandmoth': 2927, 'bud': 2928, 'nuanc': 2929, 'resourc': 2930, 'tender': 2931, 'wannab': 2932, 'admittedli': 2933, 'ingredi': 2934, 'toss': 2935, 'punk': 2936, 'label': 2937, 'mafia': 2938, 'poverti': 2939, 'shall': 2940, 'dawson': 2941, 'stood': 2942, 'gate': 2943, 'mild': 2944, 'stronger': 2945, 'kubrick': 2946, 'reev': 2947, 'pauli': 2948, 'carrey': 2949, 'pit': 2950, 'updat': 2951, 'tag': 2952, 'cox': 2953, 'burst': 2954, 'ian': 2955, 'fond': 2956, 'smash': 2957, 'easier': 2958, 'cardboard': 2959, 'smooth': 2960, 'outcom': 2961, 'useless': 2962, 'assault': 2963, 'terri': 2964, 'bakshi': 2965, 'astair': 2966, 'vari': 2967, 'vulner': 2968, 'sketch': 2969, 'resolv': 2970, 'rex': 2971, 'melodramat': 2972, 'fist': 2973, 'exchang': 2974, 'divers': 2975, 'qualifi': 2976, '2002': 2977, 'increasingli': 2978, 'samurai': 2979, 'coincid': 2980, 'luckili': 2981, 'insert': 2982, 'tame': 2983, 'brillianc': 2984, 'suspend': 2985, 'conveni': 2986, 'templ': 2987, 'scratch': 2988, 'blast': 2989, 'be': 2990, 'reynold': 2991, 'gotta': 2992, 'matthew': 2993, 'seventi': 2994, 'nuclear': 2995, 'coach': 2996, 'meat': 2997, 'jami': 2998, 'soprano': 2999, 'fisher': 3000, 'strictli': 3001, 'farm': 3002, 'hamilton': 3003, 'ambiti': 3004, 'pin': 3005, 'walker': 3006, 'struck': 3007, 'kudo': 3008, 'recreat': 3009, 'closet': 3010, 'ninja': 3011, 'convolut': 3012, 'instantli': 3013, 'empir': 3014, 'butcher': 3015, 'grasp': 3016, 'spooki': 3017, 'revers': 3018, 'brosnan': 3019, 'monk': 3020, 'clock': 3021, 'eccentr': 3022, 'worthless': 3023, 'cave': 3024, 'timeless': 3025, 'discoveri': 3026, 'joey': 3027, 'cliff': 3028, 'selfish': 3029, 'fifteen': 3030, 'clown': 3031, 'pal': 3032, 'gray': 3033, 'miracl': 3034, 'sidekick': 3035, 'bleak': 3036, 'declar': 3037, 'partli': 3038, 'norman': 3039, 'sloppi': 3040, 'eighti': 3041, 'importantli': 3042, 'evok': 3043, 'mitchel': 3044, 'communist': 3045, 'seller': 3046, 'wipe': 3047, 'inconsist': 3048, 'superbl': 3049, 'stoog': 3050, 'debat': 3051, '45': 3052, 'enthusiast': 3053, 'websit': 3054, 'destin': 3055, 'aforement': 3056, 'cheek': 3057, 'farc': 3058, 'psychiatrist': 3059, 'seed': 3060, 'lifestyl': 3061, 'piano': 3062, 'chew': 3063, 'ho': 3064, 'australia': 3065, 'flawless': 3066, 'regardless': 3067, 'slice': 3068, 'splatter': 3069, 'bash': 3070, 'dire': 3071, 'wrestl': 3072, 'directori': 3073, 'pressur': 3074, 'emili': 3075, 'kitchen': 3076, 'incompet': 3077, 'drivel': 3078, 'wick': 3079, 'abc': 3080, 'soviet': 3081, 'dash': 3082, 'akshay': 3083, 'anni': 3084, 'chapter': 3085, 'artifici': 3086, 'blob': 3087, 'curios': 3088, 'ken': 3089, 'prize': 3090, 'boil': 3091, 'glow': 3092, 'cagney': 3093, 'mann': 3094, 'recov': 3095, 'distant': 3096, 'seduc': 3097, 'helicopt': 3098, 'pleasantli': 3099, 'flower': 3100, 'cameron': 3101, 'increas': 3102, 'dave': 3103, 'duo': 3104, 'suppli': 3105, 'judi': 3106, 'jar': 3107, 'cia': 3108, 'lou': 3109, 'beaten': 3110, 'doo': 3111, 'turner': 3112, 'laurel': 3113, 'craig': 3114, 'craven': 3115, 'perri': 3116, 'drunken': 3117, 'web': 3118, 'splendid': 3119, 'francisco': 3120, 'favour': 3121, 'ellen': 3122, 'glenn': 3123, 'eleg': 3124, 'ranger': 3125, 'panic': 3126, 'combat': 3127, 'goldberg': 3128, 'psychot': 3129, 'hop': 3130, 'falk': 3131, 'min': 3132, 'flip': 3133, 'fx': 3134, '20th': 3135, 'graduat': 3136, 'philosophi': 3137, 'rid': 3138, 'hatr': 3139, 'shortli': 3140, 'alexand': 3141, 'wizard': 3142, 'gentl': 3143, 'plausibl': 3144, 'modesti': 3145, 'ruth': 3146, 'slightest': 3147, 'greek': 3148, 'gandhi': 3149, 'we': 3150, 'lend': 3151, 'unpleas': 3152, 'harm': 3153, 'tall': 3154, 'preciou': 3155, 'legal': 3156, 'fund': 3157, 'felix': 3158, 'futurist': 3159, 'ocean': 3160, 'holi': 3161, 'knight': 3162, 'manhattan': 3163, 'jealou': 3164, 'dracula': 3165, 'mock': 3166, 'nod': 3167, 'bless': 3168, 'reviv': 3169, 'tank': 3170, 'giallo': 3171, 'thread': 3172, 'childish': 3173, 'scientif': 3174, 'explicit': 3175, 'ami': 3176, 'digniti': 3177, 'overdon': 3178, 'forbidden': 3179, 'awaken': 3180, 'elderli': 3181, 'mel': 3182, 'awe': 3183, '2004': 3184, 'torment': 3185, 'unwatch': 3186, '99': 3187, 'thick': 3188, 'yesterday': 3189, 'repeatedli': 3190, 'verhoeven': 3191, 'pirat': 3192, 'fever': 3193, 'nerv': 3194, 'margaret': 3195, 'eve': 3196, 'broad': 3197, 'acclaim': 3198, 'publish': 3199, 'bin': 3200, 'kay': 3201, 'griffith': 3202, 'uniform': 3203, 'politician': 3204, 'custom': 3205, 'ah': 3206, 'launch': 3207, 'roman': 3208, 'romero': 3209, 'automat': 3210, 'royal': 3211, 'ambit': 3212, 'rivet': 3213, 'lean': 3214, 'eas': 3215, 'absenc': 3216, 'stiller': 3217, 'timothi': 3218, 'crook': 3219, 'phrase': 3220, 'pierc': 3221, 'transport': 3222, 'antic': 3223, 'warren': 3224, 'sunshin': 3225, 'wallac': 3226, 'stinker': 3227, 'gabriel': 3228, 'darker': 3229, 'homicid': 3230, 'pulp': 3231, 'bathroom': 3232, 'purpl': 3233, 'tomato': 3234, 'termin': 3235, 'foul': 3236, 'coloni': 3237, 'q': 3238, 'choreographi': 3239, 'kenneth': 3240, 'donna': 3241, 'juvenil': 3242, 'viciou': 3243, 'marin': 3244, 'karen': 3245, '2003': 3246, 'revolutionari': 3247, 'brazil': 3248, 'ought': 3249, 'evolv': 3250, 'rambo': 3251, 'packag': 3252, 'hollow': 3253, 'prom': 3254, 'sixti': 3255, 'contrari': 3256, 'awak': 3257, 'saint': 3258, 'album': 3259, 'horrid': 3260, 'pray': 3261, 'li': 3262, 'eyr': 3263, 'mildr': 3264, 'ramon': 3265, 'dose': 3266, 'ireland': 3267, 'conserv': 3268, 'beatti': 3269, 'option': 3270, 'candid': 3271, 'defi': 3272, 'stole': 3273, 'kapoor': 3274, 'blade': 3275, 'boast': 3276, 'mummi': 3277, 'nerd': 3278, 'twelv': 3279, 'overr': 3280, 'altman': 3281, 'flame': 3282, 'astonish': 3283, 'collabor': 3284, 'global': 3285, 'natali': 3286, 'trio': 3287, 'fulci': 3288, 'kirk': 3289, 'jazz': 3290, 'confirm': 3291, 'detract': 3292, 'protest': 3293, 'funer': 3294, 'nicholson': 3295, 'racial': 3296, 'audio': 3297, 'destini': 3298, 'whip': 3299, 'tommi': 3300, 'delici': 3301, 'bull': 3302, 'mystic': 3303, 'spit': 3304, 'leap': 3305, 'blake': 3306, 'yellow': 3307, 'shade': 3308, 'bottl': 3309, 'enterpris': 3310, 'vivid': 3311, 'threw': 3312, 'adolesc': 3313, 'altogeth': 3314, 'meaningless': 3315, 'bedroom': 3316, 'staff': 3317, 'inherit': 3318, 'harder': 3319, 'todd': 3320, 'enchant': 3321, 'pseudo': 3322, 'merci': 3323, 'neo': 3324, 'reunit': 3325, 'visibl': 3326, 'swedish': 3327, 'fonda': 3328, 'popcorn': 3329, 'kennedi': 3330, 'moodi': 3331, 'bust': 3332, 'madonna': 3333, 'synopsi': 3334, 'tip': 3335, 'suspici': 3336, 'leonard': 3337, 'exhibit': 3338, 'decor': 3339, 'atlanti': 3340, 'roommat': 3341, 'ruthless': 3342, 'voight': 3343, 'await': 3344, 'edi': 3345, 'respond': 3346, 'lemmon': 3347, 'crocodil': 3348, 'uneven': 3349, 'wire': 3350, 'fanat': 3351, 'befriend': 3352, 'reserv': 3353, 'lawrenc': 3354, 'jew': 3355, 'unsettl': 3356, 'clint': 3357, 'clumsi': 3358, 'bold': 3359, 'bargain': 3360, 'dimens': 3361, 'abysm': 3362, 'incident': 3363, 'ventur': 3364, 'rural': 3365, 'carl': 3366, 'audit': 3367, 'garner': 3368, '2007': 3369, 'voyag': 3370, 'centr': 3371, 'holli': 3372, 'chao': 3373, 'bradi': 3374, 'palma': 3375, 'cd': 3376, 'ant': 3377, 'acknowledg': 3378, 'cuba': 3379, 'elimin': 3380, 'tiger': 3381, 'neglect': 3382, 'cari': 3383, 'humili': 3384, 'nearbi': 3385, 'wealth': 3386, 'poetic': 3387, 'timon': 3388, 'characterist': 3389, 'versu': 3390, 'mall': 3391, 'imperson': 3392, 'trail': 3393, 'lit': 3394, 'immigr': 3395, 'troop': 3396, '2nd': 3397, 'hart': 3398, 'daddi': 3399, 'echo': 3400, 'marshal': 3401, 'solo': 3402, 'celluloid': 3403, 'pun': 3404, 'collaps': 3405, 'domest': 3406, 'repuls': 3407, 'prejudic': 3408, 'homer': 3409, 'saga': 3410, 'mistaken': 3411, 'paus': 3412, 'jeffrey': 3413, 'mickey': 3414, 'infect': 3415, 'equip': 3416, 'harvey': 3417, 'coat': 3418, 'hbo': 3419, 'milk': 3420, 'gear': 3421, 'chest': 3422, '1996': 3423, 'inan': 3424, 'apolog': 3425, 'promin': 3426, 'cake': 3427, 'pant': 3428, 'coffe': 3429, 'inappropri': 3430, 'assembl': 3431, 'undoubtedli': 3432, 'ginger': 3433, 'sore': 3434, 'interrupt': 3435, 'tribe': 3436, 'olivi': 3437, 'leon': 3438, 'florida': 3439, 'exot': 3440, 'trace': 3441, 'solut': 3442, 'pen': 3443, 'retain': 3444, 'instant': 3445, 'aveng': 3446, 'colleagu': 3447, 'jenni': 3448, 'furthermor': 3449, 'primari': 3450, 'brooklyn': 3451, 'devast': 3452, 'colonel': 3453, 'institut': 3454, 'embrac': 3455, 'humbl': 3456, 'highest': 3457, 'consum': 3458, 'vulgar': 3459, 'polanski': 3460, 'airplan': 3461, 'pot': 3462, 'maggi': 3463, 'dutch': 3464, 'ya': 3465, 'cope': 3466, 'linda': 3467, 'godzilla': 3468, 'poke': 3469, 'illog': 3470, 'sale': 3471, '3rd': 3472, 'dian': 3473, 'seduct': 3474, 'smaller': 3475, '1999': 3476, 'outer': 3477, 'rick': 3478, 'principl': 3479, 'descend': 3480, 'bowl': 3481, 'wive': 3482, 'gender': 3483, 'strain': 3484, 'disabl': 3485, 'gloriou': 3486, 'beneath': 3487, 'secondli': 3488, 'predecessor': 3489, 'vast': 3490, 'hal': 3491, 'cue': 3492, 'rabbit': 3493, 'yard': 3494, 'scope': 3495, 'blatant': 3496, 'inferior': 3497, 'bubbl': 3498, 'gundam': 3499, 'lol': 3500, 'mixtur': 3501, 'dive': 3502, 'primarili': 3503, 'devoid': 3504, 'glamor': 3505, 'dud': 3506, 'aggress': 3507, 'disjoint': 3508, 'arab': 3509, 'garbo': 3510, 'invas': 3511, 'countrysid': 3512, 'april': 3513, 'breed': 3514, 'shirley': 3515, 'shelf': 3516, 'domino': 3517, 'alert': 3518, 'casual': 3519, 'senseless': 3520, 'talki': 3521, 'streep': 3522, 'trademark': 3523, 'simplist': 3524, 'museum': 3525, 'et': 3526, 'pearl': 3527, 'grinch': 3528, 'myer': 3529, 'hideou': 3530, 'z': 3531, 'alfr': 3532, 'experiment': 3533, 'stack': 3534, 'robberi': 3535, 'mayor': 3536, 'hardcor': 3537, 'uwe': 3538, 'slide': 3539, 'illeg': 3540, 'stir': 3541, 'boom': 3542, 'khan': 3543, 'defens': 3544, 'disgrac': 3545, 'unhappi': 3546, 'hopeless': 3547, 'oz': 3548, 'vanish': 3549, 'loyal': 3550, 'rendit': 3551, 'maci': 3552, 'stellar': 3553, 'obtain': 3554, 'acid': 3555, 'applaud': 3556, 'robinson': 3557, 'sh': 3558, 'mail': 3559, 'rifl': 3560, 'span': 3561, 'dismiss': 3562, 'dicken': 3563, 'topless': 3564, 'wont': 3565, 'declin': 3566, 'emphasi': 3567, 'fri': 3568, 'psychic': 3569, 'grandfath': 3570, 'recruit': 3571, 'tenant': 3572, 'spider': 3573, 'incomprehens': 3574, 'diana': 3575, 'craze': 3576, 'tempt': 3577, 'amanda': 3578, 'blew': 3579, 'counter': 3580, 'berlin': 3581, 'soccer': 3582, 'scroog': 3583, 'hartley': 3584, 'riot': 3585, 'goer': 3586, 'ration': 3587, 'parad': 3588, 'porno': 3589, 'revolt': 3590, 'faster': 3591, 'intim': 3592, 'shed': 3593, 'shaw': 3594, 'trashi': 3595, 'lumet': 3596, 'resurrect': 3597, 'justin': 3598, 'wet': 3599, 'niro': 3600, 'ethnic': 3601, 'bitch': 3602, 'woo': 3603, 'sibl': 3604, 'sympath': 3605, 'slick': 3606, 'partial': 3607, 'enlighten': 3608, 'ballet': 3609, 'feminist': 3610, 'mario': 3611, 'farmer': 3612, 'wheel': 3613, 'gap': 3614, 'steam': 3615, 'biographi': 3616, 'wendi': 3617, 'andr': 3618, 'patriot': 3619, 'immort': 3620, 'lena': 3621, 'unreal': 3622, 'honesti': 3623, 'ensur': 3624, 'commend': 3625, 'choru': 3626, 'jonathan': 3627, '00': 3628, 'hopper': 3629, 'nephew': 3630, 'weakest': 3631, 'hesit': 3632, 'dealer': 3633, 'worm': 3634, 'eager': 3635, 'region': 3636, 'rider': 3637, 'sandra': 3638, 'owen': 3639, 'safeti': 3640, 'repress': 3641, 'vice': 3642, 'macarthur': 3643, 'victori': 3644, 'snap': 3645, 'properti': 3646, 'mutant': 3647, 'sappi': 3648, 'confin': 3649, 'similarli': 3650, 'psychopath': 3651, 'blunt': 3652, 'hung': 3653, 'util': 3654, 'charlott': 3655, 'composit': 3656, 'skull': 3657, 'leo': 3658, 'nostalg': 3659, 'morri': 3660, 'kingdom': 3661, 'franco': 3662, 'wore': 3663, 'prequel': 3664, 'acquir': 3665, 'bumbl': 3666, 'dust': 3667, '1972': 3668, 'rocki': 3669, 'del': 3670, 'thru': 3671, 'tail': 3672, 'emperor': 3673, 'deed': 3674, 'exit': 3675, 'drain': 3676, 'farrel': 3677, 'repli': 3678, 'rope': 3679, 'bow': 3680, 'speci': 3681, 'drum': 3682, 'nervou': 3683, 'miseri': 3684, 'bonu': 3685, 'compens': 3686, 'heartbreak': 3687, 'strand': 3688, 'campbel': 3689, 'tad': 3690, 'compass': 3691, 'recycl': 3692, 'kyle': 3693, 'valuabl': 3694, 'latin': 3695, 'bergman': 3696, 'cg': 3697, 'rambl': 3698, 'montana': 3699, 'whoopi': 3700, 'despair': 3701, 'pattern': 3702, 'hyde': 3703, 'dalton': 3704, 'snl': 3705, 'oppress': 3706, '35': 3707, 'wacki': 3708, 'tonight': 3709, 'gal': 3710, 'rapist': 3711, 'pour': 3712, 'airport': 3713, 'roth': 3714, 'gimmick': 3715, 'slug': 3716, 'rotten': 3717, 'romp': 3718, 'mistress': 3719, 'bleed': 3720, 'olli': 3721, 'contempl': 3722, 'carradin': 3723, 'downhil': 3724, 'orson': 3725, 'percept': 3726, 'radic': 3727, 'chess': 3728, 'da': 3729, 'martian': 3730, 'edgar': 3731, 'tackl': 3732, 'arguabl': 3733, 'arc': 3734, 'champion': 3735, 'stilt': 3736, 'slash': 3737, 'unpredict': 3738, 'attorney': 3739, 'banal': 3740, 'preach': 3741, '1983': 3742, 'heal': 3743, 'dazzl': 3744, 'programm': 3745, 'pursuit': 3746, 'mislead': 3747, 'tooth': 3748, 'paltrow': 3749, 'shelley': 3750, 'taught': 3751, 'pervers': 3752, 'melodi': 3753, 'belt': 3754, 'pervert': 3755, 'duval': 3756, 'employe': 3757, 'virginia': 3758, 'plight': 3759, 'vengeanc': 3760, 'rubi': 3761, 'chicken': 3762, 'graham': 3763, 'bela': 3764, 'franki': 3765, 'orang': 3766, 'closest': 3767, 'tiresom': 3768, 'uplift': 3769, 'mesmer': 3770, 'raymond': 3771, 'poem': 3772, 'maid': 3773, 'marti': 3774, 'passeng': 3775, 'sensat': 3776, 'cleverli': 3777, 'conneri': 3778, 'gambl': 3779, 'vocal': 3780, 'dixon': 3781, 'suffic': 3782, 'clone': 3783, 'crystal': 3784, 'giggl': 3785, 'yawn': 3786, 'secretli': 3787, 'mute': 3788, 'monologu': 3789, 'outing': 3790, '1968': 3791, 'paranoia': 3792, 'bay': 3793, 'inject': 3794, 'engross': 3795, 'gerard': 3796, 'iran': 3797, 'tube': 3798, 'numb': 3799, 'convincingli': 3800, 'profan': 3801, 'climact': 3802, 'extens': 3803, 'whine': 3804, 'calm': 3805, 'pokemon': 3806, 'swallow': 3807, 'scottish': 3808, 'lundgren': 3809, 'amitabh': 3810, 'sirk': 3811, 'volum': 3812, 'abraham': 3813, 'habit': 3814, 'quarter': 3815, 'taxi': 3816, 'trend': 3817, 'dispos': 3818, 'grotesqu': 3819, 'lowest': 3820, 'poetri': 3821, 'nichola': 3822, 'chicago': 3823, 'expand': 3824, 'underst': 3825, 'franci': 3826, 'junior': 3827, 'ethan': 3828, 'richardson': 3829, 'spock': 3830, 'septemb': 3831, 'fed': 3832, 'bend': 3833, 'earl': 3834, 'surpass': 3835, 'linger': 3836, 'profess': 3837, 'im': 3838, 'abort': 3839, 'plod': 3840, 'meander': 3841, 'frankenstein': 3842, 'austen': 3843, 'backward': 3844, 'greedi': 3845, 'sue': 3846, 'muddl': 3847, 'tourist': 3848, 'econom': 3849, 'compliment': 3850, 'rubber': 3851, 'household': 3852, 'eugen': 3853, 'dysfunct': 3854, 'instrument': 3855, 'cannon': 3856, 'rant': 3857, 'myth': 3858, 'literatur': 3859, 'nostalgia': 3860, 'lure': 3861, 'spoke': 3862, 'catchi': 3863, 'descent': 3864, 'hum': 3865, 'waitress': 3866, 'simplic': 3867, 'der': 3868, 'mundan': 3869, 'stallon': 3870, 'omen': 3871, 'eaten': 3872, 'recognit': 3873, 'louis': 3874, 'insur': 3875, 'occupi': 3876, 'crucial': 3877, 'stale': 3878, 'firstli': 3879, 'mortal': 3880, 'mankind': 3881, 'phoni': 3882, 'map': 3883, 'bacal': 3884, 'cent': 3885, 'recognis': 3886, 'alongsid': 3887, 'phantom': 3888, 'hello': 3889, 'sissi': 3890, 'lang': 3891, 'coast': 3892, 'carel': 3893, 'damon': 3894, 'june': 3895, 'molli': 3896, 'equival': 3897, 'irrelev': 3898, 'flee': 3899, 'randi': 3900, 'duck': 3901, 'dement': 3902, 'furi': 3903, 'dictat': 3904, 'deaf': 3905, 'dreari': 3906, 'freez': 3907, 'onlin': 3908, 'ashley': 3909, 'daisi': 3910, 'biko': 3911, 'likewis': 3912, 'heel': 3913, 'lengthi': 3914, 'distinguish': 3915, 'antwon': 3916, '1973': 3917, 'buffalo': 3918, 'wisdom': 3919, 'loyalti': 3920, 'damm': 3921, 'bump': 3922, 'reign': 3923, 'rude': 3924, 'drake': 3925, 'blackmail': 3926, 'bike': 3927, 'twilight': 3928, 'grayson': 3929, 'newli': 3930, 'rooney': 3931, 'cyborg': 3932, 'labor': 3933, 'approv': 3934, 'worn': 3935, 'boxer': 3936, 'keith': 3937, 'unorigin': 3938, 'incorpor': 3939, 'pink': 3940, 'attribut': 3941, 'analysi': 3942, 'ridden': 3943, 'nineti': 3944, 'provoc': 3945, 'vein': 3946, 'proce': 3947, 'baddi': 3948, 'exposur': 3949, 'prey': 3950, 'butler': 3951, 'interior': 3952, 'basketbal': 3953, 'chronicl': 3954, 'barrymor': 3955, 'tunnel': 3956, 'sailor': 3957, 'inher': 3958, 'startl': 3959, 'emphas': 3960, 'walsh': 3961, 'drift': 3962, 'unrel': 3963, 'fleet': 3964, 'belushi': 3965, 'bunni': 3966, 'predat': 3967, 'degrad': 3968, 'mormon': 3969, 'substitut': 3970, 'millionair': 3971, 'othello': 3972, 'indiffer': 3973, 'undeni': 3974, 'meyer': 3975, 'condemn': 3976, 'robbin': 3977, 'barrel': 3978, 'er': 3979, 'hypnot': 3980, 'underli': 3981, 'simmon': 3982, 'mighti': 3983, 'meg': 3984, 'elm': 3985, 'improvis': 3986, 'nicol': 3987, 'julian': 3988, 'carla': 3989, 'stalker': 3990, 'agenda': 3991, 'warmth': 3992, 'reid': 3993, 'exquisit': 3994, 'watson': 3995, 'vital': 3996, 'enthusiasm': 3997, 'lampoon': 3998, 'alarm': 3999, 'rukh': 4000, 'palac': 4001, 'firm': 4002, 'roof': 4003, 'priceless': 4004, 'mtv': 4005, 'marion': 4006, 'disord': 4007, '3d': 4008, 'shove': 4009, 'nyc': 4010, 'alison': 4011, 'unawar': 4012, 'greed': 4013, 'dolph': 4014, 'errol': 4015, 'edgi': 4016, 'hay': 4017, 'novak': 4018, 'preserv': 4019, 'showdown': 4020, 'minimum': 4021, 'valentin': 4022, 'spain': 4023, 'petti': 4024, 'randomli': 4025, 'nun': 4026, 'israel': 4027, 'gestur': 4028, 'peck': 4029, 'unleash': 4030, 'session': 4031, 'championship': 4032, 'testament': 4033, 'orlean': 4034, 'ponder': 4035, 'profit': 4036, 'sergeant': 4037, 'cassidi': 4038, 'what': 4039, 'coup': 4040, 'peril': 4041, 'eastern': 4042, 'iraq': 4043, 'simultan': 4044, 'campaign': 4045, '1933': 4046, 'drip': 4047, '13th': 4048, 'crown': 4049, 'angela': 4050, 'pamela': 4051, 'beatl': 4052, 'distort': 4053, 'thompson': 4054, 'glanc': 4055, 'zizek': 4056, 'represent': 4057, 'mon': 4058, 'regist': 4059, 'bro': 4060, 'buster': 4061, 'reson': 4062, 'travesti': 4063, 'scotland': 4064, 'stroke': 4065, 'cooki': 4066, 'realm': 4067, 'calib': 4068, 'unimagin': 4069, 'quinn': 4070, 'contradict': 4071, 'perpetu': 4072, 'cream': 4073, 'han': 4074, 'brenda': 4075, 'restrain': 4076, 'climat': 4077, 'stake': 4078, 'wig': 4079, 'empathi': 4080, 'rout': 4081, 'jan': 4082, 'shootout': 4083, '1984': 4084, 'kurosawa': 4085, 'gentleman': 4086, 'crawl': 4087, 'miyazaki': 4088, 'exposit': 4089, 'crow': 4090, 'din': 4091, 'sabrina': 4092, 'valley': 4093, 'fido': 4094, 'pretens': 4095, 'geek': 4096, 'crawford': 4097, 'shaki': 4098, 'demis': 4099, 'pole': 4100, 'monoton': 4101, 'abomin': 4102, 'shoddi': 4103, 'mclaglen': 4104, 'censor': 4105, 'painter': 4106, 'greg': 4107, 'baldwin': 4108, 'fuller': 4109, 'ross': 4110, 'passabl': 4111, 'compromis': 4112, 'unseen': 4113, 'wax': 4114, '1987': 4115, 'delic': 4116, 'sucker': 4117, 'traumat': 4118, 'perceiv': 4119, 'meryl': 4120, 'unsatisfi': 4121, 'cloud': 4122, 'sammi': 4123, 'dana': 4124, 'distress': 4125, '1997': 4126, 'femm': 4127, 'derang': 4128, 'darren': 4129, 'warrant': 4130, 'spacey': 4131, 'soderbergh': 4132, 'tacki': 4133, 'ustinov': 4134, 'businessman': 4135, 'josh': 4136, 'absent': 4137, 'stargat': 4138, 'norm': 4139, 'fenc': 4140, 'judgment': 4141, 'uncov': 4142, 'click': 4143, 'tarantino': 4144, 'valid': 4145, 'deniro': 4146, 'polici': 4147, 'clash': 4148, 'verbal': 4149, 'correctli': 4150, 'austin': 4151, 'dee': 4152, 'exclus': 4153, 'primit': 4154, 'deceas': 4155, 'accuraci': 4156, 'sid': 4157, 'seal': 4158, 'unravel': 4159, 'tech': 4160, '1993': 4161, 'fog': 4162, 'anchor': 4163, 'kumar': 4164, 'furiou': 4165, 'antonioni': 4166, 'wholli': 4167, 'expedit': 4168, 'jewel': 4169, 'reluct': 4170, 'nathan': 4171, 'enforc': 4172, '1971': 4173, 'dreck': 4174, 'pocket': 4175, 'sand': 4176, '2008': 4177, 'behold': 4178, 'temper': 4179, 'bake': 4180, 'darn': 4181, 'shanghai': 4182, 'conduct': 4183, 'slam': 4184, '3000': 4185, 'mode': 4186, 'fought': 4187, 'roller': 4188, 'trait': 4189, 'sheet': 4190, 'wretch': 4191, 'fart': 4192, 'hallucin': 4193, 'malon': 4194, 'sunni': 4195, 'crippl': 4196, 'sustain': 4197, 'clerk': 4198, 'seldom': 4199, 'fabric': 4200, 'patienc': 4201, 'joel': 4202, 'wang': 4203, 'nicola': 4204, 'tax': 4205, 'logan': 4206, 'murray': 4207, '1995': 4208, 'debt': 4209, 'unfair': 4210, 'alec': 4211, 'ritual': 4212, 'vanc': 4213, 'runner': 4214, 'sweep': 4215, 'robber': 4216, 'clau': 4217, 'shell': 4218, 'preston': 4219, 'pete': 4220, 'bias': 4221, 'squad': 4222, 'soup': 4223, 'phil': 4224, 'exhaust': 4225, 'helpless': 4226, 'conscious': 4227, 'schedul': 4228, 'critiqu': 4229, 'despis': 4230, 'fundament': 4231, 'isabel': 4232, 'guitar': 4233, 'scriptwrit': 4234, 'divid': 4235, 'preposter': 4236, 'canyon': 4237, 'rita': 4238, 'grief': 4239, 'tactic': 4240, 'penni': 4241, 'stuart': 4242, 'technicolor': 4243, 'stark': 4244, 'bridget': 4245, 'legaci': 4246, 'outlin': 4247, 'liberti': 4248, 'downey': 4249, 'restrict': 4250, 'jodi': 4251, 'lacklust': 4252, 'implic': 4253, 'jacket': 4254, 'invad': 4255, 'newman': 4256, 'vomit': 4257, 'passag': 4258, 'unexpectedli': 4259, 'gregori': 4260, 'culmin': 4261, 'rehash': 4262, 'rear': 4263, 'sniper': 4264, 'flair': 4265, 'agenc': 4266, 'sugar': 4267, 'kansa': 4268, 'marc': 4269, 'russia': 4270, 'alicia': 4271, 'connor': 4272, 'cigarett': 4273, 'bloom': 4274, 'boyl': 4275, 'alley': 4276, 'delv': 4277, 'propos': 4278, 'palanc': 4279, 'consciou': 4280, 'inabl': 4281, 'drove': 4282, 'sentinel': 4283, 'wrench': 4284, 'chainsaw': 4285, 'cap': 4286, 'asylum': 4287, 'aesthet': 4288, 'yeti': 4289, 'rampag': 4290, '1936': 4291, 'behaviour': 4292, 'karl': 4293, 'foxx': 4294, 'delet': 4295, 'lush': 4296, 'tendenc': 4297, 'arrow': 4298, 'pale': 4299, 'awhil': 4300, 'horn': 4301, 'vet': 4302, 'feat': 4303, 'improb': 4304, 'rehears': 4305, 'kolchak': 4306, 'bacon': 4307, 'ladder': 4308, 'rod': 4309, 'tripe': 4310, 'mccoy': 4311, '22': 4312, 'sharon': 4313, 'wildli': 4314, '1978': 4315, '1988': 4316, 'fright': 4317, 'rhythm': 4318, 'paradis': 4319, 'financ': 4320, 'aristocrat': 4321, 'tomorrow': 4322, 'spice': 4323, '1920': 4324, 'hulk': 4325, 'filler': 4326, 'globe': 4327, 'hungri': 4328, 'basing': 4329, 'newcom': 4330, 'minu': 4331, 'lurk': 4332, 'paramount': 4333, 'coaster': 4334, 'hackney': 4335, 'loneli': 4336, 'amazon': 4337, 'visitor': 4338, 'el': 4339, 'weav': 4340, '19th': 4341, 'suspicion': 4342, 'rumor': 4343, 'tasteless': 4344, 'sung': 4345, 'elit': 4346, 'thunderbird': 4347, 'shortcom': 4348, 'suffici': 4349, 'conscienc': 4350, 'stream': 4351, 'wagner': 4352, 'underneath': 4353, 'prank': 4354, 'scoop': 4355, '1989': 4356, 'secondari': 4357, 'straightforward': 4358, 'ingeni': 4359, 'literari': 4360, 'choppi': 4361, '1939': 4362, 'couch': 4363, 'curli': 4364, 'springer': 4365, 'brit': 4366, 'en': 4367, '75': 4368, 'grudg': 4369, 'bread': 4370, 'quietli': 4371, 'minist': 4372, 'chavez': 4373, 'entranc': 4374, 'cancer': 4375, 'smell': 4376, 'paxton': 4377, 'standout': 4378, 'abrupt': 4379, 'heist': 4380, 'penn': 4381, 'immers': 4382, 'atroc': 4383, 'inmat': 4384, 'naughti': 4385, 'tierney': 4386, 'recogniz': 4387, 'leigh': 4388, 'chamberlain': 4389, 'wwe': 4390, 'iv': 4391, 'hopkin': 4392, 'impos': 4393, 'ram': 4394, 'worship': 4395, 'counterpart': 4396, 'beverli': 4397, 'dirt': 4398, 'lectur': 4399, 'posey': 4400, 'teas': 4401, 'rub': 4402, 'morbid': 4403, 'convert': 4404, 'transcend': 4405, 'bernard': 4406, 'sublim': 4407, 'nolan': 4408, 'watcher': 4409, 'variat': 4410, 'misguid': 4411, 'enthral': 4412, '1986': 4413, 'geni': 4414, 'duel': 4415, 'moreov': 4416, 'missil': 4417, 'clan': 4418, 'policeman': 4419, 'esther': 4420, 'yearn': 4421, 'heartfelt': 4422, 'laurenc': 4423, 'entitl': 4424, 'ace': 4425, 'skeptic': 4426, 'cattl': 4427, 'nemesi': 4428, 'injuri': 4429, 'attenborough': 4430, 'quaid': 4431, 'sassi': 4432, 'ratso': 4433, 'net': 4434, 'lindsay': 4435, 'spiral': 4436, 'unexplain': 4437, 'diari': 4438, 'enabl': 4439, 'poe': 4440, 'grin': 4441, 'buzz': 4442, 'hopelessli': 4443, 'bean': 4444, 'artsi': 4445, 'rosemari': 4446, 'puppi': 4447, 'brood': 4448, 'uncut': 4449, 'steadi': 4450, 'out': 4451, 'hk': 4452, '1979': 4453, 'cruelti': 4454, 'setup': 4455, 'youngest': 4456, 'reliabl': 4457, 'mytholog': 4458, 'kitti': 4459, 'graini': 4460, 'facil': 4461, 'moder': 4462, 'carlito': 4463, 'egg': 4464, 'vader': 4465, 'characteris': 4466, 'dont': 4467, 'bye': 4468, 'obstacl': 4469, 'kidman': 4470, 'tyler': 4471, 'kline': 4472, 'oblig': 4473, 'bewar': 4474, 'brendan': 4475, 'despic': 4476, 'spontan': 4477, 'weather': 4478, 'narrow': 4479, 'exterior': 4480, 'christin': 4481, 'effici': 4482, '1969': 4483, 'gina': 4484, 'underworld': 4485, 'hammi': 4486, 'hain': 4487, 'patricia': 4488, 'bounc': 4489, 'heap': 4490, 'decept': 4491, 'clueless': 4492, 'preming': 4493, 'disastr': 4494, 'fuel': 4495, 'sweat': 4496, 'acquaint': 4497, 'niec': 4498, 'bronson': 4499, 'baffl': 4500, 'athlet': 4501, 'gillian': 4502, 'martha': 4503, 'outlaw': 4504, 'tick': 4505, '73': 4506, 'astound': 4507, 'lester': 4508, 'sooner': 4509, 'harmless': 4510, 'preachi': 4511, 'headach': 4512, 'shatter': 4513, 'renaiss': 4514, 'suprem': 4515, 'dandi': 4516, 'loath': 4517, 'taboo': 4518, 'mermaid': 4519, 'goof': 4520, 'rome': 4521, 'housewif': 4522, 'circu': 4523, 'virtu': 4524, 'angst': 4525, 'dilemma': 4526, 'trigger': 4527, 'biker': 4528, 'insipid': 4529, 'enlist': 4530, 'candl': 4531, 'loi': 4532, '19': 4533, 'sleepwalk': 4534, 'viewpoint': 4535, 'injur': 4536, 'uh': 4537, 'hepburn': 4538, 'scar': 4539, 'mayhem': 4540, 'analyz': 4541, 'fontain': 4542, 'hostag': 4543, 'stimul': 4544, 'steer': 4545, 'immatur': 4546, 'spade': 4547, 'filth': 4548, 'bent': 4549, 'stair': 4550, 'intric': 4551, 'claustrophob': 4552, 'redund': 4553, 'hooker': 4554, 'boston': 4555, 'camcord': 4556, 'corbett': 4557, 'salt': 4558, 'surgeri': 4559, 'dish': 4560, 'ariel': 4561, 'contempt': 4562, 'ebert': 4563, 'amor': 4564, 'cassavet': 4565, 'overlong': 4566, 'foolish': 4567, 'slimi': 4568, 'fluff': 4569, 'zoom': 4570, 'hokey': 4571, 'tripl': 4572, 'gere': 4573, 'sox': 4574, 'scorses': 4575, 'macho': 4576, 'glorifi': 4577, 'whore': 4578, 'oldest': 4579, 'phenomenon': 4580, 'dismal': 4581, 'guin': 4582, 'idol': 4583, 'gabl': 4584, 'harold': 4585, 'assert': 4586, 'strongest': 4587, '1976': 4588, 'shred': 4589, '1981': 4590, 'obligatori': 4591, 'rhyme': 4592, 'antagonist': 4593, 'messi': 4594, 'muscl': 4595, 'flirt': 4596, 'flashi': 4597, 'corman': 4598, 'widescreen': 4599, 'faint': 4600, 'spinal': 4601, 'remad': 4602, 'fascist': 4603, 'shield': 4604, 'frantic': 4605, 'conquer': 4606, 'dwarf': 4607, 'schlock': 4608, 'mount': 4609, 'keen': 4610, 'radiat': 4611, 'joker': 4612, 'zane': 4613, 'perman': 4614, 'cow': 4615, 'beard': 4616, 'cush': 4617, 'transplant': 4618, 'astronaut': 4619, 'flag': 4620, 'spree': 4621, 'trivia': 4622, 'preced': 4623, 'naschi': 4624, 'nolt': 4625, 'mutual': 4626, 'gasp': 4627, 'alvin': 4628, 'margin': 4629, 'proport': 4630, 'down': 4631, 'cohen': 4632, '28': 4633, 'www': 4634, 'danish': 4635, 'archiv': 4636, 'resum': 4637, 'brush': 4638, '1945': 4639, 'bitten': 4640, 'triangl': 4641, 'wield': 4642, 'bachelor': 4643, '95': 4644, 'info': 4645, 'ritchi': 4646, 'instruct': 4647, 'someday': 4648, 'inflict': 4649, 'discern': 4650, 'off': 4651, 'barn': 4652, 'boob': 4653, 'persuad': 4654, 'strive': 4655, 'claud': 4656, 'repris': 4657, 'departur': 4658, 'raj': 4659, 'carey': 4660, 'fishburn': 4661, 'flock': 4662, 'neurot': 4663, 'hara': 4664, 'interestingli': 4665, 'vaniti': 4666, 'mobil': 4667, 'mol': 4668, 'divin': 4669, 'scandal': 4670, 'deer': 4671, 'sensual': 4672, 'aborigin': 4673, 'pixar': 4674, 'proclaim': 4675, 'undermin': 4676, 'earnest': 4677, 'luka': 4678, 'hilar': 4679, 'banter': 4680, 'recit': 4681, 'hug': 4682, 'cliffhang': 4683, 'loretta': 4684, 'senior': 4685, 'ish': 4686, 'carlo': 4687, 'dame': 4688, 'kathryn': 4689, 'vibrant': 4690, 'traffic': 4691, 'axe': 4692, 'neill': 4693, 'colin': 4694, 'fragil': 4695, 'dim': 4696, 'rot': 4697, 'heartwarm': 4698, 'cb': 4699, 'jade': 4700, 'dylan': 4701, 'pacif': 4702, 'cycl': 4703, 'prophet': 4704, 'frontier': 4705, 'parson': 4706, 'submit': 4707, 'timberlak': 4708, 'bate': 4709, 'helm': 4710, 'artwork': 4711, 'clad': 4712, 'hapless': 4713, 'anton': 4714, 'pickford': 4715, 'miracul': 4716, 'melissa': 4717, 'harrison': 4718, 'cher': 4719, 'casino': 4720, 'wendigo': 4721, 'biblic': 4722, 'mobster': 4723, 'europa': 4724, 'winchest': 4725, 'mathieu': 4726, 'isra': 4727, 'orphan': 4728, 'token': 4729, 'http': 4730, 'articl': 4731, 'cerebr': 4732, 'lui': 4733, 'breakfast': 4734, 'lucil': 4735, 'toronto': 4736, 'seedi': 4737, 'choke': 4738, 'mason': 4739, 'illus': 4740, 'jordan': 4741, 'jo': 4742, 'bondag': 4743, 'eli': 4744, 'aris': 4745, 'akin': 4746, 'venom': 4747, 'legitim': 4748, 'antholog': 4749, 'northern': 4750, 'bikini': 4751, 'razor': 4752, 'blatantli': 4753, 'uma': 4754, 'foil': 4755, 'vanessa': 4756, 'pc': 4757, 'feast': 4758, 'alexandr': 4759, 'redneck': 4760, 'estrang': 4761, 'wardrob': 4762, 'nope': 4763, 'static': 4764, 'rooki': 4765, 'marlon': 4766, 'sicken': 4767, 'misfortun': 4768, 'electron': 4769, 'milo': 4770, 'flavor': 4771, 'vile': 4772, 'trier': 4773, 'holocaust': 4774, 'shepherd': 4775, 'psych': 4776, 'swept': 4777, 'clinic': 4778, 'turd': 4779, 'comprehend': 4780, 'peer': 4781, 'dudley': 4782, 'glare': 4783, 'gilbert': 4784, 'abund': 4785, 'smack': 4786, 'boyer': 4787, 'charlton': 4788, 'styliz': 4789, 'howl': 4790, 'fifth': 4791, 'linear': 4792, 'tack': 4793, 'wrestler': 4794, 'nightclub': 4795, 'shorter': 4796, 'affleck': 4797, 'leather': 4798, 'highway': 4799, 'audrey': 4800, 'ideolog': 4801, 'feminin': 4802, 'deem': 4803, 'oppon': 4804, 'huston': 4805, 'ceremoni': 4806, 'knightley': 4807, 'cartoonish': 4808, 'disregard': 4809, 'frog': 4810, 'retriev': 4811, 'outdat': 4812, 'magician': 4813, 'gunga': 4814, 'chip': 4815, 'uniformli': 4816, 'plate': 4817, 'monument': 4818, 'toe': 4819, 'corn': 4820, 'boo': 4821, 'breakdown': 4822, 'tara': 4823, 'lighter': 4824, 'phenomen': 4825, 'goldsworthi': 4826, 'sleaz': 4827, 'moe': 4828, 'energet': 4829, '4th': 4830, 'client': 4831, 'btw': 4832, 'deliver': 4833, 'durat': 4834, '1994': 4835, 'bastard': 4836, 'senat': 4837, 'newer': 4838, 'greet': 4839, 'cemeteri': 4840, 'einstein': 4841, 'conrad': 4842, 'spine': 4843, 'lifeless': 4844, 'snatch': 4845, 'evolut': 4846, 'summar': 4847, 'compris': 4848, 'potter': 4849, 'whack': 4850, 'bogu': 4851, 'cuban': 4852, 'mitch': 4853, 'spawn': 4854, 'collector': 4855, '1991': 4856, 'lavish': 4857, 'braveheart': 4858, 'salman': 4859, 'constitut': 4860, 'pronounc': 4861, 'embark': 4862, 'mcqueen': 4863, 'neatli': 4864, '1974': 4865, 'judd': 4866, 'spectacl': 4867, 'undead': 4868, 'jam': 4869, 'occup': 4870, 'historian': 4871, 'trauma': 4872, 'firmli': 4873, 'creek': 4874, 'luxuri': 4875, 'healthi': 4876, '1977': 4877, 'evelyn': 4878, 'replay': 4879, 'nina': 4880, 'sorrow': 4881, 'ie': 4882, 'cecil': 4883, 'belli': 4884, 'kent': 4885, 'randolph': 4886, 'clara': 4887, 'capot': 4888, 'bulk': 4889, 'fluid': 4890, 'jedi': 4891, 'liu': 4892, 'appl': 4893, 'wtf': 4894, 'eleven': 4895, 'jare': 4896, 'signal': 4897, 'lex': 4898, 'alleg': 4899, 'inaccuraci': 4900, 'outright': 4901, 'undertak': 4902, 'jule': 4903, 'armstrong': 4904, 'bori': 4905, 'kazan': 4906, 'gilliam': 4907, 'ol': 4908, 'roar': 4909, 'knee': 4910, 'spray': 4911, 'porter': 4912, 'miami': 4913, 'meal': 4914, 'conan': 4915, 'bait': 4916, 'tokyo': 4917, 'forgiven': 4918, 'curtain': 4919, 'abound': 4920, 'rosario': 4921, 'genet': 4922, 'carmen': 4923, 'comprehens': 4924, 'truman': 4925, 'subtli': 4926, 'lauren': 4927, '1985': 4928, 'walt': 4929, 'blur': 4930, 'poker': 4931, 'decapit': 4932, 'aussi': 4933, 'fruit': 4934, 'vignett': 4935, 'sidewalk': 4936, 'kiddi': 4937, 'pepper': 4938, 'cape': 4939, 'unsuspect': 4940, 'galaxi': 4941, 'sacrif': 4942, 'inaccur': 4943, 'miniseri': 4944, 'palm': 4945, 'pioneer': 4946, 'mum': 4947, 'groan': 4948, 'goldblum': 4949, 'congratul': 4950, 'ash': 4951, 'comb': 4952, 'unattract': 4953, 'relentless': 4954, 'inclus': 4955, 'basket': 4956, 'antonio': 4957, 'paula': 4958, 'propheci': 4959, 'vain': 4960, 'id': 4961, 'lanc': 4962, 'bsg': 4963, 'victorian': 4964, 'profil': 4965, 'substanti': 4966, 'bach': 4967, 'motorcycl': 4968, 'epitom': 4969, 'asset': 4970, 'verg': 4971, 'modest': 4972, 'evan': 4973, 'spill': 4974, 'weaker': 4975, 'assort': 4976, 'ghetto': 4977, 'scariest': 4978, '21st': 4979, 'vastli': 4980, 'orchestr': 4981, 'sparkl': 4982, 'bravo': 4983, 'reincarn': 4984, 'omin': 4985, 'incorrect': 4986, 'rapidli': 4987, 'macabr': 4988, 'sophi': 4989, 'dubiou': 4990, 'playboy': 4991, 'weari': 4992, 'drone': 4993, 'mice': 4994, 'hackman': 4995, 'monti': 4996, 'optimist': 4997, 'ingrid': 4998, 'frontal': 4999}\n"
     ]
    }
   ],
   "source": [
    "word_dict = build_dict(train_X)\n",
    "print(word_dict)"
   ]
  },
  {
   "cell_type": "markdown",
   "metadata": {},
   "source": [
    "**Question:** What are the five most frequently appearing (tokenized) words in the training set? Does it makes sense that these words appear frequently in the training set?"
   ]
  },
  {
   "cell_type": "markdown",
   "metadata": {},
   "source": [
    "**Answer:**\n",
    "As we can see below, the most common words are: movi, film, one and like. It makes sense that words like \"movie\" and \"film\" are the most common ones on a movie review dataset. "
   ]
  },
  {
   "cell_type": "code",
   "execution_count": 14,
   "metadata": {},
   "outputs": [
    {
     "name": "stdout",
     "output_type": "stream",
     "text": [
      "['movi', 'film', 'one', 'like', 'time']\n"
     ]
    }
   ],
   "source": [
    "# TODO: Use this space to determine the five most frequently appearing words in the training set.\n",
    "\n",
    "most_common_words=list(word_dict.keys())[:5]\n",
    "print(most_common_words)"
   ]
  },
  {
   "cell_type": "markdown",
   "metadata": {},
   "source": [
    "### Save `word_dict`\n",
    "\n",
    "Later on when we construct an endpoint which processes a submitted review we will need to make use of the `word_dict` which we have created. As such, we will save it to a file now for future use."
   ]
  },
  {
   "cell_type": "code",
   "execution_count": 15,
   "metadata": {},
   "outputs": [],
   "source": [
    "data_dir = '../data/pytorch' # The folder we will use for storing data\n",
    "if not os.path.exists(data_dir): # Make sure that the folder exists\n",
    "    os.makedirs(data_dir)"
   ]
  },
  {
   "cell_type": "code",
   "execution_count": 16,
   "metadata": {},
   "outputs": [],
   "source": [
    "with open(os.path.join(data_dir, 'word_dict.pkl'), \"wb\") as f:\n",
    "    pickle.dump(word_dict, f)"
   ]
  },
  {
   "cell_type": "markdown",
   "metadata": {},
   "source": [
    "### Transform the reviews\n",
    "\n",
    "Now that we have our word dictionary which allows us to transform the words appearing in the reviews into integers, it is time to make use of it and convert our reviews to their integer sequence representation, making sure to pad or truncate to a fixed length, which in our case is `500`."
   ]
  },
  {
   "cell_type": "code",
   "execution_count": 17,
   "metadata": {},
   "outputs": [],
   "source": [
    "def convert_and_pad(word_dict, sentence, pad=500):\n",
    "    NOWORD = 0 # We will use 0 to represent the 'no word' category\n",
    "    INFREQ = 1 # and we use 1 to represent the infrequent words, i.e., words not appearing in word_dict\n",
    "    \n",
    "    working_sentence = [NOWORD] * pad\n",
    "    \n",
    "    for word_index, word in enumerate(sentence[:pad]):\n",
    "        if word in word_dict:\n",
    "            working_sentence[word_index] = word_dict[word]\n",
    "        else:\n",
    "            working_sentence[word_index] = INFREQ\n",
    "            \n",
    "    return working_sentence, min(len(sentence), pad)\n",
    "\n",
    "def convert_and_pad_data(word_dict, data, pad=500):\n",
    "    result = []\n",
    "    lengths = []\n",
    "    \n",
    "    for sentence in data:\n",
    "        converted, leng = convert_and_pad(word_dict, sentence, pad)\n",
    "        result.append(converted)\n",
    "        lengths.append(leng)\n",
    "        \n",
    "    return np.array(result), np.array(lengths)"
   ]
  },
  {
   "cell_type": "code",
   "execution_count": 18,
   "metadata": {},
   "outputs": [],
   "source": [
    "train_X, train_X_len = convert_and_pad_data(word_dict, train_X)\n",
    "test_X, test_X_len = convert_and_pad_data(word_dict, test_X)"
   ]
  },
  {
   "cell_type": "markdown",
   "metadata": {},
   "source": [
    "As a quick check to make sure that things are working as intended, check to see what one of the reviews in the training set looks like after having been processeed. Does this look reasonable? What is the length of a review in the training set?"
   ]
  },
  {
   "cell_type": "code",
   "execution_count": 19,
   "metadata": {},
   "outputs": [
    {
     "data": {
      "text/plain": [
       "array([ 106,   24,  258,    2, 3334,  910,    3,    1,  114,   41, 2356,\n",
       "        343,    2, 1133,  643,   36,    1,   12,   68,    2,  184, 1253,\n",
       "         64,   11,  643,  240,   36,  133,    1,   25, 2138, 1245,    2,\n",
       "        219,    1,  267,   13,   36,  167,   13,    5,   54, 1324,   98,\n",
       "         30,  147,    2,    3,  119, 1321,   13,  219,  302,  366,    1,\n",
       "       2055, 1410,   12,    8,    2,  438,  272,  366,   41,   13,  117,\n",
       "        783, 4921, 2941, 1625,   51, 1410,  119,  593,  442,  140,  157,\n",
       "        214,   11,    4, 3086,   60,   56,   47,  177,    9,    2,  425,\n",
       "        461,  796,  203,   16,   50,   81,  111,    1,  517,    2,  294,\n",
       "        705,    4,  295,  323,    6,  295,   66,  154,  177,   32,   16,\n",
       "        331,  466,    9,  128,   27, 1625,  367,  364,    1,  778,  363,\n",
       "        427,   38,    2,   45,  575,   32, 3760,  364, 1049,  322,  774,\n",
       "        827, 2069, 1736,  109,   82,    2, 2610, 4409,    1,    9,    1,\n",
       "          9,   39,    5,    1, 2298,   58,   13, 4593,    1,    9,   39,\n",
       "          5,   71,  127,  449, 2584,  280,    2,   14,   34,    0,    0,\n",
       "          0,    0,    0,    0,    0,    0,    0,    0,    0,    0,    0,\n",
       "          0,    0,    0,    0,    0,    0,    0,    0,    0,    0,    0,\n",
       "          0,    0,    0,    0,    0,    0,    0,    0,    0,    0,    0,\n",
       "          0,    0,    0,    0,    0,    0,    0,    0,    0,    0,    0,\n",
       "          0,    0,    0,    0,    0,    0,    0,    0,    0,    0,    0,\n",
       "          0,    0,    0,    0,    0,    0,    0,    0,    0,    0,    0,\n",
       "          0,    0,    0,    0,    0,    0,    0,    0,    0,    0,    0,\n",
       "          0,    0,    0,    0,    0,    0,    0,    0,    0,    0,    0,\n",
       "          0,    0,    0,    0,    0,    0,    0,    0,    0,    0,    0,\n",
       "          0,    0,    0,    0,    0,    0,    0,    0,    0,    0,    0,\n",
       "          0,    0,    0,    0,    0,    0,    0,    0,    0,    0,    0,\n",
       "          0,    0,    0,    0,    0,    0,    0,    0,    0,    0,    0,\n",
       "          0,    0,    0,    0,    0,    0,    0,    0,    0,    0,    0,\n",
       "          0,    0,    0,    0,    0,    0,    0,    0,    0,    0,    0,\n",
       "          0,    0,    0,    0,    0,    0,    0,    0,    0,    0,    0,\n",
       "          0,    0,    0,    0,    0,    0,    0,    0,    0,    0,    0,\n",
       "          0,    0,    0,    0,    0,    0,    0,    0,    0,    0,    0,\n",
       "          0,    0,    0,    0,    0,    0,    0,    0,    0,    0,    0,\n",
       "          0,    0,    0,    0,    0,    0,    0,    0,    0,    0,    0,\n",
       "          0,    0,    0,    0,    0,    0,    0,    0,    0,    0,    0,\n",
       "          0,    0,    0,    0,    0,    0,    0,    0,    0,    0,    0,\n",
       "          0,    0,    0,    0,    0,    0,    0,    0,    0,    0,    0,\n",
       "          0,    0,    0,    0,    0,    0,    0,    0,    0,    0,    0,\n",
       "          0,    0,    0,    0,    0,    0,    0,    0,    0,    0,    0,\n",
       "          0,    0,    0,    0,    0,    0,    0,    0,    0,    0,    0,\n",
       "          0,    0,    0,    0,    0,    0,    0,    0,    0,    0,    0,\n",
       "          0,    0,    0,    0,    0,    0,    0,    0,    0,    0,    0,\n",
       "          0,    0,    0,    0,    0,    0,    0,    0,    0,    0,    0,\n",
       "          0,    0,    0,    0,    0,    0,    0,    0,    0,    0,    0,\n",
       "          0,    0,    0,    0,    0,    0,    0,    0,    0,    0,    0,\n",
       "          0,    0,    0,    0,    0])"
      ]
     },
     "execution_count": 19,
     "metadata": {},
     "output_type": "execute_result"
    }
   ],
   "source": [
    "# Use this cell to examine one of the processed reviews to make sure everything is working as intended.\n",
    "\n",
    "train_X[100]"
   ]
  },
  {
   "cell_type": "markdown",
   "metadata": {},
   "source": [
    "**Question:** In the cells above we use the `preprocess_data` and `convert_and_pad_data` methods to process both the training and testing set. Why or why not might this be a problem?"
   ]
  },
  {
   "cell_type": "markdown",
   "metadata": {},
   "source": [
    "**Answer:**\n",
    "\n",
    "After applying the convert_and_pad_data, each review is cut at pad=500 words. This may represent a problem only if a review is longer than that, in the sense that important information may be thrown away. \n",
    "\n",
    "When applying preprocess_data, data loss we also may face data loss, since less common words will have the same number. Moreover, this should not represent a bigger problem, since we'll train the model to recognize the review sentiment with most common words. "
   ]
  },
  {
   "cell_type": "markdown",
   "metadata": {},
   "source": [
    "## Step 3: Upload the data to S3\n",
    "\n",
    "As in the XGBoost notebook, we will need to upload the training dataset to S3 in order for our training code to access it. For now we will save it locally and we will upload to S3 later on.\n",
    "\n",
    "### Save the processed training dataset locally\n",
    "\n",
    "It is important to note the format of the data that we are saving as we will need to know it when we write the training code. In our case, each row of the dataset has the form `label`, `length`, `review[500]` where `review[500]` is a sequence of `500` integers representing the words in the review."
   ]
  },
  {
   "cell_type": "code",
   "execution_count": 20,
   "metadata": {},
   "outputs": [],
   "source": [
    "import pandas as pd\n",
    "    \n",
    "pd.concat([pd.DataFrame(train_y), pd.DataFrame(train_X_len), pd.DataFrame(train_X)], axis=1) \\\n",
    "        .to_csv(os.path.join(data_dir, 'train.csv'), header=False, index=False)"
   ]
  },
  {
   "cell_type": "markdown",
   "metadata": {},
   "source": [
    "### Uploading the training data\n",
    "\n",
    "\n",
    "Next, we need to upload the training data to the SageMaker default S3 bucket so that we can provide access to it while training our model."
   ]
  },
  {
   "cell_type": "code",
   "execution_count": 21,
   "metadata": {},
   "outputs": [],
   "source": [
    "import sagemaker\n",
    "\n",
    "sagemaker_session = sagemaker.Session()\n",
    "\n",
    "bucket = sagemaker_session.default_bucket()\n",
    "prefix = 'sagemaker/sentiment_rnn'\n",
    "\n",
    "role = sagemaker.get_execution_role()"
   ]
  },
  {
   "cell_type": "code",
   "execution_count": 22,
   "metadata": {},
   "outputs": [],
   "source": [
    "input_data = sagemaker_session.upload_data(path=data_dir, bucket=bucket, key_prefix=prefix)"
   ]
  },
  {
   "cell_type": "markdown",
   "metadata": {},
   "source": [
    "**NOTE:** The cell above uploads the entire contents of our data directory. This includes the `word_dict.pkl` file. This is fortunate as we will need this later on when we create an endpoint that accepts an arbitrary review. For now, we will just take note of the fact that it resides in the data directory (and so also in the S3 training bucket) and that we will need to make sure it gets saved in the model directory."
   ]
  },
  {
   "cell_type": "markdown",
   "metadata": {},
   "source": [
    "## Step 4: Build and Train the PyTorch Model\n",
    "\n",
    "In the XGBoost notebook we discussed what a model is in the SageMaker framework. In particular, a model comprises three objects\n",
    "\n",
    " - Model Artifacts,\n",
    " - Training Code, and\n",
    " - Inference Code,\n",
    " \n",
    "each of which interact with one another. In the XGBoost example we used training and inference code that was provided by Amazon. Here we will still be using containers provided by Amazon with the added benefit of being able to include our own custom code.\n",
    "\n",
    "We will start by implementing our own neural network in PyTorch along with a training script. For the purposes of this project we have provided the necessary model object in the `model.py` file, inside of the `train` folder. You can see the provided implementation by running the cell below."
   ]
  },
  {
   "cell_type": "code",
   "execution_count": 23,
   "metadata": {},
   "outputs": [
    {
     "name": "stdout",
     "output_type": "stream",
     "text": [
      "\u001b[34mimport\u001b[39;49;00m \u001b[04m\u001b[36mtorch\u001b[39;49;00m\u001b[04m\u001b[36m.\u001b[39;49;00m\u001b[04m\u001b[36mnn\u001b[39;49;00m \u001b[34mas\u001b[39;49;00m \u001b[04m\u001b[36mnn\u001b[39;49;00m\r\n",
      "\r\n",
      "\u001b[34mclass\u001b[39;49;00m \u001b[04m\u001b[32mLSTMClassifier\u001b[39;49;00m(nn.Module):\r\n",
      "    \u001b[33m\"\"\"\u001b[39;49;00m\r\n",
      "\u001b[33m    This is the simple RNN model we will be using to perform Sentiment Analysis.\u001b[39;49;00m\r\n",
      "\u001b[33m    \"\"\"\u001b[39;49;00m\r\n",
      "\r\n",
      "    \u001b[34mdef\u001b[39;49;00m \u001b[32m__init__\u001b[39;49;00m(\u001b[36mself\u001b[39;49;00m, embedding_dim, hidden_dim, vocab_size):\r\n",
      "        \u001b[33m\"\"\"\u001b[39;49;00m\r\n",
      "\u001b[33m        Initialize the model by settingg up the various layers.\u001b[39;49;00m\r\n",
      "\u001b[33m        \"\"\"\u001b[39;49;00m\r\n",
      "        \u001b[36msuper\u001b[39;49;00m(LSTMClassifier, \u001b[36mself\u001b[39;49;00m).\u001b[32m__init__\u001b[39;49;00m()\r\n",
      "\r\n",
      "        \u001b[36mself\u001b[39;49;00m.embedding = nn.Embedding(vocab_size, embedding_dim, padding_idx=\u001b[34m0\u001b[39;49;00m)\r\n",
      "        \u001b[36mself\u001b[39;49;00m.lstm = nn.LSTM(embedding_dim, hidden_dim)\r\n",
      "        \u001b[36mself\u001b[39;49;00m.dense = nn.Linear(in_features=hidden_dim, out_features=\u001b[34m1\u001b[39;49;00m)\r\n",
      "        \u001b[36mself\u001b[39;49;00m.sig = nn.Sigmoid()\r\n",
      "        \r\n",
      "        \u001b[36mself\u001b[39;49;00m.word_dict = \u001b[34mNone\u001b[39;49;00m\r\n",
      "\r\n",
      "    \u001b[34mdef\u001b[39;49;00m \u001b[32mforward\u001b[39;49;00m(\u001b[36mself\u001b[39;49;00m, x):\r\n",
      "        \u001b[33m\"\"\"\u001b[39;49;00m\r\n",
      "\u001b[33m        Perform a forward pass of our model on some input.\u001b[39;49;00m\r\n",
      "\u001b[33m        \"\"\"\u001b[39;49;00m\r\n",
      "        x = x.t()\r\n",
      "        lengths = x[\u001b[34m0\u001b[39;49;00m,:]\r\n",
      "        reviews = x[\u001b[34m1\u001b[39;49;00m:,:]\r\n",
      "        embeds = \u001b[36mself\u001b[39;49;00m.embedding(reviews)\r\n",
      "        lstm_out, _ = \u001b[36mself\u001b[39;49;00m.lstm(embeds)\r\n",
      "        out = \u001b[36mself\u001b[39;49;00m.dense(lstm_out)\r\n",
      "        out = out[lengths - \u001b[34m1\u001b[39;49;00m, \u001b[36mrange\u001b[39;49;00m(\u001b[36mlen\u001b[39;49;00m(lengths))]\r\n",
      "        \u001b[34mreturn\u001b[39;49;00m \u001b[36mself\u001b[39;49;00m.sig(out.squeeze())\r\n"
     ]
    }
   ],
   "source": [
    "!pygmentize train/model.py"
   ]
  },
  {
   "cell_type": "markdown",
   "metadata": {},
   "source": [
    "The important takeaway from the implementation provided is that there are three parameters that we may wish to tweak to improve the performance of our model. These are the embedding dimension, the hidden dimension and the size of the vocabulary. We will likely want to make these parameters configurable in the training script so that if we wish to modify them we do not need to modify the script itself. We will see how to do this later on. To start we will write some of the training code in the notebook so that we can more easily diagnose any issues that arise.\n",
    "\n",
    "First we will load a small portion of the training data set to use as a sample. It would be very time consuming to try and train the model completely in the notebook as we do not have access to a gpu and the compute instance that we are using is not particularly powerful. However, we can work on a small bit of the data to get a feel for how our training script is behaving."
   ]
  },
  {
   "cell_type": "code",
   "execution_count": 24,
   "metadata": {},
   "outputs": [],
   "source": [
    "import torch\n",
    "import torch.utils.data\n",
    "\n",
    "# Read in only the first 250 rows\n",
    "train_sample = pd.read_csv(os.path.join(data_dir, 'train.csv'), header=None, names=None, nrows=250)\n",
    "\n",
    "# Turn the input pandas dataframe into tensors\n",
    "train_sample_y = torch.from_numpy(train_sample[[0]].values).float().squeeze()\n",
    "train_sample_X = torch.from_numpy(train_sample.drop([0], axis=1).values).long()\n",
    "\n",
    "# Build the dataset\n",
    "train_sample_ds = torch.utils.data.TensorDataset(train_sample_X, train_sample_y)\n",
    "# Build the dataloader\n",
    "train_sample_dl = torch.utils.data.DataLoader(train_sample_ds, batch_size=50)"
   ]
  },
  {
   "cell_type": "markdown",
   "metadata": {},
   "source": [
    "### (TODO) Writing the training method\n",
    "\n",
    "Next we need to write the training code itself. This should be very similar to training methods that you have written before to train PyTorch models. We will leave any difficult aspects such as model saving / loading and parameter loading until a little later."
   ]
  },
  {
   "cell_type": "code",
   "execution_count": 25,
   "metadata": {},
   "outputs": [],
   "source": [
    "def train(model, train_loader, epochs, optimizer, loss_fn, device):\n",
    "    for epoch in range(1, epochs + 1):\n",
    "                \n",
    "        total_loss = 0\n",
    "        model.train()\n",
    "        \n",
    "        for batch in train_loader:         \n",
    "            batch_X, batch_y = batch\n",
    "            \n",
    "            batch_X = batch_X.to(device)\n",
    "            batch_y = batch_y.to(device)\n",
    "            \n",
    "            # TODO: Complete this train method to train the model provided.\n",
    "            \n",
    "            # As in previous Udacity lessons\n",
    "            #setting all gradients to zero, before backpropagation\n",
    "            optimizer.zero_grad()\n",
    "            \n",
    "            #this is the forward pass\n",
    "            output = model.forward(batch_X)\n",
    "            \n",
    "            #here we are performing backpropagation/optimization\n",
    "            loss = loss_fn(output, batch_y)\n",
    "            loss.backward()\n",
    "            optimizer.step()\n",
    "            \n",
    "            total_loss += loss.data.item()\n",
    "            \n",
    "        print(\"Epoch: {}, BCELoss: {}\".format(epoch, total_loss / len(train_loader)))"
   ]
  },
  {
   "cell_type": "markdown",
   "metadata": {},
   "source": [
    "Supposing we have the training method above, we will test that it is working by writing a bit of code in the notebook that executes our training method on the small sample training set that we loaded earlier. The reason for doing this in the notebook is so that we have an opportunity to fix any errors that arise early when they are easier to diagnose."
   ]
  },
  {
   "cell_type": "code",
   "execution_count": 26,
   "metadata": {},
   "outputs": [
    {
     "name": "stdout",
     "output_type": "stream",
     "text": [
      "Epoch: 1, BCELoss: 0.6928974866867066\n",
      "Epoch: 2, BCELoss: 0.6838589668273926\n",
      "Epoch: 3, BCELoss: 0.6758414149284363\n",
      "Epoch: 4, BCELoss: 0.6666234374046326\n",
      "Epoch: 5, BCELoss: 0.6545982480049133\n"
     ]
    }
   ],
   "source": [
    "import torch.optim as optim\n",
    "from train.model import LSTMClassifier\n",
    "\n",
    "device = torch.device(\"cuda\" if torch.cuda.is_available() else \"cpu\")\n",
    "model = LSTMClassifier(32, 100, 5000).to(device)\n",
    "optimizer = optim.Adam(model.parameters())\n",
    "loss_fn = torch.nn.BCELoss()\n",
    "\n",
    "train(model, train_sample_dl, 5, optimizer, loss_fn, device)"
   ]
  },
  {
   "cell_type": "markdown",
   "metadata": {},
   "source": [
    "In order to construct a PyTorch model using SageMaker we must provide SageMaker with a training script. We may optionally include a directory which will be copied to the container and from which our training code will be run. When the training container is executed it will check the uploaded directory (if there is one) for a `requirements.txt` file and install any required Python libraries, after which the training script will be run."
   ]
  },
  {
   "cell_type": "markdown",
   "metadata": {},
   "source": [
    "### (TODO) Training the model\n",
    "\n",
    "When a PyTorch model is constructed in SageMaker, an entry point must be specified. This is the Python file which will be executed when the model is trained. Inside of the `train` directory is a file called `train.py` which has been provided and which contains most of the necessary code to train our model. The only thing that is missing is the implementation of the `train()` method which you wrote earlier in this notebook.\n",
    "\n",
    "**TODO**: Copy the `train()` method written above and paste it into the `train/train.py` file where required.\n",
    "\n",
    "The way that SageMaker passes hyperparameters to the training script is by way of arguments. These arguments can then be parsed and used in the training script. To see how this is done take a look at the provided `train/train.py` file."
   ]
  },
  {
   "cell_type": "code",
   "execution_count": 27,
   "metadata": {},
   "outputs": [],
   "source": [
    "from sagemaker.pytorch import PyTorch\n",
    "\n",
    "estimator = PyTorch(entry_point=\"train.py\",\n",
    "                    source_dir=\"train\",\n",
    "                    role=role,\n",
    "                    py_version=\"py3\",\n",
    "                    framework_version='0.4.0',\n",
    "                    train_instance_count=1,\n",
    "                    train_instance_type='ml.p2.xlarge',\n",
    "                    hyperparameters={\n",
    "                        'epochs': 10,\n",
    "                        'hidden_dim': 200,\n",
    "                    })"
   ]
  },
  {
   "cell_type": "code",
   "execution_count": 28,
   "metadata": {},
   "outputs": [
    {
     "name": "stderr",
     "output_type": "stream",
     "text": [
      "'create_image_uri' will be deprecated in favor of 'ImageURIProvider' class in SageMaker Python SDK v2.\n",
      "'s3_input' class will be renamed to 'TrainingInput' in SageMaker Python SDK v2.\n",
      "'create_image_uri' will be deprecated in favor of 'ImageURIProvider' class in SageMaker Python SDK v2.\n"
     ]
    },
    {
     "name": "stdout",
     "output_type": "stream",
     "text": [
      "2021-05-13 14:26:14 Starting - Starting the training job...\n",
      "2021-05-13 14:26:15 Starting - Launching requested ML instances......\n",
      "2021-05-13 14:27:21 Starting - Preparing the instances for training.........\n",
      "2021-05-13 14:28:49 Downloading - Downloading input data...\n",
      "2021-05-13 14:29:32 Training - Downloading the training image..\u001b[34mbash: cannot set terminal process group (-1): Inappropriate ioctl for device\u001b[0m\n",
      "\u001b[34mbash: no job control in this shell\u001b[0m\n",
      "\u001b[34m2021-05-13 14:29:58,177 sagemaker-containers INFO     Imported framework sagemaker_pytorch_container.training\u001b[0m\n",
      "\u001b[34m2021-05-13 14:29:58,203 sagemaker_pytorch_container.training INFO     Block until all host DNS lookups succeed.\u001b[0m\n",
      "\u001b[34m2021-05-13 14:29:58,207 sagemaker_pytorch_container.training INFO     Invoking user training script.\u001b[0m\n",
      "\u001b[34m2021-05-13 14:29:58,442 sagemaker-containers INFO     Module train does not provide a setup.py. \u001b[0m\n",
      "\u001b[34mGenerating setup.py\u001b[0m\n",
      "\u001b[34m2021-05-13 14:29:58,442 sagemaker-containers INFO     Generating setup.cfg\u001b[0m\n",
      "\u001b[34m2021-05-13 14:29:58,442 sagemaker-containers INFO     Generating MANIFEST.in\u001b[0m\n",
      "\u001b[34m2021-05-13 14:29:58,442 sagemaker-containers INFO     Installing module with the following command:\u001b[0m\n",
      "\u001b[34m/usr/bin/python -m pip install -U . -r requirements.txt\u001b[0m\n",
      "\u001b[34mProcessing /opt/ml/code\u001b[0m\n",
      "\u001b[34mCollecting pandas (from -r requirements.txt (line 1))\n",
      "  Downloading https://files.pythonhosted.org/packages/74/24/0cdbf8907e1e3bc5a8da03345c23cbed7044330bb8f73bb12e711a640a00/pandas-0.24.2-cp35-cp35m-manylinux1_x86_64.whl (10.0MB)\u001b[0m\n",
      "\u001b[34mCollecting numpy (from -r requirements.txt (line 2))\u001b[0m\n",
      "\u001b[34m  Downloading https://files.pythonhosted.org/packages/b5/36/88723426b4ff576809fec7d73594fe17a35c27f8d01f93637637a29ae25b/numpy-1.18.5-cp35-cp35m-manylinux1_x86_64.whl (19.9MB)\u001b[0m\n",
      "\n",
      "2021-05-13 14:29:57 Training - Training image download completed. Training in progress.\u001b[34mCollecting nltk (from -r requirements.txt (line 3))\n",
      "  Downloading https://files.pythonhosted.org/packages/5e/37/9532ddd4b1bbb619333d5708aaad9bf1742f051a664c3c6fa6632a105fd8/nltk-3.6.2-py3-none-any.whl (1.5MB)\u001b[0m\n",
      "\u001b[34mCollecting beautifulsoup4 (from -r requirements.txt (line 4))\n",
      "  Downloading https://files.pythonhosted.org/packages/d1/41/e6495bd7d3781cee623ce23ea6ac73282a373088fcd0ddc809a047b18eae/beautifulsoup4-4.9.3-py3-none-any.whl (115kB)\u001b[0m\n",
      "\u001b[34mCollecting html5lib (from -r requirements.txt (line 5))\n",
      "  Downloading https://files.pythonhosted.org/packages/6c/dd/a834df6482147d48e225a49515aabc28974ad5a4ca3215c18a882565b028/html5lib-1.1-py2.py3-none-any.whl (112kB)\u001b[0m\n",
      "\u001b[34mRequirement already satisfied, skipping upgrade: python-dateutil>=2.5.0 in /usr/local/lib/python3.5/dist-packages (from pandas->-r requirements.txt (line 1)) (2.7.5)\u001b[0m\n",
      "\u001b[34mCollecting pytz>=2011k (from pandas->-r requirements.txt (line 1))\n",
      "  Downloading https://files.pythonhosted.org/packages/70/94/784178ca5dd892a98f113cdd923372024dc04b8d40abe77ca76b5fb90ca6/pytz-2021.1-py2.py3-none-any.whl (510kB)\u001b[0m\n",
      "\u001b[34mRequirement already satisfied, skipping upgrade: click in /usr/local/lib/python3.5/dist-packages (from nltk->-r requirements.txt (line 3)) (7.0)\u001b[0m\n",
      "\u001b[34mCollecting joblib (from nltk->-r requirements.txt (line 3))\n",
      "  Downloading https://files.pythonhosted.org/packages/28/5c/cf6a2b65a321c4a209efcdf64c2689efae2cb62661f8f6f4bb28547cf1bf/joblib-0.14.1-py2.py3-none-any.whl (294kB)\u001b[0m\n",
      "\u001b[34mCollecting regex (from nltk->-r requirements.txt (line 3))\n",
      "  Downloading https://files.pythonhosted.org/packages/38/3f/4c42a98c9ad7d08c16e7d23b2194a0e4f3b2914662da8bc88986e4e6de1f/regex-2021.4.4.tar.gz (693kB)\u001b[0m\n",
      "\u001b[34mCollecting tqdm (from nltk->-r requirements.txt (line 3))\n",
      "  Downloading https://files.pythonhosted.org/packages/72/8a/34efae5cf9924328a8f34eeb2fdaae14c011462d9f0e3fcded48e1266d1c/tqdm-4.60.0-py2.py3-none-any.whl (75kB)\u001b[0m\n",
      "\u001b[34mCollecting soupsieve>1.2; python_version >= \"3.0\" (from beautifulsoup4->-r requirements.txt (line 4))\n",
      "  Downloading https://files.pythonhosted.org/packages/02/fb/1c65691a9aeb7bd6ac2aa505b84cb8b49ac29c976411c6ab3659425e045f/soupsieve-2.1-py3-none-any.whl\u001b[0m\n",
      "\u001b[34mCollecting webencodings (from html5lib->-r requirements.txt (line 5))\n",
      "  Downloading https://files.pythonhosted.org/packages/f4/24/2a3e3df732393fed8b3ebf2ec078f05546de641fe1b667ee316ec1dcf3b7/webencodings-0.5.1-py2.py3-none-any.whl\u001b[0m\n",
      "\u001b[34mRequirement already satisfied, skipping upgrade: six>=1.9 in /usr/local/lib/python3.5/dist-packages (from html5lib->-r requirements.txt (line 5)) (1.11.0)\u001b[0m\n",
      "\u001b[34mBuilding wheels for collected packages: train, regex\n",
      "  Running setup.py bdist_wheel for train: started\u001b[0m\n",
      "\u001b[34m  Running setup.py bdist_wheel for train: finished with status 'done'\n",
      "  Stored in directory: /tmp/pip-ephem-wheel-cache-ce6zivb4/wheels/35/24/16/37574d11bf9bde50616c67372a334f94fa8356bc7164af8ca3\n",
      "  Running setup.py bdist_wheel for regex: started\u001b[0m\n",
      "\u001b[34m  Running setup.py bdist_wheel for regex: finished with status 'done'\n",
      "  Stored in directory: /root/.cache/pip/wheels/c9/05/a8/b85fa0bd7850b99f9b4f106972975f2e3c46412e12f9949b58\u001b[0m\n",
      "\u001b[34mSuccessfully built train regex\u001b[0m\n",
      "\u001b[34mInstalling collected packages: numpy, pytz, pandas, joblib, regex, tqdm, nltk, soupsieve, beautifulsoup4, webencodings, html5lib, train\n",
      "  Found existing installation: numpy 1.15.4\n",
      "    Uninstalling numpy-1.15.4:\u001b[0m\n",
      "\u001b[34m      Successfully uninstalled numpy-1.15.4\u001b[0m\n",
      "\u001b[34mSuccessfully installed beautifulsoup4-4.9.3 html5lib-1.1 joblib-0.14.1 nltk-3.6.2 numpy-1.18.5 pandas-0.24.2 pytz-2021.1 regex-2021.4.4 soupsieve-2.1 tqdm-4.60.0 train-1.0.0 webencodings-0.5.1\u001b[0m\n",
      "\u001b[34mYou are using pip version 18.1, however version 20.3.4 is available.\u001b[0m\n",
      "\u001b[34mYou should consider upgrading via the 'pip install --upgrade pip' command.\u001b[0m\n",
      "\u001b[34m2021-05-13 14:30:21,346 sagemaker-containers INFO     Invoking user script\n",
      "\u001b[0m\n",
      "\u001b[34mTraining Env:\n",
      "\u001b[0m\n",
      "\u001b[34m{\n",
      "    \"additional_framework_parameters\": {},\n",
      "    \"input_config_dir\": \"/opt/ml/input/config\",\n",
      "    \"num_gpus\": 1,\n",
      "    \"output_intermediate_dir\": \"/opt/ml/output/intermediate\",\n",
      "    \"input_dir\": \"/opt/ml/input\",\n",
      "    \"user_entry_point\": \"train.py\",\n",
      "    \"hosts\": [\n",
      "        \"algo-1\"\n",
      "    ],\n",
      "    \"output_data_dir\": \"/opt/ml/output/data\",\n",
      "    \"output_dir\": \"/opt/ml/output\",\n",
      "    \"job_name\": \"sagemaker-pytorch-2021-05-13-14-26-13-772\",\n",
      "    \"current_host\": \"algo-1\",\n",
      "    \"log_level\": 20,\n",
      "    \"num_cpus\": 4,\n",
      "    \"hyperparameters\": {\n",
      "        \"epochs\": 10,\n",
      "        \"hidden_dim\": 200\n",
      "    },\n",
      "    \"channel_input_dirs\": {\n",
      "        \"training\": \"/opt/ml/input/data/training\"\n",
      "    },\n",
      "    \"input_data_config\": {\n",
      "        \"training\": {\n",
      "            \"TrainingInputMode\": \"File\",\n",
      "            \"RecordWrapperType\": \"None\",\n",
      "            \"S3DistributionType\": \"FullyReplicated\"\n",
      "        }\n",
      "    },\n",
      "    \"module_name\": \"train\",\n",
      "    \"module_dir\": \"s3://sagemaker-us-east-2-270380813465/sagemaker-pytorch-2021-05-13-14-26-13-772/source/sourcedir.tar.gz\",\n",
      "    \"framework_module\": \"sagemaker_pytorch_container.training:main\",\n",
      "    \"network_interface_name\": \"eth0\",\n",
      "    \"model_dir\": \"/opt/ml/model\",\n",
      "    \"resource_config\": {\n",
      "        \"hosts\": [\n",
      "            \"algo-1\"\n",
      "        ],\n",
      "        \"network_interface_name\": \"eth0\",\n",
      "        \"current_host\": \"algo-1\"\n",
      "    }\u001b[0m\n",
      "\u001b[34m}\n",
      "\u001b[0m\n",
      "\u001b[34mEnvironment variables:\n",
      "\u001b[0m\n",
      "\u001b[34mSM_FRAMEWORK_PARAMS={}\u001b[0m\n",
      "\u001b[34mSM_CURRENT_HOST=algo-1\u001b[0m\n",
      "\u001b[34mSM_TRAINING_ENV={\"additional_framework_parameters\":{},\"channel_input_dirs\":{\"training\":\"/opt/ml/input/data/training\"},\"current_host\":\"algo-1\",\"framework_module\":\"sagemaker_pytorch_container.training:main\",\"hosts\":[\"algo-1\"],\"hyperparameters\":{\"epochs\":10,\"hidden_dim\":200},\"input_config_dir\":\"/opt/ml/input/config\",\"input_data_config\":{\"training\":{\"RecordWrapperType\":\"None\",\"S3DistributionType\":\"FullyReplicated\",\"TrainingInputMode\":\"File\"}},\"input_dir\":\"/opt/ml/input\",\"job_name\":\"sagemaker-pytorch-2021-05-13-14-26-13-772\",\"log_level\":20,\"model_dir\":\"/opt/ml/model\",\"module_dir\":\"s3://sagemaker-us-east-2-270380813465/sagemaker-pytorch-2021-05-13-14-26-13-772/source/sourcedir.tar.gz\",\"module_name\":\"train\",\"network_interface_name\":\"eth0\",\"num_cpus\":4,\"num_gpus\":1,\"output_data_dir\":\"/opt/ml/output/data\",\"output_dir\":\"/opt/ml/output\",\"output_intermediate_dir\":\"/opt/ml/output/intermediate\",\"resource_config\":{\"current_host\":\"algo-1\",\"hosts\":[\"algo-1\"],\"network_interface_name\":\"eth0\"},\"user_entry_point\":\"train.py\"}\u001b[0m\n",
      "\u001b[34mSM_NETWORK_INTERFACE_NAME=eth0\u001b[0m\n",
      "\u001b[34mSM_NUM_GPUS=1\u001b[0m\n",
      "\u001b[34mSM_HOSTS=[\"algo-1\"]\u001b[0m\n",
      "\u001b[34mSM_FRAMEWORK_MODULE=sagemaker_pytorch_container.training:main\u001b[0m\n",
      "\u001b[34mPYTHONPATH=/usr/local/bin:/usr/lib/python35.zip:/usr/lib/python3.5:/usr/lib/python3.5/plat-x86_64-linux-gnu:/usr/lib/python3.5/lib-dynload:/usr/local/lib/python3.5/dist-packages:/usr/lib/python3/dist-packages\u001b[0m\n",
      "\u001b[34mSM_INPUT_DATA_CONFIG={\"training\":{\"RecordWrapperType\":\"None\",\"S3DistributionType\":\"FullyReplicated\",\"TrainingInputMode\":\"File\"}}\u001b[0m\n",
      "\u001b[34mSM_HP_EPOCHS=10\u001b[0m\n",
      "\u001b[34mSM_CHANNEL_TRAINING=/opt/ml/input/data/training\u001b[0m\n",
      "\u001b[34mSM_HPS={\"epochs\":10,\"hidden_dim\":200}\u001b[0m\n",
      "\u001b[34mSM_INPUT_DIR=/opt/ml/input\u001b[0m\n",
      "\u001b[34mSM_MODEL_DIR=/opt/ml/model\u001b[0m\n",
      "\u001b[34mSM_CHANNELS=[\"training\"]\u001b[0m\n",
      "\u001b[34mSM_MODULE_DIR=s3://sagemaker-us-east-2-270380813465/sagemaker-pytorch-2021-05-13-14-26-13-772/source/sourcedir.tar.gz\u001b[0m\n",
      "\u001b[34mSM_USER_ENTRY_POINT=train.py\u001b[0m\n",
      "\u001b[34mSM_RESOURCE_CONFIG={\"current_host\":\"algo-1\",\"hosts\":[\"algo-1\"],\"network_interface_name\":\"eth0\"}\u001b[0m\n",
      "\u001b[34mSM_HP_HIDDEN_DIM=200\u001b[0m\n",
      "\u001b[34mSM_OUTPUT_INTERMEDIATE_DIR=/opt/ml/output/intermediate\u001b[0m\n",
      "\u001b[34mSM_USER_ARGS=[\"--epochs\",\"10\",\"--hidden_dim\",\"200\"]\u001b[0m\n",
      "\u001b[34mSM_LOG_LEVEL=20\u001b[0m\n",
      "\u001b[34mSM_OUTPUT_DATA_DIR=/opt/ml/output/data\u001b[0m\n",
      "\u001b[34mSM_MODULE_NAME=train\u001b[0m\n",
      "\u001b[34mSM_INPUT_CONFIG_DIR=/opt/ml/input/config\u001b[0m\n",
      "\u001b[34mSM_NUM_CPUS=4\u001b[0m\n",
      "\u001b[34mSM_OUTPUT_DIR=/opt/ml/output\n",
      "\u001b[0m\n",
      "\u001b[34mInvoking script with the following command:\n",
      "\u001b[0m\n",
      "\u001b[34m/usr/bin/python -m train --epochs 10 --hidden_dim 200\n",
      "\n",
      "\u001b[0m\n",
      "\u001b[34mUsing device cuda.\u001b[0m\n",
      "\u001b[34mGet train data loader.\u001b[0m\n",
      "\u001b[34mModel loaded with embedding_dim 32, hidden_dim 200, vocab_size 5000.\u001b[0m\n",
      "\u001b[34mEpoch: 1, BCELoss: 0.6775710594897367\u001b[0m\n",
      "\u001b[34mEpoch: 2, BCELoss: 0.6512935635994892\u001b[0m\n",
      "\u001b[34mEpoch: 3, BCELoss: 0.5719570517539978\u001b[0m\n",
      "\u001b[34mEpoch: 4, BCELoss: 0.47075397627694265\u001b[0m\n",
      "\u001b[34mEpoch: 5, BCELoss: 0.39804463118922956\u001b[0m\n",
      "\u001b[34mEpoch: 6, BCELoss: 0.4459331449197263\u001b[0m\n",
      "\u001b[34mEpoch: 7, BCELoss: 0.38430239473070416\u001b[0m\n",
      "\u001b[34mEpoch: 8, BCELoss: 0.3254518624471158\u001b[0m\n",
      "\u001b[34mEpoch: 9, BCELoss: 0.3012812161932186\u001b[0m\n",
      "\u001b[34mEpoch: 10, BCELoss: 0.28800968977869773\u001b[0m\n",
      "\u001b[34m2021-05-13 14:33:22,949 sagemaker-containers INFO     Reporting training SUCCESS\u001b[0m\n",
      "\n",
      "2021-05-13 14:33:34 Uploading - Uploading generated training model\n",
      "2021-05-13 14:33:34 Completed - Training job completed\n",
      "Training seconds: 285\n",
      "Billable seconds: 285\n"
     ]
    }
   ],
   "source": [
    "estimator.fit({'training': input_data})"
   ]
  },
  {
   "cell_type": "markdown",
   "metadata": {},
   "source": [
    "## Step 5: Testing the model\n",
    "\n",
    "As mentioned at the top of this notebook, we will be testing this model by first deploying it and then sending the testing data to the deployed endpoint. We will do this so that we can make sure that the deployed model is working correctly.\n",
    "\n",
    "## Step 6: Deploy the model for testing\n",
    "\n",
    "Now that we have trained our model, we would like to test it to see how it performs. Currently our model takes input of the form `review_length, review[500]` where `review[500]` is a sequence of `500` integers which describe the words present in the review, encoded using `word_dict`. Fortunately for us, SageMaker provides built-in inference code for models with simple inputs such as this.\n",
    "\n",
    "There is one thing that we need to provide, however, and that is a function which loads the saved model. This function must be called `model_fn()` and takes as its only parameter a path to the directory where the model artifacts are stored. This function must also be present in the python file which we specified as the entry point. In our case the model loading function has been provided and so no changes need to be made.\n",
    "\n",
    "**NOTE**: When the built-in inference code is run it must import the `model_fn()` method from the `train.py` file. This is why the training code is wrapped in a main guard ( ie, `if __name__ == '__main__':` )\n",
    "\n",
    "Since we don't need to change anything in the code that was uploaded during training, we can simply deploy the current model as-is.\n",
    "\n",
    "**NOTE:** When deploying a model you are asking SageMaker to launch an compute instance that will wait for data to be sent to it. As a result, this compute instance will continue to run until *you* shut it down. This is important to know since the cost of a deployed endpoint depends on how long it has been running for.\n",
    "\n",
    "In other words **If you are no longer using a deployed endpoint, shut it down!**\n",
    "\n",
    "**TODO:** Deploy the trained model."
   ]
  },
  {
   "cell_type": "code",
   "execution_count": 29,
   "metadata": {},
   "outputs": [
    {
     "name": "stderr",
     "output_type": "stream",
     "text": [
      "Parameter image will be renamed to image_uri in SageMaker Python SDK v2.\n",
      "'create_image_uri' will be deprecated in favor of 'ImageURIProvider' class in SageMaker Python SDK v2.\n"
     ]
    },
    {
     "name": "stdout",
     "output_type": "stream",
     "text": [
      "---------------!"
     ]
    }
   ],
   "source": [
    "# TODO: Deploy the trained model\n",
    "\n",
    "predictor = estimator.deploy(initial_instance_count=1, instance_type='ml.m4.xlarge')"
   ]
  },
  {
   "cell_type": "markdown",
   "metadata": {},
   "source": [
    "## Step 7 - Use the model for testing\n",
    "\n",
    "Once deployed, we can read in the test data and send it off to our deployed model to get some results. Once we collect all of the results we can determine how accurate our model is."
   ]
  },
  {
   "cell_type": "code",
   "execution_count": 30,
   "metadata": {},
   "outputs": [],
   "source": [
    "test_X = pd.concat([pd.DataFrame(test_X_len), pd.DataFrame(test_X)], axis=1)"
   ]
  },
  {
   "cell_type": "code",
   "execution_count": 31,
   "metadata": {},
   "outputs": [],
   "source": [
    "# We split the data into chunks and send each chunk seperately, accumulating the results.\n",
    "\n",
    "def predict(data, rows=512):\n",
    "    split_array = np.array_split(data, int(data.shape[0] / float(rows) + 1))\n",
    "    predictions = np.array([])\n",
    "    for array in split_array:\n",
    "        predictions = np.append(predictions, predictor.predict(array))\n",
    "    \n",
    "    return predictions"
   ]
  },
  {
   "cell_type": "code",
   "execution_count": 32,
   "metadata": {},
   "outputs": [],
   "source": [
    "predictions = predict(test_X.values)\n",
    "predictions = [round(num) for num in predictions]"
   ]
  },
  {
   "cell_type": "code",
   "execution_count": 33,
   "metadata": {},
   "outputs": [
    {
     "data": {
      "text/plain": [
       "0.85092"
      ]
     },
     "execution_count": 33,
     "metadata": {},
     "output_type": "execute_result"
    }
   ],
   "source": [
    "from sklearn.metrics import accuracy_score\n",
    "accuracy_score(test_y, predictions)"
   ]
  },
  {
   "cell_type": "markdown",
   "metadata": {},
   "source": [
    "**Question:** How does this model compare to the XGBoost model you created earlier? Why might these two models perform differently on this dataset? Which do *you* think is better for sentiment analysis?"
   ]
  },
  {
   "cell_type": "markdown",
   "metadata": {},
   "source": [
    "**Answer:**\n",
    "\n",
    "In the latest RNN project for Sentiment Analysis, I reached a test accuracy of 0.802, so I say that XGBoost performed better. Nonetheless, maybe with more epochs and LSTM cells, RNN would perform better for Sentiment Analysis.\n"
   ]
  },
  {
   "cell_type": "markdown",
   "metadata": {},
   "source": [
    "### (TODO) More testing\n",
    "\n",
    "We now have a trained model which has been deployed and which we can send processed reviews to and which returns the predicted sentiment. However, ultimately we would like to be able to send our model an unprocessed review. That is, we would like to send the review itself as a string. For example, suppose we wish to send the following review to our model."
   ]
  },
  {
   "cell_type": "code",
   "execution_count": 34,
   "metadata": {},
   "outputs": [],
   "source": [
    "test_review = 'The simplest pleasures in life are the best, and this film is one of them. Combining a rather basic storyline of love and adventure this movie transcends the usual weekend fair with wit and unmitigated charm.'"
   ]
  },
  {
   "cell_type": "markdown",
   "metadata": {},
   "source": [
    "The question we now need to answer is, how do we send this review to our model?\n",
    "\n",
    "Recall in the first section of this notebook we did a bunch of data processing to the IMDb dataset. In particular, we did two specific things to the provided reviews.\n",
    " - Removed any html tags and stemmed the input\n",
    " - Encoded the review as a sequence of integers using `word_dict`\n",
    " \n",
    "In order process the review we will need to repeat these two steps.\n",
    "\n",
    "**TODO**: Using the `review_to_words` and `convert_and_pad` methods from section one, convert `test_review` into a numpy array `test_data` suitable to send to our model. Remember that our model expects input of the form `review_length, review[500]`."
   ]
  },
  {
   "cell_type": "code",
   "execution_count": 42,
   "metadata": {},
   "outputs": [
    {
     "name": "stdout",
     "output_type": "stream",
     "text": [
      "[array([   1, 1376,   49,   53,    3,    4,  878,  173,  392,  682,   29,\n",
      "        724,    2, 4405,  275, 2079, 1060,  760,    1,  581,    0,    0,\n",
      "          0,    0,    0,    0,    0,    0,    0,    0,    0,    0,    0,\n",
      "          0,    0,    0,    0,    0,    0,    0,    0,    0,    0,    0,\n",
      "          0,    0,    0,    0,    0,    0,    0,    0,    0,    0,    0,\n",
      "          0,    0,    0,    0,    0,    0,    0,    0,    0,    0,    0,\n",
      "          0,    0,    0,    0,    0,    0,    0,    0,    0,    0,    0,\n",
      "          0,    0,    0,    0,    0,    0,    0,    0,    0,    0,    0,\n",
      "          0,    0,    0,    0,    0,    0,    0,    0,    0,    0,    0,\n",
      "          0,    0,    0,    0,    0,    0,    0,    0,    0,    0,    0,\n",
      "          0,    0,    0,    0,    0,    0,    0,    0,    0,    0,    0,\n",
      "          0,    0,    0,    0,    0,    0,    0,    0,    0,    0,    0,\n",
      "          0,    0,    0,    0,    0,    0,    0,    0,    0,    0,    0,\n",
      "          0,    0,    0,    0,    0,    0,    0,    0,    0,    0,    0,\n",
      "          0,    0,    0,    0,    0,    0,    0,    0,    0,    0,    0,\n",
      "          0,    0,    0,    0,    0,    0,    0,    0,    0,    0,    0,\n",
      "          0,    0,    0,    0,    0,    0,    0,    0,    0,    0,    0,\n",
      "          0,    0,    0,    0,    0,    0,    0,    0,    0,    0,    0,\n",
      "          0,    0,    0,    0,    0,    0,    0,    0,    0,    0,    0,\n",
      "          0,    0,    0,    0,    0,    0,    0,    0,    0,    0,    0,\n",
      "          0,    0,    0,    0,    0,    0,    0,    0,    0,    0,    0,\n",
      "          0,    0,    0,    0,    0,    0,    0,    0,    0,    0,    0,\n",
      "          0,    0,    0,    0,    0,    0,    0,    0,    0,    0,    0,\n",
      "          0,    0,    0,    0,    0,    0,    0,    0,    0,    0,    0,\n",
      "          0,    0,    0,    0,    0,    0,    0,    0,    0,    0,    0,\n",
      "          0,    0,    0,    0,    0,    0,    0,    0,    0,    0,    0,\n",
      "          0,    0,    0,    0,    0,    0,    0,    0,    0,    0,    0,\n",
      "          0,    0,    0,    0,    0,    0,    0,    0,    0,    0,    0,\n",
      "          0,    0,    0,    0,    0,    0,    0,    0,    0,    0,    0,\n",
      "          0,    0,    0,    0,    0,    0,    0,    0,    0,    0,    0,\n",
      "          0,    0,    0,    0,    0,    0,    0,    0,    0,    0,    0,\n",
      "          0,    0,    0,    0,    0,    0,    0,    0,    0,    0,    0,\n",
      "          0,    0,    0,    0,    0,    0,    0,    0,    0,    0,    0,\n",
      "          0,    0,    0,    0,    0,    0,    0,    0,    0,    0,    0,\n",
      "          0,    0,    0,    0,    0,    0,    0,    0,    0,    0,    0,\n",
      "          0,    0,    0,    0,    0,    0,    0,    0,    0,    0,    0,\n",
      "          0,    0,    0,    0,    0,    0,    0,    0,    0,    0,    0,\n",
      "          0,    0,    0,    0,    0,    0,    0,    0,    0,    0,    0,\n",
      "          0,    0,    0,    0,    0,    0,    0,    0,    0,    0,    0,\n",
      "          0,    0,    0,    0,    0,    0,    0,    0,    0,    0,    0,\n",
      "          0,    0,    0,    0,    0,    0,    0,    0,    0,    0,    0,\n",
      "          0,    0,    0,    0,    0,    0,    0,    0,    0,    0,    0,\n",
      "          0,    0,    0,    0,    0,    0,    0,    0,    0,    0,    0,\n",
      "          0,    0,    0,    0,    0,    0,    0,    0,    0,    0,    0,\n",
      "          0,    0,    0,    0,    0,    0,    0,    0,    0,    0,    0,\n",
      "          0,    0,    0,    0,    0])]\n"
     ]
    }
   ],
   "source": [
    "# TODO: Convert test_review into a form usable by the model and save the results in test_data\n",
    "\n",
    "test_data = review_to_words(test_review) #splits reviews into words\n",
    "test_data, review_len = convert_and_pad (word_dict, test_data) #this function pads the review\n",
    "\n",
    "test_data = [np.array(np.array(test_data))]\n",
    "\n",
    "print(test_data)\n",
    "\n"
   ]
  },
  {
   "cell_type": "markdown",
   "metadata": {},
   "source": [
    "Now that we have processed the review, we can send the resulting array to our model to predict the sentiment of the review."
   ]
  },
  {
   "cell_type": "code",
   "execution_count": 43,
   "metadata": {},
   "outputs": [
    {
     "data": {
      "text/plain": [
       "array(0.6675806, dtype=float32)"
      ]
     },
     "execution_count": 43,
     "metadata": {},
     "output_type": "execute_result"
    }
   ],
   "source": [
    "predictor.predict(test_data)"
   ]
  },
  {
   "cell_type": "markdown",
   "metadata": {},
   "source": [
    "Since the return value of our model is close to `1`, we can be certain that the review we submitted is positive."
   ]
  },
  {
   "cell_type": "markdown",
   "metadata": {},
   "source": [
    "### Delete the endpoint\n",
    "\n",
    "Of course, just like in the XGBoost notebook, once we've deployed an endpoint it continues to run until we tell it to shut down. Since we are done using our endpoint for now, we can delete it."
   ]
  },
  {
   "cell_type": "code",
   "execution_count": 44,
   "metadata": {},
   "outputs": [
    {
     "name": "stderr",
     "output_type": "stream",
     "text": [
      "estimator.delete_endpoint() will be deprecated in SageMaker Python SDK v2. Please use the delete_endpoint() function on your predictor instead.\n"
     ]
    }
   ],
   "source": [
    "estimator.delete_endpoint()"
   ]
  },
  {
   "cell_type": "markdown",
   "metadata": {},
   "source": [
    "## Step 6 (again) - Deploy the model for the web app\n",
    "\n",
    "Now that we know that our model is working, it's time to create some custom inference code so that we can send the model a review which has not been processed and have it determine the sentiment of the review.\n",
    "\n",
    "As we saw above, by default the estimator which we created, when deployed, will use the entry script and directory which we provided when creating the model. However, since we now wish to accept a string as input and our model expects a processed review, we need to write some custom inference code.\n",
    "\n",
    "We will store the code that we write in the `serve` directory. Provided in this directory is the `model.py` file that we used to construct our model, a `utils.py` file which contains the `review_to_words` and `convert_and_pad` pre-processing functions which we used during the initial data processing, and `predict.py`, the file which will contain our custom inference code. Note also that `requirements.txt` is present which will tell SageMaker what Python libraries are required by our custom inference code.\n",
    "\n",
    "When deploying a PyTorch model in SageMaker, you are expected to provide four functions which the SageMaker inference container will use.\n",
    " - `model_fn`: This function is the same function that we used in the training script and it tells SageMaker how to load our model.\n",
    " - `input_fn`: This function receives the raw serialized input that has been sent to the model's endpoint and its job is to de-serialize and make the input available for the inference code.\n",
    " - `output_fn`: This function takes the output of the inference code and its job is to serialize this output and return it to the caller of the model's endpoint.\n",
    " - `predict_fn`: The heart of the inference script, this is where the actual prediction is done and is the function which you will need to complete.\n",
    "\n",
    "For the simple website that we are constructing during this project, the `input_fn` and `output_fn` methods are relatively straightforward. We only require being able to accept a string as input and we expect to return a single value as output. You might imagine though that in a more complex application the input or output may be image data or some other binary data which would require some effort to serialize.\n",
    "\n",
    "### (TODO) Writing inference code\n",
    "\n",
    "Before writing our custom inference code, we will begin by taking a look at the code which has been provided."
   ]
  },
  {
   "cell_type": "code",
   "execution_count": 45,
   "metadata": {},
   "outputs": [
    {
     "name": "stdout",
     "output_type": "stream",
     "text": [
      "\u001b[34mimport\u001b[39;49;00m \u001b[04m\u001b[36margparse\u001b[39;49;00m\n",
      "\u001b[34mimport\u001b[39;49;00m \u001b[04m\u001b[36mjson\u001b[39;49;00m\n",
      "\u001b[34mimport\u001b[39;49;00m \u001b[04m\u001b[36mos\u001b[39;49;00m\n",
      "\u001b[34mimport\u001b[39;49;00m \u001b[04m\u001b[36mpickle\u001b[39;49;00m\n",
      "\u001b[34mimport\u001b[39;49;00m \u001b[04m\u001b[36msys\u001b[39;49;00m\n",
      "\u001b[34mimport\u001b[39;49;00m \u001b[04m\u001b[36msagemaker_containers\u001b[39;49;00m\n",
      "\u001b[34mimport\u001b[39;49;00m \u001b[04m\u001b[36mpandas\u001b[39;49;00m \u001b[34mas\u001b[39;49;00m \u001b[04m\u001b[36mpd\u001b[39;49;00m\n",
      "\u001b[34mimport\u001b[39;49;00m \u001b[04m\u001b[36mnumpy\u001b[39;49;00m \u001b[34mas\u001b[39;49;00m \u001b[04m\u001b[36mnp\u001b[39;49;00m\n",
      "\u001b[34mimport\u001b[39;49;00m \u001b[04m\u001b[36mtorch\u001b[39;49;00m\n",
      "\u001b[34mimport\u001b[39;49;00m \u001b[04m\u001b[36mtorch\u001b[39;49;00m\u001b[04m\u001b[36m.\u001b[39;49;00m\u001b[04m\u001b[36mnn\u001b[39;49;00m \u001b[34mas\u001b[39;49;00m \u001b[04m\u001b[36mnn\u001b[39;49;00m\n",
      "\u001b[34mimport\u001b[39;49;00m \u001b[04m\u001b[36mtorch\u001b[39;49;00m\u001b[04m\u001b[36m.\u001b[39;49;00m\u001b[04m\u001b[36moptim\u001b[39;49;00m \u001b[34mas\u001b[39;49;00m \u001b[04m\u001b[36moptim\u001b[39;49;00m\n",
      "\u001b[34mimport\u001b[39;49;00m \u001b[04m\u001b[36mtorch\u001b[39;49;00m\u001b[04m\u001b[36m.\u001b[39;49;00m\u001b[04m\u001b[36mutils\u001b[39;49;00m\u001b[04m\u001b[36m.\u001b[39;49;00m\u001b[04m\u001b[36mdata\u001b[39;49;00m\n",
      "\n",
      "\u001b[34mfrom\u001b[39;49;00m \u001b[04m\u001b[36mmodel\u001b[39;49;00m \u001b[34mimport\u001b[39;49;00m LSTMClassifier\n",
      "\n",
      "\u001b[34mfrom\u001b[39;49;00m \u001b[04m\u001b[36mutils\u001b[39;49;00m \u001b[34mimport\u001b[39;49;00m review_to_words, convert_and_pad\n",
      "\n",
      "\u001b[34mdef\u001b[39;49;00m \u001b[32mmodel_fn\u001b[39;49;00m(model_dir):\n",
      "    \u001b[33m\"\"\"Load the PyTorch model from the `model_dir` directory.\"\"\"\u001b[39;49;00m\n",
      "    \u001b[36mprint\u001b[39;49;00m(\u001b[33m\"\u001b[39;49;00m\u001b[33mLoading model.\u001b[39;49;00m\u001b[33m\"\u001b[39;49;00m)\n",
      "\n",
      "    \u001b[37m# First, load the parameters used to create the model.\u001b[39;49;00m\n",
      "    model_info = {}\n",
      "    model_info_path = os.path.join(model_dir, \u001b[33m'\u001b[39;49;00m\u001b[33mmodel_info.pth\u001b[39;49;00m\u001b[33m'\u001b[39;49;00m)\n",
      "    \u001b[34mwith\u001b[39;49;00m \u001b[36mopen\u001b[39;49;00m(model_info_path, \u001b[33m'\u001b[39;49;00m\u001b[33mrb\u001b[39;49;00m\u001b[33m'\u001b[39;49;00m) \u001b[34mas\u001b[39;49;00m f:\n",
      "        model_info = torch.load(f)\n",
      "\n",
      "    \u001b[36mprint\u001b[39;49;00m(\u001b[33m\"\u001b[39;49;00m\u001b[33mmodel_info: \u001b[39;49;00m\u001b[33m{}\u001b[39;49;00m\u001b[33m\"\u001b[39;49;00m.format(model_info))\n",
      "\n",
      "    \u001b[37m# Determine the device and construct the model.\u001b[39;49;00m\n",
      "    device = torch.device(\u001b[33m\"\u001b[39;49;00m\u001b[33mcuda\u001b[39;49;00m\u001b[33m\"\u001b[39;49;00m \u001b[34mif\u001b[39;49;00m torch.cuda.is_available() \u001b[34melse\u001b[39;49;00m \u001b[33m\"\u001b[39;49;00m\u001b[33mcpu\u001b[39;49;00m\u001b[33m\"\u001b[39;49;00m)\n",
      "    model = LSTMClassifier(model_info[\u001b[33m'\u001b[39;49;00m\u001b[33membedding_dim\u001b[39;49;00m\u001b[33m'\u001b[39;49;00m], model_info[\u001b[33m'\u001b[39;49;00m\u001b[33mhidden_dim\u001b[39;49;00m\u001b[33m'\u001b[39;49;00m], model_info[\u001b[33m'\u001b[39;49;00m\u001b[33mvocab_size\u001b[39;49;00m\u001b[33m'\u001b[39;49;00m])\n",
      "\n",
      "    \u001b[37m# Load the store model parameters.\u001b[39;49;00m\n",
      "    model_path = os.path.join(model_dir, \u001b[33m'\u001b[39;49;00m\u001b[33mmodel.pth\u001b[39;49;00m\u001b[33m'\u001b[39;49;00m)\n",
      "    \u001b[34mwith\u001b[39;49;00m \u001b[36mopen\u001b[39;49;00m(model_path, \u001b[33m'\u001b[39;49;00m\u001b[33mrb\u001b[39;49;00m\u001b[33m'\u001b[39;49;00m) \u001b[34mas\u001b[39;49;00m f:\n",
      "        model.load_state_dict(torch.load(f))\n",
      "\n",
      "    \u001b[37m# Load the saved word_dict.\u001b[39;49;00m\n",
      "    word_dict_path = os.path.join(model_dir, \u001b[33m'\u001b[39;49;00m\u001b[33mword_dict.pkl\u001b[39;49;00m\u001b[33m'\u001b[39;49;00m)\n",
      "    \u001b[34mwith\u001b[39;49;00m \u001b[36mopen\u001b[39;49;00m(word_dict_path, \u001b[33m'\u001b[39;49;00m\u001b[33mrb\u001b[39;49;00m\u001b[33m'\u001b[39;49;00m) \u001b[34mas\u001b[39;49;00m f:\n",
      "        model.word_dict = pickle.load(f)\n",
      "\n",
      "    model.to(device).eval()\n",
      "\n",
      "    \u001b[36mprint\u001b[39;49;00m(\u001b[33m\"\u001b[39;49;00m\u001b[33mDone loading model.\u001b[39;49;00m\u001b[33m\"\u001b[39;49;00m)\n",
      "    \u001b[34mreturn\u001b[39;49;00m model\n",
      "\n",
      "\u001b[34mdef\u001b[39;49;00m \u001b[32minput_fn\u001b[39;49;00m(serialized_input_data, content_type):\n",
      "    \u001b[36mprint\u001b[39;49;00m(\u001b[33m'\u001b[39;49;00m\u001b[33mDeserializing the input data.\u001b[39;49;00m\u001b[33m'\u001b[39;49;00m)\n",
      "    \u001b[34mif\u001b[39;49;00m content_type == \u001b[33m'\u001b[39;49;00m\u001b[33mtext/plain\u001b[39;49;00m\u001b[33m'\u001b[39;49;00m:\n",
      "        data = serialized_input_data.decode(\u001b[33m'\u001b[39;49;00m\u001b[33mutf-8\u001b[39;49;00m\u001b[33m'\u001b[39;49;00m)\n",
      "        \u001b[34mreturn\u001b[39;49;00m data\n",
      "    \u001b[34mraise\u001b[39;49;00m \u001b[36mException\u001b[39;49;00m(\u001b[33m'\u001b[39;49;00m\u001b[33mRequested unsupported ContentType in content_type: \u001b[39;49;00m\u001b[33m'\u001b[39;49;00m + content_type)\n",
      "\n",
      "\u001b[34mdef\u001b[39;49;00m \u001b[32moutput_fn\u001b[39;49;00m(prediction_output, accept):\n",
      "    \u001b[36mprint\u001b[39;49;00m(\u001b[33m'\u001b[39;49;00m\u001b[33mSerializing the generated output.\u001b[39;49;00m\u001b[33m'\u001b[39;49;00m)\n",
      "    \u001b[34mreturn\u001b[39;49;00m \u001b[36mstr\u001b[39;49;00m(prediction_output)\n",
      "\n",
      "\u001b[34mdef\u001b[39;49;00m \u001b[32mpredict_fn\u001b[39;49;00m(input_data, model):\n",
      "    \u001b[36mprint\u001b[39;49;00m(\u001b[33m'\u001b[39;49;00m\u001b[33mInferring sentiment of input data.\u001b[39;49;00m\u001b[33m'\u001b[39;49;00m)\n",
      "\n",
      "    device = torch.device(\u001b[33m\"\u001b[39;49;00m\u001b[33mcuda\u001b[39;49;00m\u001b[33m\"\u001b[39;49;00m \u001b[34mif\u001b[39;49;00m torch.cuda.is_available() \u001b[34melse\u001b[39;49;00m \u001b[33m\"\u001b[39;49;00m\u001b[33mcpu\u001b[39;49;00m\u001b[33m\"\u001b[39;49;00m)\n",
      "    \n",
      "    \u001b[34mif\u001b[39;49;00m model.word_dict \u001b[35mis\u001b[39;49;00m \u001b[34mNone\u001b[39;49;00m:\n",
      "        \u001b[34mraise\u001b[39;49;00m \u001b[36mException\u001b[39;49;00m(\u001b[33m'\u001b[39;49;00m\u001b[33mModel has not been loaded properly, no word_dict.\u001b[39;49;00m\u001b[33m'\u001b[39;49;00m)\n",
      "    \n",
      "    \u001b[37m# TODO: Process input_data so that it is ready to be sent to our model.\u001b[39;49;00m\n",
      "    \u001b[37m#       You should produce two variables:\u001b[39;49;00m\n",
      "    \u001b[37m#         data_X   - A sequence of length 500 which represents the converted review\u001b[39;49;00m\n",
      "    \u001b[37m#         data_len - The length of the review\u001b[39;49;00m\n",
      " \n",
      "    data_X, data_len = convert_and_pad(model.word_dict, review_to_words(input_data))\n",
      "\n",
      "\n",
      "    \u001b[37m# Using data_X and data_len we construct an appropriate input tensor. Remember\u001b[39;49;00m\n",
      "    \u001b[37m# that our model expects input data of the form 'len, review[500]'.\u001b[39;49;00m\n",
      "    data_pack = np.hstack((data_len, data_X))\n",
      "    data_pack = data_pack.reshape(\u001b[34m1\u001b[39;49;00m, -\u001b[34m1\u001b[39;49;00m)\n",
      "    \n",
      "    data = torch.from_numpy(data_pack)\n",
      "    data = data.to(device)\n",
      "\n",
      "    \u001b[37m# Make sure to put the model into evaluation mode\u001b[39;49;00m\n",
      "    model.eval()\n",
      "\n",
      "    \u001b[37m# TODO: Compute the result of applying the model to the input data. The variable `result` should\u001b[39;49;00m\n",
      "    \u001b[37m#       be a numpy array which contains a single integer which is either 1 or 0\u001b[39;49;00m\n",
      "\n",
      "    \u001b[34mwith\u001b[39;49;00m torch.no_grad():\n",
      "        score = model.forward(data)\n",
      "    \u001b[36mprint\u001b[39;49;00m(score)\n",
      "    \n",
      "    \u001b[34mif\u001b[39;49;00m score <= \u001b[34m0.5\u001b[39;49;00m:\n",
      "        result = \u001b[34m0\u001b[39;49;00m\n",
      "    \u001b[34melse\u001b[39;49;00m:\n",
      "        result = \u001b[34m1\u001b[39;49;00m\n",
      "    \n",
      "    \n",
      "    \u001b[34mreturn\u001b[39;49;00m result\n"
     ]
    }
   ],
   "source": [
    "!pygmentize serve/predict.py"
   ]
  },
  {
   "cell_type": "markdown",
   "metadata": {},
   "source": [
    "As mentioned earlier, the `model_fn` method is the same as the one provided in the training code and the `input_fn` and `output_fn` methods are very simple and your task will be to complete the `predict_fn` method. Make sure that you save the completed file as `predict.py` in the `serve` directory.\n",
    "\n",
    "**TODO**: Complete the `predict_fn()` method in the `serve/predict.py` file."
   ]
  },
  {
   "cell_type": "markdown",
   "metadata": {},
   "source": [
    "### Deploying the model\n",
    "\n",
    "Now that the custom inference code has been written, we will create and deploy our model. To begin with, we need to construct a new PyTorchModel object which points to the model artifacts created during training and also points to the inference code that we wish to use. Then we can call the deploy method to launch the deployment container.\n",
    "\n",
    "**NOTE**: The default behaviour for a deployed PyTorch model is to assume that any input passed to the predictor is a `numpy` array. In our case we want to send a string so we need to construct a simple wrapper around the `RealTimePredictor` class to accomodate simple strings. In a more complicated situation you may want to provide a serialization object, for example if you wanted to sent image data."
   ]
  },
  {
   "cell_type": "code",
   "execution_count": 46,
   "metadata": {},
   "outputs": [
    {
     "name": "stderr",
     "output_type": "stream",
     "text": [
      "Parameter image will be renamed to image_uri in SageMaker Python SDK v2.\n",
      "'create_image_uri' will be deprecated in favor of 'ImageURIProvider' class in SageMaker Python SDK v2.\n"
     ]
    },
    {
     "name": "stdout",
     "output_type": "stream",
     "text": [
      "---------------!"
     ]
    }
   ],
   "source": [
    "from sagemaker.predictor import RealTimePredictor\n",
    "from sagemaker.pytorch import PyTorchModel\n",
    "\n",
    "class StringPredictor(RealTimePredictor):\n",
    "    def __init__(self, endpoint_name, sagemaker_session):\n",
    "        super(StringPredictor, self).__init__(endpoint_name, sagemaker_session, content_type='text/plain')\n",
    "\n",
    "model = PyTorchModel(model_data=estimator.model_data,\n",
    "                     role = role,\n",
    "                     framework_version='0.4.0',\n",
    "                     entry_point='predict.py',\n",
    "                     source_dir='serve',\n",
    "                     predictor_cls=StringPredictor)\n",
    "predictor = model.deploy(initial_instance_count=1, instance_type='ml.m4.xlarge')"
   ]
  },
  {
   "cell_type": "markdown",
   "metadata": {},
   "source": [
    "### Testing the model\n",
    "\n",
    "Now that we have deployed our model with the custom inference code, we should test to see if everything is working. Here we test our model by loading the first `250` positive and negative reviews and send them to the endpoint, then collect the results. The reason for only sending some of the data is that the amount of time it takes for our model to process the input and then perform inference is quite long and so testing the entire data set would be prohibitive."
   ]
  },
  {
   "cell_type": "code",
   "execution_count": 47,
   "metadata": {},
   "outputs": [],
   "source": [
    "import glob\n",
    "\n",
    "def test_reviews(data_dir='../data/aclImdb', stop=250):\n",
    "    \n",
    "    results = []\n",
    "    ground = []\n",
    "    \n",
    "    # We make sure to test both positive and negative reviews    \n",
    "    for sentiment in ['pos', 'neg']:\n",
    "        \n",
    "        path = os.path.join(data_dir, 'test', sentiment, '*.txt')\n",
    "        files = glob.glob(path)\n",
    "        \n",
    "        files_read = 0\n",
    "        \n",
    "        print('Starting ', sentiment, ' files')\n",
    "        \n",
    "        # Iterate through the files and send them to the predictor\n",
    "        for f in files:\n",
    "            with open(f) as review:\n",
    "                # First, we store the ground truth (was the review positive or negative)\n",
    "                if sentiment == 'pos':\n",
    "                    ground.append(1)\n",
    "                else:\n",
    "                    ground.append(0)\n",
    "                # Read in the review and convert to 'utf-8' for transmission via HTTP\n",
    "                review_input = review.read().encode('utf-8')\n",
    "                # Send the review to the predictor and store the results\n",
    "                results.append(float(predictor.predict(review_input)))\n",
    "                \n",
    "            # Sending reviews to our endpoint one at a time takes a while so we\n",
    "            # only send a small number of reviews\n",
    "            files_read += 1\n",
    "            if files_read == stop:\n",
    "                break\n",
    "            \n",
    "    return ground, results"
   ]
  },
  {
   "cell_type": "code",
   "execution_count": 48,
   "metadata": {},
   "outputs": [
    {
     "name": "stdout",
     "output_type": "stream",
     "text": [
      "Starting  pos  files\n",
      "Starting  neg  files\n"
     ]
    }
   ],
   "source": [
    "ground, results = test_reviews()"
   ]
  },
  {
   "cell_type": "code",
   "execution_count": 49,
   "metadata": {},
   "outputs": [
    {
     "data": {
      "text/plain": [
       "0.842"
      ]
     },
     "execution_count": 49,
     "metadata": {},
     "output_type": "execute_result"
    }
   ],
   "source": [
    "from sklearn.metrics import accuracy_score\n",
    "accuracy_score(ground, results)"
   ]
  },
  {
   "cell_type": "markdown",
   "metadata": {},
   "source": [
    "As an additional test, we can try sending the `test_review` that we looked at earlier."
   ]
  },
  {
   "cell_type": "code",
   "execution_count": 50,
   "metadata": {},
   "outputs": [
    {
     "data": {
      "text/plain": [
       "b'1'"
      ]
     },
     "execution_count": 50,
     "metadata": {},
     "output_type": "execute_result"
    }
   ],
   "source": [
    "predictor.predict(test_review)"
   ]
  },
  {
   "cell_type": "markdown",
   "metadata": {},
   "source": [
    "Now that we know our endpoint is working as expected, we can set up the web page that will interact with it. If you don't have time to finish the project now, make sure to skip down to the end of this notebook and shut down your endpoint. You can deploy it again when you come back."
   ]
  },
  {
   "cell_type": "markdown",
   "metadata": {},
   "source": [
    "## Step 7 (again): Use the model for the web app\n",
    "\n",
    "> **TODO:** This entire section and the next contain tasks for you to complete, mostly using the AWS console.\n",
    "\n",
    "So far we have been accessing our model endpoint by constructing a predictor object which uses the endpoint and then just using the predictor object to perform inference. What if we wanted to create a web app which accessed our model? The way things are set up currently makes that not possible since in order to access a SageMaker endpoint the app would first have to authenticate with AWS using an IAM role which included access to SageMaker endpoints. However, there is an easier way! We just need to use some additional AWS services.\n",
    "\n",
    "<img src=\"Web App Diagram.svg\">\n",
    "\n",
    "The diagram above gives an overview of how the various services will work together. On the far right is the model which we trained above and which is deployed using SageMaker. On the far left is our web app that collects a user's movie review, sends it off and expects a positive or negative sentiment in return.\n",
    "\n",
    "In the middle is where some of the magic happens. We will construct a Lambda function, which you can think of as a straightforward Python function that can be executed whenever a specified event occurs. We will give this function permission to send and recieve data from a SageMaker endpoint.\n",
    "\n",
    "Lastly, the method we will use to execute the Lambda function is a new endpoint that we will create using API Gateway. This endpoint will be a url that listens for data to be sent to it. Once it gets some data it will pass that data on to the Lambda function and then return whatever the Lambda function returns. Essentially it will act as an interface that lets our web app communicate with the Lambda function.\n",
    "\n",
    "### Setting up a Lambda function\n",
    "\n",
    "The first thing we are going to do is set up a Lambda function. This Lambda function will be executed whenever our public API has data sent to it. When it is executed it will receive the data, perform any sort of processing that is required, send the data (the review) to the SageMaker endpoint we've created and then return the result.\n",
    "\n",
    "#### Part A: Create an IAM Role for the Lambda function\n",
    "\n",
    "Since we want the Lambda function to call a SageMaker endpoint, we need to make sure that it has permission to do so. To do this, we will construct a role that we can later give the Lambda function.\n",
    "\n",
    "Using the AWS Console, navigate to the **IAM** page and click on **Roles**. Then, click on **Create role**. Make sure that the **AWS service** is the type of trusted entity selected and choose **Lambda** as the service that will use this role, then click **Next: Permissions**.\n",
    "\n",
    "In the search box type `sagemaker` and select the check box next to the **AmazonSageMakerFullAccess** policy. Then, click on **Next: Review**.\n",
    "\n",
    "Lastly, give this role a name. Make sure you use a name that you will remember later on, for example `LambdaSageMakerRole`. Then, click on **Create role**.\n",
    "\n",
    "#### Part B: Create a Lambda function\n",
    "\n",
    "Now it is time to actually create the Lambda function.\n",
    "\n",
    "Using the AWS Console, navigate to the AWS Lambda page and click on **Create a function**. When you get to the next page, make sure that **Author from scratch** is selected. Now, name your Lambda function, using a name that you will remember later on, for example `sentiment_analysis_func`. Make sure that the **Python 3.6** runtime is selected and then choose the role that you created in the previous part. Then, click on **Create Function**.\n",
    "\n",
    "On the next page you will see some information about the Lambda function you've just created. If you scroll down you should see an editor in which you can write the code that will be executed when your Lambda function is triggered. In our example, we will use the code below. \n",
    "\n",
    "```python\n",
    "# We need to use the low-level library to interact with SageMaker since the SageMaker API\n",
    "# is not available natively through Lambda.\n",
    "import boto3\n",
    "\n",
    "def lambda_handler(event, context):\n",
    "\n",
    "    # The SageMaker runtime is what allows us to invoke the endpoint that we've created.\n",
    "    runtime = boto3.Session().client('sagemaker-runtime')\n",
    "\n",
    "    # Now we use the SageMaker runtime to invoke our endpoint, sending the review we were given\n",
    "    response = runtime.invoke_endpoint(EndpointName = '**ENDPOINT NAME HERE**',    # The name of the endpoint we created\n",
    "                                       ContentType = 'text/plain',                 # The data format that is expected\n",
    "                                       Body = event['body'])                       # The actual review\n",
    "\n",
    "    # The response is an HTTP response whose body contains the result of our inference\n",
    "    result = response['Body'].read().decode('utf-8')\n",
    "\n",
    "    return {\n",
    "        'statusCode' : 200,\n",
    "        'headers' : { 'Content-Type' : 'text/plain', 'Access-Control-Allow-Origin' : '*' },\n",
    "        'body' : result\n",
    "    }\n",
    "```\n",
    "\n",
    "Once you have copy and pasted the code above into the Lambda code editor, replace the `**ENDPOINT NAME HERE**` portion with the name of the endpoint that we deployed earlier. You can determine the name of the endpoint using the code cell below."
   ]
  },
  {
   "cell_type": "code",
   "execution_count": 51,
   "metadata": {},
   "outputs": [
    {
     "data": {
      "text/plain": [
       "'sagemaker-pytorch-2021-05-13-14-51-24-427'"
      ]
     },
     "execution_count": 51,
     "metadata": {},
     "output_type": "execute_result"
    }
   ],
   "source": [
    "predictor.endpoint"
   ]
  },
  {
   "cell_type": "markdown",
   "metadata": {},
   "source": [
    "Once you have added the endpoint name to the Lambda function, click on **Save**. Your Lambda function is now up and running. Next we need to create a way for our web app to execute the Lambda function.\n",
    "\n",
    "### Setting up API Gateway\n",
    "\n",
    "Now that our Lambda function is set up, it is time to create a new API using API Gateway that will trigger the Lambda function we have just created.\n",
    "\n",
    "Using AWS Console, navigate to **Amazon API Gateway** and then click on **Get started**.\n",
    "\n",
    "On the next page, make sure that **New API** is selected and give the new api a name, for example, `sentiment_analysis_api`. Then, click on **Create API**.\n",
    "\n",
    "Now we have created an API, however it doesn't currently do anything. What we want it to do is to trigger the Lambda function that we created earlier.\n",
    "\n",
    "Select the **Actions** dropdown menu and click **Create Method**. A new blank method will be created, select its dropdown menu and select **POST**, then click on the check mark beside it.\n",
    "\n",
    "For the integration point, make sure that **Lambda Function** is selected and click on the **Use Lambda Proxy integration**. This option makes sure that the data that is sent to the API is then sent directly to the Lambda function with no processing. It also means that the return value must be a proper response object as it will also not be processed by API Gateway.\n",
    "\n",
    "Type the name of the Lambda function you created earlier into the **Lambda Function** text entry box and then click on **Save**. Click on **OK** in the pop-up box that then appears, giving permission to API Gateway to invoke the Lambda function you created.\n",
    "\n",
    "The last step in creating the API Gateway is to select the **Actions** dropdown and click on **Deploy API**. You will need to create a new Deployment stage and name it anything you like, for example `prod`.\n",
    "\n",
    "You have now successfully set up a public API to access your SageMaker model. Make sure to copy or write down the URL provided to invoke your newly created public API as this will be needed in the next step. This URL can be found at the top of the page, highlighted in blue next to the text **Invoke URL**."
   ]
  },
  {
   "cell_type": "markdown",
   "metadata": {},
   "source": [
    "## Step 4: Deploying our web app\n",
    "\n",
    "Now that we have a publicly available API, we can start using it in a web app. For our purposes, we have provided a simple static html file which can make use of the public api you created earlier.\n",
    "\n",
    "In the `website` folder there should be a file called `index.html`. Download the file to your computer and open that file up in a text editor of your choice. There should be a line which contains **\\*\\*REPLACE WITH PUBLIC API URL\\*\\***. Replace this string with the url that you wrote down in the last step and then save the file.\n",
    "\n",
    "Now, if you open `index.html` on your local computer, your browser will behave as a local web server and you can use the provided site to interact with your SageMaker model.\n",
    "\n",
    "If you'd like to go further, you can host this html file anywhere you'd like, for example using github or hosting a static site on Amazon's S3. Once you have done this you can share the link with anyone you'd like and have them play with it too!\n",
    "\n",
    "> **Important Note** In order for the web app to communicate with the SageMaker endpoint, the endpoint has to actually be deployed and running. This means that you are paying for it. Make sure that the endpoint is running when you want to use the web app but that you shut it down when you don't need it, otherwise you will end up with a surprisingly large AWS bill.\n",
    "\n",
    "**TODO:** Make sure that you include the edited `index.html` file in your project submission."
   ]
  },
  {
   "cell_type": "markdown",
   "metadata": {},
   "source": [
    "Now that your web app is working, trying playing around with it and see how well it works.\n",
    "\n",
    "**Question**: Give an example of a review that you entered into your web app. What was the predicted sentiment of your example review?"
   ]
  },
  {
   "attachments": {
    "Captura%20de%20ecra%CC%83%202021-05-13,%20a%CC%80s%2011.40.01.png": {
     "image/png": "[encoded data removed]"
    },
    "Captura%20de%20ecra%CC%83%202021-05-13,%20a%CC%80s%2011.40.17.png": {
     "image/png": "[encoded data removed]"
    }
   },
   "cell_type": "markdown",
   "metadata": {},
   "source": [
    "**Answer:**\n",
    "\n",
    "\"This movie is absolutely amazing!. Great actors and a beautiful storyline. I absolutely recommend.\"\n",
    "\n",
    "- Your review was POSITIVE!\n",
    "\n",
    "\n",
    "\"I didn't like this movie at all. The story is very convoluted and the actors are very bad. \n",
    "- Your review was NEGATIVE!\n",
    "\n",
    "\n",
    "![Captura%20de%20ecra%CC%83%202021-05-13,%20a%CC%80s%2011.40.17.png](attachment:Captura%20de%20ecra%CC%83%202021-05-13,%20a%CC%80s%2011.40.17.png)\n",
    "\n",
    "\n",
    "![Captura%20de%20ecra%CC%83%202021-05-13,%20a%CC%80s%2011.40.01.png](attachment:Captura%20de%20ecra%CC%83%202021-05-13,%20a%CC%80s%2011.40.01.png)"
   ]
  },
  {
   "cell_type": "markdown",
   "metadata": {},
   "source": [
    "### Delete the endpoint\n",
    "\n",
    "Remember to always shut down your endpoint if you are no longer using it. You are charged for the length of time that the endpoint is running so if you forget and leave it on you could end up with an unexpectedly large bill."
   ]
  },
  {
   "cell_type": "code",
   "execution_count": 52,
   "metadata": {},
   "outputs": [],
   "source": [
    "predictor.delete_endpoint()"
   ]
  },
  {
   "cell_type": "code",
   "execution_count": null,
   "metadata": {},
   "outputs": [],
   "source": []
  },
  {
   "cell_type": "code",
   "execution_count": null,
   "metadata": {},
   "outputs": [],
   "source": []
  },
  {
   "cell_type": "code",
   "execution_count": null,
   "metadata": {},
   "outputs": [],
   "source": [
    " "
   ]
  }
 ],
 "metadata": {
  "kernelspec": {
   "display_name": "conda_pytorch_p36",
   "language": "python",
   "name": "conda_pytorch_p36"
  },
  "language_info": {
   "codemirror_mode": {
    "name": "ipython",
    "version": 3
   },
   "file_extension": ".py",
   "mimetype": "text/x-python",
   "name": "python",
   "nbconvert_exporter": "python",
   "pygments_lexer": "ipython3",
   "version": "3.6.13"
  }
 },
 "nbformat": 4,
 "nbformat_minor": 2
}
